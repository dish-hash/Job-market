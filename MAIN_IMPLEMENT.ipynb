{
  "nbformat": 4,
  "nbformat_minor": 0,
  "metadata": {
    "colab": {
      "provenance": [],
      "authorship_tag": "ABX9TyO3WS/xyN1ebQUDHBMste+N",
      "include_colab_link": true
    },
    "kernelspec": {
      "name": "python3",
      "display_name": "Python 3"
    },
    "language_info": {
      "name": "python"
    }
  },
  "cells": [
    {
      "cell_type": "markdown",
      "metadata": {
        "id": "view-in-github",
        "colab_type": "text"
      },
      "source": [
        "<a href=\"https://colab.research.google.com/github/dish-hash/Job-market/blob/main/MAIN_IMPLEMENT.ipynb\" target=\"_parent\"><img src=\"https://colab.research.google.com/assets/colab-badge.svg\" alt=\"Open In Colab\"/></a>"
      ]
    },
    {
      "cell_type": "code",
      "source": [
        "!pip uninstall pyspark"
      ],
      "metadata": {
        "colab": {
          "base_uri": "https://localhost:8080/"
        },
        "id": "ByVmw-3IwHt8",
        "outputId": "f9ad61e6-d683-4c3f-c2f6-81fac4484718"
      },
      "execution_count": null,
      "outputs": [
        {
          "output_type": "stream",
          "name": "stdout",
          "text": [
            "Found existing installation: pyspark 3.5.3\n",
            "Uninstalling pyspark-3.5.3:\n",
            "  Would remove:\n",
            "    /usr/local/bin/beeline\n",
            "    /usr/local/bin/beeline.cmd\n",
            "    /usr/local/bin/docker-image-tool.sh\n",
            "    /usr/local/bin/find-spark-home\n",
            "    /usr/local/bin/find-spark-home.cmd\n",
            "    /usr/local/bin/find_spark_home.py\n",
            "    /usr/local/bin/load-spark-env.cmd\n",
            "    /usr/local/bin/load-spark-env.sh\n",
            "    /usr/local/bin/pyspark\n",
            "    /usr/local/bin/pyspark.cmd\n",
            "    /usr/local/bin/pyspark2.cmd\n",
            "    /usr/local/bin/run-example\n",
            "    /usr/local/bin/run-example.cmd\n",
            "    /usr/local/bin/spark-class\n",
            "    /usr/local/bin/spark-class.cmd\n",
            "    /usr/local/bin/spark-class2.cmd\n",
            "    /usr/local/bin/spark-connect-shell\n",
            "    /usr/local/bin/spark-shell\n",
            "    /usr/local/bin/spark-shell.cmd\n",
            "    /usr/local/bin/spark-shell2.cmd\n",
            "    /usr/local/bin/spark-sql\n",
            "    /usr/local/bin/spark-sql.cmd\n",
            "    /usr/local/bin/spark-sql2.cmd\n",
            "    /usr/local/bin/spark-submit\n",
            "    /usr/local/bin/spark-submit.cmd\n",
            "    /usr/local/bin/spark-submit2.cmd\n",
            "    /usr/local/bin/sparkR\n",
            "    /usr/local/bin/sparkR.cmd\n",
            "    /usr/local/bin/sparkR2.cmd\n",
            "    /usr/local/lib/python3.10/dist-packages/pyspark-3.5.3.dist-info/*\n",
            "    /usr/local/lib/python3.10/dist-packages/pyspark/*\n",
            "Proceed (Y/n)? y\n",
            "y\n",
            "  Successfully uninstalled pyspark-3.5.3\n"
          ]
        }
      ]
    },
    {
      "cell_type": "code",
      "source": [
        "!pip install pyspark"
      ],
      "metadata": {
        "colab": {
          "base_uri": "https://localhost:8080/"
        },
        "id": "RXLjXJ4swR29",
        "outputId": "cb1c7b32-71c5-43b9-d620-a2afb71af23c"
      },
      "execution_count": null,
      "outputs": [
        {
          "output_type": "stream",
          "name": "stdout",
          "text": [
            "Collecting pyspark\n",
            "  Downloading pyspark-3.5.3.tar.gz (317.3 MB)\n",
            "\u001b[2K     \u001b[90m━━━━━━━━━━━━━━━━━━━━━━━━━━━━━━━━━━━━━━━━\u001b[0m \u001b[32m317.3/317.3 MB\u001b[0m \u001b[31m5.0 MB/s\u001b[0m eta \u001b[36m0:00:00\u001b[0m\n",
            "\u001b[?25h  Preparing metadata (setup.py) ... \u001b[?25l\u001b[?25hdone\n",
            "Requirement already satisfied: py4j==0.10.9.7 in /usr/local/lib/python3.10/dist-packages (from pyspark) (0.10.9.7)\n",
            "Building wheels for collected packages: pyspark\n",
            "  Building wheel for pyspark (setup.py) ... \u001b[?25l\u001b[?25hdone\n",
            "  Created wheel for pyspark: filename=pyspark-3.5.3-py2.py3-none-any.whl size=317840625 sha256=9f4b2a85bc86b350fafec62f44c6d4637ea40468c3f6570f9740085cb9a246e1\n",
            "  Stored in directory: /root/.cache/pip/wheels/1b/3a/92/28b93e2fbfdbb07509ca4d6f50c5e407f48dce4ddbda69a4ab\n",
            "Successfully built pyspark\n",
            "Installing collected packages: pyspark\n",
            "Successfully installed pyspark-3.5.3\n"
          ]
        }
      ]
    },
    {
      "cell_type": "code",
      "source": [
        "from pyspark.sql import SparkSession\n",
        "from pyspark.ml.feature import VectorAssembler\n",
        "from pyspark.ml.regression import LinearRegression\n",
        "from pyspark.ml.classification import DecisionTreeClassifier, RandomForestClassifier\n",
        "from pyspark.ml.evaluation import RegressionEvaluator, MulticlassClassificationEvaluator"
      ],
      "metadata": {
        "id": "HkRPXLaUwf9r"
      },
      "execution_count": null,
      "outputs": []
    },
    {
      "cell_type": "code",
      "source": [
        "from google.colab import files\n",
        "uploaded = files.upload()"
      ],
      "metadata": {
        "colab": {
          "base_uri": "https://localhost:8080/",
          "height": 73
        },
        "id": "wutNXZ0cwjxG",
        "outputId": "e6d2ef5a-93e7-4048-82d2-281a0b3504eb"
      },
      "execution_count": null,
      "outputs": [
        {
          "output_type": "display_data",
          "data": {
            "text/plain": [
              "<IPython.core.display.HTML object>"
            ],
            "text/html": [
              "\n",
              "     <input type=\"file\" id=\"files-3ea30b4f-2fa3-45b0-8de6-32f76cfb7f45\" name=\"files[]\" multiple disabled\n",
              "        style=\"border:none\" />\n",
              "     <output id=\"result-3ea30b4f-2fa3-45b0-8de6-32f76cfb7f45\">\n",
              "      Upload widget is only available when the cell has been executed in the\n",
              "      current browser session. Please rerun this cell to enable.\n",
              "      </output>\n",
              "      <script>// Copyright 2017 Google LLC\n",
              "//\n",
              "// Licensed under the Apache License, Version 2.0 (the \"License\");\n",
              "// you may not use this file except in compliance with the License.\n",
              "// You may obtain a copy of the License at\n",
              "//\n",
              "//      http://www.apache.org/licenses/LICENSE-2.0\n",
              "//\n",
              "// Unless required by applicable law or agreed to in writing, software\n",
              "// distributed under the License is distributed on an \"AS IS\" BASIS,\n",
              "// WITHOUT WARRANTIES OR CONDITIONS OF ANY KIND, either express or implied.\n",
              "// See the License for the specific language governing permissions and\n",
              "// limitations under the License.\n",
              "\n",
              "/**\n",
              " * @fileoverview Helpers for google.colab Python module.\n",
              " */\n",
              "(function(scope) {\n",
              "function span(text, styleAttributes = {}) {\n",
              "  const element = document.createElement('span');\n",
              "  element.textContent = text;\n",
              "  for (const key of Object.keys(styleAttributes)) {\n",
              "    element.style[key] = styleAttributes[key];\n",
              "  }\n",
              "  return element;\n",
              "}\n",
              "\n",
              "// Max number of bytes which will be uploaded at a time.\n",
              "const MAX_PAYLOAD_SIZE = 100 * 1024;\n",
              "\n",
              "function _uploadFiles(inputId, outputId) {\n",
              "  const steps = uploadFilesStep(inputId, outputId);\n",
              "  const outputElement = document.getElementById(outputId);\n",
              "  // Cache steps on the outputElement to make it available for the next call\n",
              "  // to uploadFilesContinue from Python.\n",
              "  outputElement.steps = steps;\n",
              "\n",
              "  return _uploadFilesContinue(outputId);\n",
              "}\n",
              "\n",
              "// This is roughly an async generator (not supported in the browser yet),\n",
              "// where there are multiple asynchronous steps and the Python side is going\n",
              "// to poll for completion of each step.\n",
              "// This uses a Promise to block the python side on completion of each step,\n",
              "// then passes the result of the previous step as the input to the next step.\n",
              "function _uploadFilesContinue(outputId) {\n",
              "  const outputElement = document.getElementById(outputId);\n",
              "  const steps = outputElement.steps;\n",
              "\n",
              "  const next = steps.next(outputElement.lastPromiseValue);\n",
              "  return Promise.resolve(next.value.promise).then((value) => {\n",
              "    // Cache the last promise value to make it available to the next\n",
              "    // step of the generator.\n",
              "    outputElement.lastPromiseValue = value;\n",
              "    return next.value.response;\n",
              "  });\n",
              "}\n",
              "\n",
              "/**\n",
              " * Generator function which is called between each async step of the upload\n",
              " * process.\n",
              " * @param {string} inputId Element ID of the input file picker element.\n",
              " * @param {string} outputId Element ID of the output display.\n",
              " * @return {!Iterable<!Object>} Iterable of next steps.\n",
              " */\n",
              "function* uploadFilesStep(inputId, outputId) {\n",
              "  const inputElement = document.getElementById(inputId);\n",
              "  inputElement.disabled = false;\n",
              "\n",
              "  const outputElement = document.getElementById(outputId);\n",
              "  outputElement.innerHTML = '';\n",
              "\n",
              "  const pickedPromise = new Promise((resolve) => {\n",
              "    inputElement.addEventListener('change', (e) => {\n",
              "      resolve(e.target.files);\n",
              "    });\n",
              "  });\n",
              "\n",
              "  const cancel = document.createElement('button');\n",
              "  inputElement.parentElement.appendChild(cancel);\n",
              "  cancel.textContent = 'Cancel upload';\n",
              "  const cancelPromise = new Promise((resolve) => {\n",
              "    cancel.onclick = () => {\n",
              "      resolve(null);\n",
              "    };\n",
              "  });\n",
              "\n",
              "  // Wait for the user to pick the files.\n",
              "  const files = yield {\n",
              "    promise: Promise.race([pickedPromise, cancelPromise]),\n",
              "    response: {\n",
              "      action: 'starting',\n",
              "    }\n",
              "  };\n",
              "\n",
              "  cancel.remove();\n",
              "\n",
              "  // Disable the input element since further picks are not allowed.\n",
              "  inputElement.disabled = true;\n",
              "\n",
              "  if (!files) {\n",
              "    return {\n",
              "      response: {\n",
              "        action: 'complete',\n",
              "      }\n",
              "    };\n",
              "  }\n",
              "\n",
              "  for (const file of files) {\n",
              "    const li = document.createElement('li');\n",
              "    li.append(span(file.name, {fontWeight: 'bold'}));\n",
              "    li.append(span(\n",
              "        `(${file.type || 'n/a'}) - ${file.size} bytes, ` +\n",
              "        `last modified: ${\n",
              "            file.lastModifiedDate ? file.lastModifiedDate.toLocaleDateString() :\n",
              "                                    'n/a'} - `));\n",
              "    const percent = span('0% done');\n",
              "    li.appendChild(percent);\n",
              "\n",
              "    outputElement.appendChild(li);\n",
              "\n",
              "    const fileDataPromise = new Promise((resolve) => {\n",
              "      const reader = new FileReader();\n",
              "      reader.onload = (e) => {\n",
              "        resolve(e.target.result);\n",
              "      };\n",
              "      reader.readAsArrayBuffer(file);\n",
              "    });\n",
              "    // Wait for the data to be ready.\n",
              "    let fileData = yield {\n",
              "      promise: fileDataPromise,\n",
              "      response: {\n",
              "        action: 'continue',\n",
              "      }\n",
              "    };\n",
              "\n",
              "    // Use a chunked sending to avoid message size limits. See b/62115660.\n",
              "    let position = 0;\n",
              "    do {\n",
              "      const length = Math.min(fileData.byteLength - position, MAX_PAYLOAD_SIZE);\n",
              "      const chunk = new Uint8Array(fileData, position, length);\n",
              "      position += length;\n",
              "\n",
              "      const base64 = btoa(String.fromCharCode.apply(null, chunk));\n",
              "      yield {\n",
              "        response: {\n",
              "          action: 'append',\n",
              "          file: file.name,\n",
              "          data: base64,\n",
              "        },\n",
              "      };\n",
              "\n",
              "      let percentDone = fileData.byteLength === 0 ?\n",
              "          100 :\n",
              "          Math.round((position / fileData.byteLength) * 100);\n",
              "      percent.textContent = `${percentDone}% done`;\n",
              "\n",
              "    } while (position < fileData.byteLength);\n",
              "  }\n",
              "\n",
              "  // All done.\n",
              "  yield {\n",
              "    response: {\n",
              "      action: 'complete',\n",
              "    }\n",
              "  };\n",
              "}\n",
              "\n",
              "scope.google = scope.google || {};\n",
              "scope.google.colab = scope.google.colab || {};\n",
              "scope.google.colab._files = {\n",
              "  _uploadFiles,\n",
              "  _uploadFilesContinue,\n",
              "};\n",
              "})(self);\n",
              "</script> "
            ]
          },
          "metadata": {}
        },
        {
          "output_type": "stream",
          "name": "stdout",
          "text": [
            "Saving Naukri_Data_Scientist_and_Data_Analytics_Jobs_Data.csv to Naukri_Data_Scientist_and_Data_Analytics_Jobs_Data.csv\n"
          ]
        }
      ]
    },
    {
      "cell_type": "code",
      "source": [
        "from pyspark.sql import SparkSession\n",
        "\n",
        "# Initialize a Spark session\n",
        "spark = SparkSession.builder.appName(\"Job Market Data Analysis\").getOrCreate()\n",
        "\n",
        "# Load the CSV file (update the file path if needed)\n",
        "df = spark.read.option(\"header\", \"true\").csv(\"Naukri_Data_Scientist_and_Data_Analytics_Jobs_Data.csv\", inferSchema=True)\n",
        "\n",
        "# Show the first 5 rows\n",
        "df.show(5)\n",
        "\n",
        "# Check the schema\n",
        "df.printSchema()\n"
      ],
      "metadata": {
        "colab": {
          "base_uri": "https://localhost:8080/"
        },
        "id": "mCvtTUe3xFBz",
        "outputId": "a82d05af-caf2-4a1e-fd12-4bd03c1ce5a8"
      },
      "execution_count": null,
      "outputs": [
        {
          "output_type": "stream",
          "name": "stdout",
          "text": [
            "+--------------------+--------------------+-------------------+-------------+--------------------+--------------------+\n",
            "|          Job Titles|       Company Names|Experience Required|      Package|           Locations|              Skills|\n",
            "+--------------------+--------------------+-------------------+-------------+--------------------+--------------------+\n",
            "|Manager - Digital...|                Resy|            4-8 Yrs|Not disclosed|    Gurgaon/Gurugram|Product managemen...|\n",
            "|Data Science Doma...|            Coursera|           7-11 Yrs|Not disclosed|Kolkata, Mumbai, ...|Computer scienceC...|\n",
            "|GN - Strategy - M...|           Accenture|            1-3 Yrs|Not disclosed|Mumbai, Hyderabad...|Change management...|\n",
            "|Data Science Manager|Foreign IT Consul...|            2-6 Yrs|Not disclosed|    Gurgaon/Gurugram|Operations resear...|\n",
            "|Data Science Manager|Foreign IT Consul...|            3-6 Yrs|Not disclosed|               Noida|Data analysisEDCR...|\n",
            "+--------------------+--------------------+-------------------+-------------+--------------------+--------------------+\n",
            "only showing top 5 rows\n",
            "\n",
            "root\n",
            " |-- Job Titles: string (nullable = true)\n",
            " |-- Company Names: string (nullable = true)\n",
            " |-- Experience Required: string (nullable = true)\n",
            " |-- Package: string (nullable = true)\n",
            " |-- Locations: string (nullable = true)\n",
            " |-- Skills: string (nullable = true)\n",
            "\n"
          ]
        }
      ]
    },
    {
      "cell_type": "code",
      "source": [
        "from pyspark.sql.functions import regexp_replace, col, split\n",
        "from pyspark.ml.feature import StringIndexer, VectorAssembler\n",
        "from pyspark.ml import Pipeline\n",
        "\n",
        "# Clean the dataset by replacing null values and cleaning text\n",
        "df_cleaned = df.na.fill(\"Unknown\").withColumn(\"Skills\", regexp_replace(col(\"Skills\"), \"[^a-zA-Z, ]\", \"\"))\n",
        "\n",
        "# Index categorical columns (Job Titles and Locations) and transform them into numerical labels\n",
        "indexer_job = StringIndexer(inputCol=\"Job Titles\", outputCol=\"JobIndex\")\n",
        "indexer_loc = StringIndexer(inputCol=\"Locations\", outputCol=\"LocIndex\")\n",
        "\n",
        "# Assemble the features (Skills, Experience, Locations)\n",
        "assembler = VectorAssembler(inputCols=[\"LocIndex\"], outputCol=\"features\")\n",
        "\n",
        "# Create a pipeline for indexing and assembling the data\n",
        "pipeline = Pipeline(stages=[indexer_job, indexer_loc, assembler])\n",
        "\n",
        "# Fit the pipeline to the data\n",
        "model = pipeline.fit(df_cleaned)\n",
        "df_transformed = model.transform(df_cleaned)\n",
        "\n",
        "# Show the transformed data\n",
        "df_transformed.select(\"Job Titles\", \"Locations\", \"features\", \"JobIndex\").show(5)\n"
      ],
      "metadata": {
        "colab": {
          "base_uri": "https://localhost:8080/"
        },
        "id": "EF25tI5jxL4A",
        "outputId": "bab3a386-1dce-4062-f890-6e9c1924f682"
      },
      "execution_count": null,
      "outputs": [
        {
          "output_type": "stream",
          "name": "stdout",
          "text": [
            "+--------------------+--------------------+--------+--------+\n",
            "|          Job Titles|           Locations|features|JobIndex|\n",
            "+--------------------+--------------------+--------+--------+\n",
            "|Manager - Digital...|    Gurgaon/Gurugram|   [3.0]|  2196.0|\n",
            "|Data Science Doma...|Kolkata, Mumbai, ...|   [6.0]|  1622.0|\n",
            "|GN - Strategy - M...|Mumbai, Hyderabad...|  [90.0]|   404.0|\n",
            "|Data Science Manager|    Gurgaon/Gurugram|   [3.0]|    54.0|\n",
            "|Data Science Manager|               Noida|   [8.0]|    54.0|\n",
            "+--------------------+--------------------+--------+--------+\n",
            "only showing top 5 rows\n",
            "\n"
          ]
        }
      ]
    },
    {
      "cell_type": "code",
      "source": [
        "df = df.na.drop()  # Drop rows with any null values\n"
      ],
      "metadata": {
        "id": "a2FbL3oMHIEE"
      },
      "execution_count": null,
      "outputs": []
    },
    {
      "cell_type": "code",
      "source": [
        "from pyspark.sql.functions import regexp_replace, col\n",
        "\n",
        "# Remove any non-numeric characters from the 'Package' column and create 'salary_clean'\n",
        "df = df.withColumn(\"salary_clean\", regexp_replace(col(\"Package\"), \"[^0-9]\", \"\").cast(\"integer\"))\n"
      ],
      "metadata": {
        "id": "svQBYu0JHK4h"
      },
      "execution_count": null,
      "outputs": []
    },
    {
      "cell_type": "code",
      "source": [
        "from pyspark.sql.functions import lit\n",
        "\n",
        "# Assuming data is from June 2023\n",
        "df = df.withColumn(\"year\", lit(2023))\n",
        "df = df.withColumn(\"month\", lit(6))\n",
        "\n",
        "df.show(5)\n"
      ],
      "metadata": {
        "colab": {
          "base_uri": "https://localhost:8080/"
        },
        "id": "6W1Gzp6HIhV-",
        "outputId": "e234b34e-e071-4f89-82d9-5466fee6bf3e"
      },
      "execution_count": null,
      "outputs": [
        {
          "output_type": "stream",
          "name": "stdout",
          "text": [
            "+--------------------+--------------------+-------------------+-------------+--------------------+--------------------+------------+------------+----+-----+\n",
            "|          Job Titles|       Company Names|Experience Required|      Package|           Locations|              Skills|salary_clean|job_category|year|month|\n",
            "+--------------------+--------------------+-------------------+-------------+--------------------+--------------------+------------+------------+----+-----+\n",
            "|Manager - Digital...|                Resy|            4-8 Yrs|Not disclosed|    Gurgaon/Gurugram|Product managemen...|        NULL|       Other|2023|    6|\n",
            "|Data Science Doma...|            Coursera|           7-11 Yrs|Not disclosed|Kolkata, Mumbai, ...|Computer scienceC...|        NULL|       Other|2023|    6|\n",
            "|GN - Strategy - M...|           Accenture|            1-3 Yrs|Not disclosed|Mumbai, Hyderabad...|Change management...|        NULL|       Other|2023|    6|\n",
            "|Data Science Manager|Foreign IT Consul...|            2-6 Yrs|Not disclosed|    Gurgaon/Gurugram|Operations resear...|        NULL|       Other|2023|    6|\n",
            "|Data Science Manager|Foreign IT Consul...|            3-6 Yrs|Not disclosed|               Noida|Data analysisEDCR...|        NULL|       Other|2023|    6|\n",
            "+--------------------+--------------------+-------------------+-------------+--------------------+--------------------+------------+------------+----+-----+\n",
            "only showing top 5 rows\n",
            "\n"
          ]
        }
      ]
    },
    {
      "cell_type": "code",
      "source": [
        "from pyspark.sql.functions import explode, split\n",
        "\n",
        "# Split the 'Skills' column into individual skills, and explode into separate rows\n",
        "skills_df = df.withColumn(\"skill\", explode(split(col(\"Skills\"), \",\")))\n",
        "\n",
        "# Group by skill and count the occurrences to find the most demanded skills\n",
        "skill_demand = skills_df.groupBy(\"skill\").count().orderBy(\"count\", ascending=False)\n",
        "skill_demand.show(10)  # Show top 10 most demanded skills\n"
      ],
      "metadata": {
        "colab": {
          "base_uri": "https://localhost:8080/"
        },
        "id": "xVbb76LVI1xj",
        "outputId": "e101e854-4b96-4351-e416-d6c7472e0821"
      },
      "execution_count": null,
      "outputs": [
        {
          "output_type": "stream",
          "name": "stdout",
          "text": [
            "+--------------------+-----+\n",
            "|               skill|count|\n",
            "+--------------------+-----+\n",
            "|                None|  183|\n",
            "|Business AnalystB...|   38|\n",
            "|Business Analystb...|   32|\n",
            "|Product managemen...|   14|\n",
            "|Junior StaffBusin...|   14|\n",
            "|Business Analystp...|   14|\n",
            "|data cleansingRep...|   12|\n",
            "|Supply chainAutom...|   11|\n",
            "|ProcurementData a...|   11|\n",
            "|Data analysisAuto...|   10|\n",
            "+--------------------+-----+\n",
            "only showing top 10 rows\n",
            "\n"
          ]
        }
      ]
    },
    {
      "cell_type": "code",
      "source": [
        "# Group by 'job_category' and count the number of jobs in each category\n",
        "job_category_trend = df.groupBy(\"job_category\").count().orderBy(\"count\", ascending=False)\n",
        "job_category_trend.show()\n"
      ],
      "metadata": {
        "colab": {
          "base_uri": "https://localhost:8080/"
        },
        "id": "tumjT-ZBI8m8",
        "outputId": "d6d106b4-180d-4160-d221-d25baebbce0f"
      },
      "execution_count": null,
      "outputs": [
        {
          "output_type": "stream",
          "name": "stdout",
          "text": [
            "+-----------------+-----+\n",
            "|     job_category|count|\n",
            "+-----------------+-----+\n",
            "|            Other|17820|\n",
            "|   Data Scientist| 1700|\n",
            "|Software Engineer|  123|\n",
            "+-----------------+-----+\n",
            "\n"
          ]
        }
      ]
    },
    {
      "cell_type": "code",
      "source": [
        "# Filter out rows where salary_clean is NULL\n",
        "salary_df = df.filter(df.salary_clean.isNotNull())\n",
        "\n",
        "# Group by 'job_category' to find average salary for each category\n",
        "salary_trend = salary_df.groupBy(\"job_category\").avg(\"salary_clean\").orderBy(\"avg(salary_clean)\", ascending=False)\n",
        "salary_trend.show()\n"
      ],
      "metadata": {
        "colab": {
          "base_uri": "https://localhost:8080/"
        },
        "id": "EbTaXlybJB3l",
        "outputId": "952bb102-6b58-4eba-9c8d-ab9ab4b72719"
      },
      "execution_count": null,
      "outputs": [
        {
          "output_type": "stream",
          "name": "stdout",
          "text": [
            "+-----------------+------------------+\n",
            "|     job_category| avg(salary_clean)|\n",
            "+-----------------+------------------+\n",
            "|   Data Scientist|416060.37096774194|\n",
            "|            Other| 309925.5460526316|\n",
            "|Software Engineer| 92605.55555555556|\n",
            "+-----------------+------------------+\n",
            "\n"
          ]
        }
      ]
    },
    {
      "cell_type": "code",
      "source": [
        "# Group by 'year' and 'month' to see how many jobs were posted in June 2023 (since all are 2023-06)\n",
        "time_trend = df.groupBy(\"year\", \"month\").count().orderBy(\"year\", \"month\")\n",
        "time_trend.show()\n"
      ],
      "metadata": {
        "colab": {
          "base_uri": "https://localhost:8080/"
        },
        "id": "VfcuAiiJJJ1S",
        "outputId": "ecf82416-dfa4-4de5-8499-d2f620ea376f"
      },
      "execution_count": null,
      "outputs": [
        {
          "output_type": "stream",
          "name": "stdout",
          "text": [
            "+----+-----+-----+\n",
            "|year|month|count|\n",
            "+----+-----+-----+\n",
            "|2023|    6|19643|\n",
            "+----+-----+-----+\n",
            "\n"
          ]
        }
      ]
    },
    {
      "cell_type": "code",
      "source": [
        "# Explode skills column and group by job category and skill\n",
        "skill_demand_by_category = skills_df.groupBy(\"job_category\", \"skill\").count().orderBy(\"count\", ascending=False)\n",
        "skill_demand_by_category.show(10)  # Show top 10 demanded skills by job category\n"
      ],
      "metadata": {
        "colab": {
          "base_uri": "https://localhost:8080/"
        },
        "id": "VrAVaqT8JO3D",
        "outputId": "a242e8f7-6b2d-4d50-cd80-08739de68913"
      },
      "execution_count": null,
      "outputs": [
        {
          "output_type": "stream",
          "name": "stdout",
          "text": [
            "+------------+--------------------+-----+\n",
            "|job_category|               skill|count|\n",
            "+------------+--------------------+-----+\n",
            "|       Other|                None|  182|\n",
            "|       Other|Business AnalystB...|   38|\n",
            "|       Other|Business Analystb...|   32|\n",
            "|       Other|Product managemen...|   14|\n",
            "|       Other|Business Analystp...|   14|\n",
            "|       Other|Junior StaffBusin...|   13|\n",
            "|       Other|ProcurementData a...|   11|\n",
            "|       Other|data cleansingRep...|   11|\n",
            "|       Other|Data analysisAuto...|   10|\n",
            "|       Other|Help DeskCustomer...|   10|\n",
            "+------------+--------------------+-----+\n",
            "only showing top 10 rows\n",
            "\n"
          ]
        }
      ]
    },
    {
      "cell_type": "code",
      "source": [
        "import pandas as pd\n",
        "import matplotlib.pyplot as plt\n",
        "\n",
        "# Convert to Pandas DataFrame after grouping by job_category\n",
        "job_category_trends = df.groupBy(\"job_category\").count().orderBy(\"count\", ascending=False)\n",
        "job_category_trends_pd = job_category_trends.toPandas()\n",
        "\n",
        "# Plot job category trends\n",
        "plt.figure(figsize=(10,6))\n",
        "plt.bar(job_category_trends_pd['job_category'], job_category_trends_pd['count'])\n",
        "plt.xlabel('Job Category')\n",
        "plt.ylabel('Number of Job Postings')\n",
        "plt.title('Job Postings by Category')\n",
        "plt.xticks(rotation=45)  # Rotate x labels for better readability\n",
        "plt.tight_layout()\n",
        "plt.show()\n"
      ],
      "metadata": {
        "colab": {
          "base_uri": "https://localhost:8080/",
          "height": 607
        },
        "id": "H4ocXlqzJzfY",
        "outputId": "2a53a4aa-c800-4eb5-8c26-19b78974ed8b"
      },
      "execution_count": null,
      "outputs": [
        {
          "output_type": "display_data",
          "data": {
            "text/plain": [
              "<Figure size 1000x600 with 1 Axes>"
            ],
            "image/png": "[encoded data removed]"
          },
          "metadata": {}
        }
      ]
    },
    {
      "cell_type": "code",
      "source": [
        "# Check unique values in 'Experience Required'\n",
        "print(df['Experience Required'].unique())\n"
      ],
      "metadata": {
        "colab": {
          "base_uri": "https://localhost:8080/"
        },
        "id": "v35sdW9cy9Yv",
        "outputId": "73c82e38-1017-4292-aa16-541b9f751ace"
      },
      "execution_count": null,
      "outputs": [
        {
          "output_type": "stream",
          "name": "stdout",
          "text": [
            "['1-3 Yrs' '5-8 Yrs' '3-5 Yrs' '0-1 Yrs']\n"
          ]
        }
      ]
    },
    {
      "cell_type": "code",
      "source": [
        "from pyspark.sql.functions import when, col\n",
        "\n",
        "# Categorizing job titles into predefined categories based on the 'Job Titles' column\n",
        "df = df.withColumn(\"job_category\",\n",
        "                   when(col(\"Job Titles\").like(\"%Data Scientist%\"), \"Data Scientist\")\n",
        "                   .when(col(\"Job Titles\").like(\"%Software Engineer%\"), \"Software Engineer\")\n",
        "                   .otherwise(\"Other\"))\n"
      ],
      "metadata": {
        "id": "nbRIK0X_Hp2H"
      },
      "execution_count": null,
      "outputs": []
    },
    {
      "cell_type": "code",
      "source": [
        "import pandas as pd\n",
        "from sklearn.model_selection import train_test_split\n",
        "from sklearn.ensemble import RandomForestClassifier\n",
        "from sklearn.metrics import accuracy_score, confusion_matrix\n",
        "\n",
        "# Step 1: Load your dataset\n",
        "df = pd.read_csv('Naukri_Data_Scientist_and_Data_Analytics_Jobs_Data.csv')\n",
        "\n",
        "# Step 2: Preprocess your data\n",
        "# Handle missing values\n",
        "df['Experience Required'] = df['Experience Required'].fillna('0-0 Yrs')  # Fill missing experience\n",
        "df['Skills'] = df['Skills'].fillna('Unknown')  # Fill missing skills\n",
        "\n",
        "# Check unique values in 'Experience Required'\n",
        "print(\"Unique values in 'Experience Required':\")\n",
        "print(df['Experience Required'].unique())\n",
        "\n",
        "# Update mapping based on unique values\n",
        "experience_mapping = {\n",
        "    '0-1 Yrs': 0,\n",
        "    '1-3 Yrs': 1,\n",
        "    '3-5 Yrs': 2,\n",
        "    '5-8 Yrs': 3,\n",
        "    '8+ Yrs': 4,\n",
        "    '4-8 Yrs': 4,  # Example addition\n",
        "    '2-6 Yrs': 2,  # Example addition\n",
        "    '7-11 Yrs': 5, # Example addition\n",
        "    '6-10 Yrs': 5, # Example addition\n",
        "}\n",
        "\n",
        "# Create a new column for numeric experience\n",
        "df['Experience_numeric'] = df['Experience Required'].map(experience_mapping)\n",
        "\n",
        "# Check for NaN after mapping\n",
        "if df['Experience_numeric'].isnull().any():\n",
        "    print(\"NaN values found in Experience_numeric column. Please check the mapping.\")\n",
        "    print(df[df['Experience_numeric'].isnull()])\n",
        "\n",
        "# Convert 'Skills' to a numeric format\n",
        "df['Skills_encoded'] = pd.factorize(df['Skills'])[0]\n",
        "\n",
        "# Step 3: Check for NaN in other columns\n",
        "print(\"Checking for NaN values in the dataset:\")\n",
        "print(df.isnull().sum())  # This will show you how many NaN values are in each column\n",
        "\n",
        "# Drop rows with any NaN values\n",
        "df.dropna(inplace=True)\n",
        "\n",
        "# Step 4: Define features (X) and target (y)\n",
        "X = df[['Experience_numeric', 'Skills_encoded']]  # Use numeric features\n",
        "y = df['Package']  # Define your target variable\n",
        "\n",
        "# Step 5: Split the data into training and testing sets\n",
        "X_train, X_test, y_train, y_test = train_test_split(X, y, test_size=0.3, random_state=42)\n",
        "\n",
        "# Step 6: Initialize a classifier\n",
        "clf = RandomForestClassifier()\n",
        "\n",
        "# Step 7: Train the model\n",
        "clf.fit(X_train, y_train)\n",
        "\n",
        "# Step 8: Make predictions\n",
        "y_pred = clf.predict(X_test)\n",
        "\n",
        "# Step 9: Calculate Accuracy\n",
        "accuracy = accuracy_score(y_test, y_pred)\n",
        "print(f\"Accuracy: {accuracy:.4f}\")\n",
        "\n",
        "# Step 10: Calculate Confusion Matrix for Multi-class classification\n",
        "cm = confusion_matrix(y_test, y_pred)\n",
        "\n",
        "# Print Confusion Matrix\n",
        "print(\"Confusion Matrix:\")\n",
        "print(cm)\n",
        "\n",
        "# If you need to calculate specificity for each class, you can do this:\n",
        "specificities = {}\n",
        "for i in range(cm.shape[0]):  # Iterate over each class\n",
        "    tn = cm.sum() - cm[i, :].sum() - cm[:, i].sum() + cm[i, i]  # True negatives\n",
        "    fp = cm[:, i].sum() - cm[i, i]  # False positives\n",
        "    specificity = tn / (tn + fp) if (tn + fp) != 0 else 0\n",
        "    specificities[i] = specificity\n",
        "\n",
        "# Print Specificities\n",
        "for class_index, specificity in specificities.items():\n",
        "    print(f\"Specificity for class {class_index}: {specificity:.4f}\")\n"
      ],
      "metadata": {
        "colab": {
          "base_uri": "https://localhost:8080/"
        },
        "id": "w_pbVk-vzC6F",
        "outputId": "790d9616-6898-4f49-89bd-99a01bbc905b"
      },
      "execution_count": null,
      "outputs": [
        {
          "output_type": "stream",
          "name": "stdout",
          "text": [
            "Unique values in 'Experience Required':\n",
            "['4-8 Yrs' '7-11 Yrs' '1-3 Yrs' '2-6 Yrs' '3-6 Yrs' '6-10 Yrs' '8-10 Yrs'\n",
            " '12-15 Yrs' '1-4 Yrs' '5-10 Yrs' '2-4 Yrs' '2-5 Yrs' '0-0 Yrs' '5-8 Yrs'\n",
            " '3-7 Yrs' '6-11 Yrs' '15-24 Yrs' '12-20 Yrs' '5-6 Yrs' '3-5 Yrs'\n",
            " '5-9 Yrs' '8-13 Yrs' '4-7 Yrs' '3-8 Yrs' '6-8 Yrs' '10-12 Yrs' '2-7 Yrs'\n",
            " '8-11 Yrs' '1-5 Yrs' '10-15 Yrs' '4-5 Yrs' '4-9 Yrs' '11-17 Yrs'\n",
            " '0-1 Yrs' '1-2 Yrs' '10-13 Yrs' '6-9 Yrs' '7-7 Yrs' '5-7 Yrs' '7-10 Yrs'\n",
            " '3-9 Yrs' '7-12 Yrs' '8-12 Yrs' '20-27 Yrs' '2-3 Yrs' '1-7 Yrs'\n",
            " '10-20 Yrs' '11-14 Yrs' '0-2 Yrs' '1-6 Yrs' '0-5 Yrs' '15-17 Yrs'\n",
            " '4-10 Yrs' '2-8 Yrs' '0-3 Yrs' '4-6 Yrs' '15-20 Yrs' '0-4 Yrs' '8-15 Yrs'\n",
            " '12-14 Yrs' '5-12 Yrs' '3-4 Yrs' '7-8 Yrs' '2-2 Yrs' '9-12 Yrs'\n",
            " '14-24 Yrs' '0-8 Yrs' '9-14 Yrs' '6-12 Yrs' '12-16 Yrs' '5-11 Yrs'\n",
            " '8-9 Yrs' '7-9 Yrs' '0-7 Yrs' '0-6 Yrs' '10-18 Yrs' '0-14 Yrs' '4-12 Yrs'\n",
            " '9-10 Yrs' '10-16 Yrs' '10-14 Yrs' '15-18 Yrs' '8-14 Yrs' '2-10 Yrs'\n",
            " '1-10 Yrs' '7-14 Yrs' '16-25 Yrs' '9-11 Yrs' '3-12 Yrs' '7-15 Yrs'\n",
            " '2-9 Yrs' '3-10 Yrs' '10-17 Yrs' '12-22 Yrs' '3-3 Yrs' '15-16 Yrs'\n",
            " '0-12 Yrs' '14-17 Yrs' '9-13 Yrs' '14-15 Yrs' '11-15 Yrs' '11-12 Yrs'\n",
            " '2-15 Yrs' '2-14 Yrs' '5-15 Yrs' '6-7 Yrs' '1-12 Yrs' '11-19 Yrs'\n",
            " '12-18 Yrs' '3-14 Yrs' '13-17 Yrs' '8-8 Yrs' '13-16 Yrs' '13-18 Yrs'\n",
            " '18-27 Yrs' '1-1 Yrs' '1-8 Yrs' '6-15 Yrs' '7-13 Yrs' '5-13 Yrs'\n",
            " '4-14 Yrs' '11-13 Yrs' '4-13 Yrs' '13-20 Yrs' '12-17 Yrs' '10-19 Yrs'\n",
            " '11-18 Yrs' '4-4 Yrs' '4-11 Yrs' '14-16 Yrs' '3-15 Yrs' '9-9 Yrs'\n",
            " '10-11 Yrs' '18-20 Yrs' '15-25 Yrs' '2-12 Yrs' '3-11 Yrs' '6-14 Yrs'\n",
            " '4-16 Yrs' '18-22 Yrs' '5-16 Yrs' '11-21 Yrs' '8-16 Yrs' '7-17 Yrs'\n",
            " '16-18 Yrs' '14-18 Yrs' '20-30 Yrs' '5-5 Yrs' '15-22 Yrs' '0-15 Yrs'\n",
            " '0-9 Yrs' '20-23 Yrs' '0-10 Yrs' '15-19 Yrs' '11-20 Yrs' '0-18 Yrs'\n",
            " '14-20 Yrs' '19-24 Yrs' '17-20 Yrs' '1-9 Yrs' '2-16 Yrs' '7-20 Yrs'\n",
            " '9-16 Yrs' '11-16 Yrs' '18-28 Yrs' '15-21 Yrs' '20-25 Yrs' '18-21 Yrs']\n",
            "NaN values found in Experience_numeric column. Please check the mapping.\n",
            "                                              Job Titles  \\\n",
            "4                                   Data Science Manager   \n",
            "6                                                    NaN   \n",
            "7                                                    NaN   \n",
            "8      Analyst- Data Science (Python, Microsoft Power...   \n",
            "9                   Data Science - Senior Data Scientist   \n",
            "...                                                  ...   \n",
            "19644                     Sr Consultant - Internal Audit   \n",
            "19645                                Snowflake Developer   \n",
            "19646                  Sr Power BI Development Architect   \n",
            "19647     Lead Engineer 2 - Scrum Master/Project Manager   \n",
            "19648                                   DotNet Developer   \n",
            "\n",
            "                   Company Names Experience Required        Package  \\\n",
            "4      Foreign IT Consulting MNC             3-6 Yrs  Not disclosed   \n",
            "6                            NaN            8-10 Yrs  Not disclosed   \n",
            "7                            NaN           12-15 Yrs  Not disclosed   \n",
            "8               AMERICAN EXPRESS             3-6 Yrs  Not disclosed   \n",
            "9                          Paytm             1-4 Yrs  Not disclosed   \n",
            "...                          ...                 ...            ...   \n",
            "19644                         EY             0-0 Yrs            NaN   \n",
            "19645       Coders Brain Pvt Ltd             0-0 Yrs            NaN   \n",
            "19646       Coders Brain Pvt Ltd             0-0 Yrs            NaN   \n",
            "19647                Pepsi Foods             0-0 Yrs            NaN   \n",
            "19648                       Olam             0-0 Yrs            NaN   \n",
            "\n",
            "                                               Locations  \\\n",
            "4                                                  Noida   \n",
            "6                                 Hyderabad/Secunderabad   \n",
            "7                          Hybrid - Noida, Uttar Pradesh   \n",
            "8                                       Gurgaon/Gurugram   \n",
            "9      Mumbai, Hyderabad/Secunderabad, Pune, Gurgaon/...   \n",
            "...                                                  ...   \n",
            "19644                                                NaN   \n",
            "19645                                                NaN   \n",
            "19646                                                NaN   \n",
            "19647                                                NaN   \n",
            "19648                                                NaN   \n",
            "\n",
            "                                                  Skills  Experience_numeric  \n",
            "4      Data analysisEDCRisk assessmentrisk modelingMa...                 NaN  \n",
            "6      Statistical programmingData analysisAutomation...                 NaN  \n",
            "7      NLPData SciencePredictive ModelingTeam Managem...                 NaN  \n",
            "8      Operations researchSASFinanceProject managemen...                 NaN  \n",
            "9      Data Sciencedata analyticsSASData miningPython...                 NaN  \n",
            "...                                                  ...                 ...  \n",
            "19644                                            Unknown                 NaN  \n",
            "19645                                            Unknown                 NaN  \n",
            "19646                                            Unknown                 NaN  \n",
            "19647                                            Unknown                 NaN  \n",
            "19648                                            Unknown                 NaN  \n",
            "\n",
            "[15701 rows x 7 columns]\n",
            "Checking for NaN values in the dataset:\n",
            "Job Titles               127\n",
            "Company Names            127\n",
            "Experience Required        0\n",
            "Package                  127\n",
            "Locations                 60\n",
            "Skills                     0\n",
            "Experience_numeric     15701\n",
            "Skills_encoded             0\n",
            "dtype: int64\n",
            "Accuracy: 0.8336\n",
            "Confusion Matrix:\n",
            "[[  0   0   0 ...   0   0   0]\n",
            " [  0   0   0 ...   0   0   0]\n",
            " [  0   0   0 ...   0   1   0]\n",
            " ...\n",
            " [  0   0   0 ...   0   1   0]\n",
            " [  1   1   0 ...   0 987  15]\n",
            " [  0   0   0 ...   0   6   0]]\n",
            "Specificity for class 0: 0.9992\n",
            "Specificity for class 1: 0.9992\n",
            "Specificity for class 2: 1.0000\n",
            "Specificity for class 3: 0.9992\n",
            "Specificity for class 4: 1.0000\n",
            "Specificity for class 5: 0.9992\n",
            "Specificity for class 6: 1.0000\n",
            "Specificity for class 7: 0.9975\n",
            "Specificity for class 8: 0.9975\n",
            "Specificity for class 9: 1.0000\n",
            "Specificity for class 10: 1.0000\n",
            "Specificity for class 11: 1.0000\n",
            "Specificity for class 12: 0.9992\n",
            "Specificity for class 13: 0.9992\n",
            "Specificity for class 14: 1.0000\n",
            "Specificity for class 15: 1.0000\n",
            "Specificity for class 16: 1.0000\n",
            "Specificity for class 17: 1.0000\n",
            "Specificity for class 18: 0.9992\n",
            "Specificity for class 19: 0.9932\n",
            "Specificity for class 20: 0.9992\n",
            "Specificity for class 21: 0.9983\n",
            "Specificity for class 22: 0.9992\n",
            "Specificity for class 23: 0.9992\n",
            "Specificity for class 24: 1.0000\n",
            "Specificity for class 25: 1.0000\n",
            "Specificity for class 26: 1.0000\n",
            "Specificity for class 27: 0.9992\n",
            "Specificity for class 28: 0.9992\n",
            "Specificity for class 29: 0.9983\n",
            "Specificity for class 30: 0.9983\n",
            "Specificity for class 31: 0.9992\n",
            "Specificity for class 32: 1.0000\n",
            "Specificity for class 33: 1.0000\n",
            "Specificity for class 34: 1.0000\n",
            "Specificity for class 35: 1.0000\n",
            "Specificity for class 36: 0.9992\n",
            "Specificity for class 37: 0.9983\n",
            "Specificity for class 38: 0.9992\n",
            "Specificity for class 39: 1.0000\n",
            "Specificity for class 40: 0.9975\n",
            "Specificity for class 41: 1.0000\n",
            "Specificity for class 42: 0.9992\n",
            "Specificity for class 43: 0.9992\n",
            "Specificity for class 44: 1.0000\n",
            "Specificity for class 45: 1.0000\n",
            "Specificity for class 46: 1.0000\n",
            "Specificity for class 47: 0.9983\n",
            "Specificity for class 48: 0.9992\n",
            "Specificity for class 49: 0.9992\n",
            "Specificity for class 50: 1.0000\n",
            "Specificity for class 51: 1.0000\n",
            "Specificity for class 52: 1.0000\n",
            "Specificity for class 53: 0.9983\n",
            "Specificity for class 54: 0.9992\n",
            "Specificity for class 55: 1.0000\n",
            "Specificity for class 56: 1.0000\n",
            "Specificity for class 57: 1.0000\n",
            "Specificity for class 58: 1.0000\n",
            "Specificity for class 59: 1.0000\n",
            "Specificity for class 60: 0.9975\n",
            "Specificity for class 61: 0.9983\n",
            "Specificity for class 62: 1.0000\n",
            "Specificity for class 63: 0.9983\n",
            "Specificity for class 64: 0.9958\n",
            "Specificity for class 65: 1.0000\n",
            "Specificity for class 66: 1.0000\n",
            "Specificity for class 67: 0.9983\n",
            "Specificity for class 68: 0.9992\n",
            "Specificity for class 69: 1.0000\n",
            "Specificity for class 70: 0.9992\n",
            "Specificity for class 71: 0.9992\n",
            "Specificity for class 72: 0.9992\n",
            "Specificity for class 73: 1.0000\n",
            "Specificity for class 74: 0.9983\n",
            "Specificity for class 75: 0.9975\n",
            "Specificity for class 76: 1.0000\n",
            "Specificity for class 77: 0.9992\n",
            "Specificity for class 78: 0.9992\n",
            "Specificity for class 79: 1.0000\n",
            "Specificity for class 80: 0.9992\n",
            "Specificity for class 81: 1.0000\n",
            "Specificity for class 82: 1.0000\n",
            "Specificity for class 83: 0.9983\n",
            "Specificity for class 84: 0.9992\n",
            "Specificity for class 85: 1.0000\n",
            "Specificity for class 86: 0.9992\n",
            "Specificity for class 87: 0.9958\n",
            "Specificity for class 88: 1.0000\n",
            "Specificity for class 89: 0.9983\n",
            "Specificity for class 90: 1.0000\n",
            "Specificity for class 91: 0.9992\n",
            "Specificity for class 92: 1.0000\n",
            "Specificity for class 93: 0.9983\n",
            "Specificity for class 94: 0.9975\n",
            "Specificity for class 95: 0.9983\n",
            "Specificity for class 96: 1.0000\n",
            "Specificity for class 97: 1.0000\n",
            "Specificity for class 98: 0.9992\n",
            "Specificity for class 99: 0.9992\n",
            "Specificity for class 100: 1.0000\n",
            "Specificity for class 101: 0.0957\n",
            "Specificity for class 102: 0.9864\n"
          ]
        }
      ]
    },
    {
      "cell_type": "code",
      "source": [
        "import matplotlib.pyplot as plt\n",
        "import pandas as pd\n",
        "\n",
        "# Convert predictions to Pandas DataFrame for visualization\n",
        "predictions_pd = predictions.select(\"PackageAvg\", \"prediction\").toPandas()\n",
        "\n",
        "# Scatter plot of Actual vs Predicted\n",
        "plt.figure(figsize=(10, 6))\n",
        "plt.scatter(predictions_pd[\"PackageAvg\"], predictions_pd[\"prediction\"], color='blue', alpha=0.5)\n",
        "plt.plot([predictions_pd[\"PackageAvg\"].min(), predictions_pd[\"PackageAvg\"].max()],\n",
        "         [predictions_pd[\"PackageAvg\"].min(), predictions_pd[\"PackageAvg\"].max()],\n",
        "         color='red', linestyle='--')  # Line of equality\n",
        "plt.title(\"Actual vs. Predicted Package\")\n",
        "plt.xlabel(\"Actual Package\")\n",
        "plt.ylabel(\"Predicted Package\")\n",
        "plt.grid()\n",
        "plt.show()\n"
      ],
      "metadata": {
        "colab": {
          "base_uri": "https://localhost:8080/",
          "height": 564
        },
        "id": "t0EGp0lozK6L",
        "outputId": "f670cd21-0669-4b02-f7ce-7ec37ebceb2e"
      },
      "execution_count": null,
      "outputs": [
        {
          "output_type": "display_data",
          "data": {
            "text/plain": [
              "<Figure size 1000x600 with 1 Axes>"
            ],
            "image/png": "[encoded data removed]"
          },
          "metadata": {}
        }
      ]
    },
    {
      "cell_type": "code",
      "source": [],
      "metadata": {
        "id": "yvzdXiTbgtTb"
      },
      "execution_count": null,
      "outputs": []
    },
    {
      "cell_type": "code",
      "source": [
        "# Calculate residuals\n",
        "predictions_pd['residuals'] = predictions_pd['PackageAvg'] - predictions_pd['prediction']\n",
        "\n",
        "# Residual plot\n",
        "plt.figure(figsize=(10, 6))\n",
        "plt.scatter(predictions_pd['prediction'], predictions_pd['residuals'], color='blue', alpha=0.5)\n",
        "plt.axhline(y=0, color='red', linestyle='--')  # Horizontal line at 0\n",
        "plt.title(\"Residual Plot\")\n",
        "plt.xlabel(\"Predicted Package\")\n",
        "plt.ylabel(\"Residuals\")\n",
        "plt.grid()\n",
        "plt.show()\n"
      ],
      "metadata": {
        "colab": {
          "base_uri": "https://localhost:8080/",
          "height": 564
        },
        "id": "UpjTX3OlzSFA",
        "outputId": "9065c0c5-ee65-4aee-aae2-13924dc164a7"
      },
      "execution_count": null,
      "outputs": [
        {
          "output_type": "display_data",
          "data": {
            "text/plain": [
              "<Figure size 1000x600 with 1 Axes>"
            ],
            "image/png": "[encoded data removed]"
          },
          "metadata": {}
        }
      ]
    },
    {
      "cell_type": "code",
      "source": [
        "import pandas as pd\n",
        "import matplotlib.pyplot as plt\n",
        "import seaborn as sns\n",
        "\n",
        "# Convert the PySpark DataFrame to Pandas DataFrame for easier plotting\n",
        "df_sentiment_pandas = df_sentiment.select(\"sentiment\").toPandas()\n",
        "\n",
        "# Plot the distribution of sentiment scores\n",
        "plt.figure(figsize=(10, 6))\n",
        "sns.histplot(df_sentiment_pandas['sentiment'], bins=20, kde=True)\n",
        "plt.title('Distribution of Sentiment Scores')\n",
        "plt.xlabel('Sentiment Score')\n",
        "plt.ylabel('Frequency')\n",
        "plt.show()\n"
      ],
      "metadata": {
        "colab": {
          "base_uri": "https://localhost:8080/",
          "height": 564
        },
        "id": "ShmrBaT228wm",
        "outputId": "4c8ef469-8106-4c6c-b4ce-b6d3adf744c6"
      },
      "execution_count": null,
      "outputs": [
        {
          "output_type": "display_data",
          "data": {
            "text/plain": [
              "<Figure size 1000x600 with 1 Axes>"
            ],
            "image/png": "[encoded data removed]"
          },
          "metadata": {}
        }
      ]
    },
    {
      "cell_type": "code",
      "source": [
        "# Step 1: Identify the top 10 most frequent experience levels\n",
        "top_10_experience = df['Experience Required'].value_counts().nlargest(10).index.tolist()\n",
        "\n",
        "# Step 2: Create a mapping for these top 10 values\n",
        "top_experience_mapping = {\n",
        "    '4-8 Yrs': 4,\n",
        "    '1-3 Yrs': 1,\n",
        "    '2-6 Yrs': 2,\n",
        "    '3-6 Yrs': 3,\n",
        "    '6-10 Yrs': 6,\n",
        "    '8-10 Yrs': 8,\n",
        "    '12-15 Yrs': 12,\n",
        "    '5-10 Yrs': 5,\n",
        "    '2-4 Yrs': 2,\n",
        "    '0-0 Yrs': 0,\n",
        "}\n",
        "\n",
        "# Step 3: Map only the top 10 experience levels and leave others as NaN\n",
        "df['Experience_numeric'] = df['Experience Required'].map(top_experience_mapping)\n",
        "\n",
        "# Step 4: Check for NaN values after mapping\n",
        "if df['Experience_numeric'].isnull().any():\n",
        "    print(\"NaN values found in Experience_numeric column after mapping top 10 values. Please check the mapping.\")\n",
        "    print(df[df['Experience_numeric'].isnull()])\n",
        "\n",
        "# Optional: Check the distribution of Experience_numeric\n",
        "print(df['Experience_numeric'].value_counts())\n"
      ],
      "metadata": {
        "colab": {
          "base_uri": "https://localhost:8080/"
        },
        "id": "iIKJBlJmzqvv",
        "outputId": "fe2b1ea7-e239-493b-ab9c-eec7193dc36d"
      },
      "execution_count": null,
      "outputs": [
        {
          "output_type": "stream",
          "name": "stdout",
          "text": [
            "NaN values found in Experience_numeric column after mapping top 10 values. Please check the mapping.\n",
            "                                              Job Titles  \\\n",
            "1                            Data Science Domain Manager   \n",
            "16                 Data Science & Analytics Professional   \n",
            "28                    Senior Data Analyst (Data Science)   \n",
            "29                    Lead Data Scientist - Data Science   \n",
            "34                   Statistical Data Sciences Lead (IC)   \n",
            "...                                                  ...   \n",
            "19430                 Lead Analyst - Aerospace & Defense   \n",
            "19440  Associate | Analyst | Senior Analyst, Public P...   \n",
            "19443                                            ANALYST   \n",
            "19446                            Market Research Analyst   \n",
            "19451                      Analyst- Revenue Optimization   \n",
            "\n",
            "                             Company Names Experience Required        Package  \\\n",
            "1                                 Coursera            7-11 Yrs  Not disclosed   \n",
            "16                    Onetick Technologies             5-8 Yrs         Unpaid   \n",
            "28                     Trigyn Technologies             5-8 Yrs  Not disclosed   \n",
            "29     Reserve Bank Information Technology             3-5 Yrs  Not disclosed   \n",
            "34                                  Pfizer             5-8 Yrs  Not disclosed   \n",
            "...                                    ...                 ...            ...   \n",
            "19430                         BIS Research             5-8 Yrs  Not disclosed   \n",
            "19440                      The Quantum Hub             3-5 Yrs  Not disclosed   \n",
            "19443             PRS Legislative Research             5-8 Yrs  Not disclosed   \n",
            "19446                   Refract Consulting             3-5 Yrs  Not disclosed   \n",
            "19451        Datability Solutions | iZooto             3-5 Yrs  Not disclosed   \n",
            "\n",
            "                                               Locations  \\\n",
            "1      Kolkata, Mumbai, New Delhi, Hyderabad/Secunder...   \n",
            "16                                     Mumbai, New Delhi   \n",
            "28                                                Remote   \n",
            "29                                               Chennai   \n",
            "34              Kolkata, West Bengal, Mumbai (All Areas)   \n",
            "...                                                  ...   \n",
            "19430                                   Gurgaon/Gurugram   \n",
            "19440                                              Delhi   \n",
            "19443                                   Gurgaon/Gurugram   \n",
            "19446                                              Noida   \n",
            "19451                                     Delhi, Gurgaon   \n",
            "\n",
            "                                                  Skills  Experience_numeric  \\\n",
            "1      Computer scienceContent strategyData analysisU...                 NaN   \n",
            "16     Data analysisdata scienceAnalyticalMachine lea...                 NaN   \n",
            "28     Statistical programmingCareer developmentQCRes...                 NaN   \n",
            "29     AnalystHealth insuranceDigital mediacustomer a...                 NaN   \n",
            "34     Analytical skillsdeep learningAnalystPublishin...                 NaN   \n",
            "...                                                  ...                 ...   \n",
            "19430  Data analyticsBusiness intelligenceSeniorAnaly...                 NaN   \n",
            "19440  BackendTalent acquisitionData modelingSocial m...                 NaN   \n",
            "19443  Relationship managementGraphicsMedia managemen...                 NaN   \n",
            "19446  Team managementExcelLitigationIntellectual pro...                 NaN   \n",
            "19451  ProcurementAutomationpower bimicrosoft azureAp...                 NaN   \n",
            "\n",
            "       Skills_encoded  \n",
            "1                   1  \n",
            "16                 15  \n",
            "28                 27  \n",
            "29                 28  \n",
            "34                 33  \n",
            "...               ...  \n",
            "19430            3830  \n",
            "19440           12947  \n",
            "19443           12950  \n",
            "19446            4679  \n",
            "19451            3833  \n",
            "\n",
            "[1920 rows x 8 columns]\n",
            "Experience_numeric\n",
            "1.0    789\n",
            "2.0    534\n",
            "4.0    482\n",
            "6.0    221\n",
            "Name: count, dtype: int64\n"
          ]
        }
      ]
    },
    {
      "cell_type": "code",
      "source": [
        "# Expand your mapping to include additional values\n",
        "additional_experience_mapping = {\n",
        "    '0-1 Yrs': 0,\n",
        "    '1-3 Yrs': 2,  # Assuming 1-3 Yrs maps to 2\n",
        "    '2-6 Yrs': 4,  # Assuming 2-6 Yrs maps to 4\n",
        "    '3-5 Yrs': 4,  # Assuming 3-5 Yrs maps to 4\n",
        "    '4-8 Yrs': 6,  # Assuming 4-8 Yrs maps to 6\n",
        "    '5-8 Yrs': 6,  # Assuming 5-8 Yrs maps to 6\n",
        "    '6-10 Yrs': 8,  # Assuming 6-10 Yrs maps to 8\n",
        "    '7-11 Yrs': 8,  # Assuming 7-11 Yrs maps to 8\n",
        "}\n",
        "\n",
        "# Combine the existing mapping with the new values\n",
        "complete_experience_mapping = {**experience_mapping, **additional_experience_mapping}\n",
        "\n",
        "# Map the experience values again\n",
        "df['Experience_numeric'] = df['Experience Required'].map(complete_experience_mapping)\n",
        "\n",
        "# Check for NaN values after mapping again\n",
        "if df['Experience_numeric'].isnull().any():\n",
        "    print(\"NaN values found in Experience_numeric column after updating the mapping. Please check the mapping.\")\n",
        "    print(df[df['Experience_numeric'].isnull()])\n",
        "\n",
        "# Check the distribution of Experience_numeric again\n",
        "print(df['Experience_numeric'].value_counts())\n"
      ],
      "metadata": {
        "colab": {
          "base_uri": "https://localhost:8080/"
        },
        "id": "kFs7ump50PHI",
        "outputId": "c7a6c8c3-90b7-4b20-e947-93c85f98f0a9"
      },
      "execution_count": null,
      "outputs": [
        {
          "output_type": "stream",
          "name": "stdout",
          "text": [
            "Experience_numeric\n",
            "4    1439\n",
            "6    1083\n",
            "2     789\n",
            "0     347\n",
            "8     288\n",
            "Name: count, dtype: int64\n"
          ]
        }
      ]
    },
    {
      "cell_type": "code",
      "source": [
        "print(df.columns)\n"
      ],
      "metadata": {
        "colab": {
          "base_uri": "https://localhost:8080/"
        },
        "id": "TQ-HqAqS0xEX",
        "outputId": "92cfedea-a08a-446c-b028-4d0b6ba0a45a"
      },
      "execution_count": null,
      "outputs": [
        {
          "output_type": "stream",
          "name": "stdout",
          "text": [
            "Index(['Job Titles', 'Company Names', 'Experience Required', 'Package',\n",
            "       'Locations', 'Skills', 'Experience_numeric', 'Skills_encoded'],\n",
            "      dtype='object')\n"
          ]
        }
      ]
    },
    {
      "cell_type": "code",
      "source": [
        "import pandas as pd\n",
        "from sklearn.metrics import confusion_matrix, accuracy_score\n",
        "\n",
        "# Define the experience mapping again if needed\n",
        "experience_mapping = {\n",
        "    '0-0 Yrs': 0,\n",
        "    '0-1 Yrs': 1,\n",
        "    '1-2 Yrs': 2,\n",
        "    '1-3 Yrs': 3,\n",
        "    '1-4 Yrs': 4,\n",
        "    '1-5 Yrs': 5,\n",
        "    '1-6 Yrs': 6,\n",
        "    '1-7 Yrs': 7,\n",
        "    '1-8 Yrs': 8,\n",
        "    '1-9 Yrs': 9,\n",
        "    '2-2 Yrs': 2,\n",
        "    '2-3 Yrs': 3,\n",
        "    '2-4 Yrs': 4,\n",
        "    '2-5 Yrs': 5,\n",
        "    '2-6 Yrs': 6,\n",
        "    '2-7 Yrs': 7,\n",
        "    '2-8 Yrs': 8,\n",
        "    '2-9 Yrs': 9,\n",
        "    '2-10 Yrs': 10,\n",
        "    '3-3 Yrs': 3,\n",
        "    '3-4 Yrs': 4,\n",
        "    '3-5 Yrs': 5,\n",
        "    '3-6 Yrs': 6,\n",
        "    '3-7 Yrs': 7,\n",
        "    '3-8 Yrs': 8,\n",
        "    '3-9 Yrs': 9,\n",
        "    '3-10 Yrs': 10,\n",
        "    '4-4 Yrs': 4,\n",
        "    '4-5 Yrs': 5,\n",
        "    '4-6 Yrs': 6,\n",
        "    '4-7 Yrs': 7,\n",
        "    '4-8 Yrs': 8,\n",
        "    '4-9 Yrs': 9,\n",
        "    '4-10 Yrs': 10,\n",
        "    '5-5 Yrs': 5,\n",
        "    '5-6 Yrs': 6,\n",
        "    '5-7 Yrs': 7,\n",
        "    '5-8 Yrs': 8,\n",
        "    '5-9 Yrs': 9,\n",
        "    '5-10 Yrs': 10,\n",
        "    '6-6 Yrs': 6,\n",
        "    '6-7 Yrs': 7,\n",
        "    '6-8 Yrs': 8,\n",
        "    '6-9 Yrs': 9,\n",
        "    '6-10 Yrs': 10,\n",
        "    '7-7 Yrs': 7,\n",
        "    '7-8 Yrs': 8,\n",
        "    '7-9 Yrs': 9,\n",
        "    '7-10 Yrs': 10,\n",
        "    '8-8 Yrs': 8,\n",
        "    '8-9 Yrs': 9,\n",
        "    '8-10 Yrs': 10,\n",
        "    '9-9 Yrs': 9,\n",
        "    '9-10 Yrs': 10,\n",
        "    '10-11 Yrs': 10,\n",
        "    '10-12 Yrs': 10,\n",
        "}\n",
        "\n",
        "# Map the Experience Required to numeric values\n",
        "df['True_Experience'] = df['Experience Required'].map(experience_mapping)\n",
        "\n",
        "# Check for NaN in the True Experience column\n",
        "if df['True_Experience'].isnull().any():\n",
        "    print(\"NaN values found in True_Experience column after mapping. Please check the mapping.\")\n",
        "    print(df[df['True_Experience'].isnull()])\n",
        "\n",
        "# Create a confusion matrix\n",
        "cm = confusion_matrix(df['True_Experience'], df['Experience_numeric'])\n",
        "\n",
        "# Calculate accuracy\n",
        "accuracy = accuracy_score(df['True_Experience'], df['Experience_numeric'])\n",
        "\n",
        "# Create a DataFrame for the confusion matrix\n",
        "cm_df = pd.DataFrame(cm, index=[f'True {i}' for i in range(len(cm))],\n",
        "                     columns=[f'Predicted {i}' for i in range(len(cm))])\n",
        "\n",
        "# Calculate specificity for each class\n",
        "specificity = {}\n",
        "for i in range(len(cm)):\n",
        "    true_negative = cm.sum() - cm[i, :].sum() - cm[:, i].sum() + cm[i, i]\n",
        "    total_negative = cm.sum() - cm[:, i].sum()\n",
        "    specificity[i] = true_negative / total_negative if total_negative > 0 else 0\n",
        "\n",
        "# Create a DataFrame for specificity\n",
        "specificity_df = pd.DataFrame(list(specificity.items()), columns=['Class', 'Specificity'])\n",
        "\n",
        "# Display the results\n",
        "print(\"Confusion Matrix:\\n\", cm_df)\n",
        "print(\"\\nAccuracy: {:.2f}\".format(accuracy))\n",
        "print(\"\\nSpecificity:\\n\", specificity_df)\n"
      ],
      "metadata": {
        "colab": {
          "base_uri": "https://localhost:8080/",
          "height": 1000
        },
        "id": "tQdT59Sv0-at",
        "outputId": "71add5b2-217f-483a-9987-7984d9be4079"
      },
      "execution_count": null,
      "outputs": [
        {
          "output_type": "stream",
          "name": "stdout",
          "text": [
            "NaN values found in True_Experience column after mapping. Please check the mapping.\n",
            "                                              Job Titles  \\\n",
            "1                            Data Science Domain Manager   \n",
            "166              NLP - (Senior Analyst / Data Scientist)   \n",
            "261                                  Senior Data Analyst   \n",
            "341    Senior Project Associate - Data Solutions Arch...   \n",
            "428                 Principal Statistical Data Scientist   \n",
            "...                                                  ...   \n",
            "17221                                Murex BackOffice BA   \n",
            "17319                            Senior Business Analyst   \n",
            "17485      Senior Data Scientist and Lead Data Scientist   \n",
            "17811           Software Engineer - Full Stack Developer   \n",
            "17898     R&R - ETS - Oracle Security - Senior Associate   \n",
            "\n",
            "                         Company Names Experience Required        Package  \\\n",
            "1                             Coursera            7-11 Yrs  Not disclosed   \n",
            "166                    Tiger Analytics            7-11 Yrs  Not disclosed   \n",
            "261                             Luxoft            7-11 Yrs  Not disclosed   \n",
            "341    World Resources Institute (WRI)            7-11 Yrs  Not disclosed   \n",
            "428                             Pfizer            7-11 Yrs  Not disclosed   \n",
            "...                                ...                 ...            ...   \n",
            "17221  Accolite Software India Pvt Ltd            7-11 Yrs         Unpaid   \n",
            "17319                Jindal Intellicom            7-11 Yrs  Not disclosed   \n",
            "17485    Jupitice Justice Technologies            7-11 Yrs  Not disclosed   \n",
            "17811                         OnionDev            7-11 Yrs  Not disclosed   \n",
            "17898                              PwC            7-11 Yrs  Not disclosed   \n",
            "\n",
            "                                               Locations  \\\n",
            "1      Kolkata, Mumbai, New Delhi, Hyderabad/Secunder...   \n",
            "166                                           Coimbatore   \n",
            "261    Udaipur, Rajasthan, Kolkata, West Bengal, Bang...   \n",
            "341                                    Jaipur, Rajasthan   \n",
            "428                               Hyderabad/Secunderabad   \n",
            "...                                                  ...   \n",
            "17221                               Noida, Uttar Pradesh   \n",
            "17319                                        Navi Mumbai   \n",
            "17485                                          New Delhi   \n",
            "17811  Kolkata, Mumbai, New Delhi, Hyderabad/Secunder...   \n",
            "17898                                            Chennai   \n",
            "\n",
            "                                                  Skills  Experience_numeric  \\\n",
            "1      Computer scienceContent strategyData analysisU...                   8   \n",
            "166    IT servicesText miningData analysisRFSimulatio...                   8   \n",
            "261    deep learningComputer visionProduct engineerin...                   8   \n",
            "341                        data sciencePythonDataScience                   8   \n",
            "428    Climate ChangeESGSustainabilitySustainable Dev...                   8   \n",
            "...                                                  ...                 ...   \n",
            "17221  Data analysisGoogle AnalyticsSASData managemen...                   8   \n",
            "17319  UnixIT servicesPerformance tuningLinuxNeural n...                   8   \n",
            "17485  AssuranceGITMySQLMachine learningJIRAGamingTea...                   8   \n",
            "17811  ProcurementCVSData analysisPDFConflict managem...                   8   \n",
            "17898  data cleansingData analysisData migrationSAP E...                   8   \n",
            "\n",
            "       Skills_encoded  True_Experience  \n",
            "1                   1              NaN  \n",
            "166               158              NaN  \n",
            "261               250              NaN  \n",
            "341               326              NaN  \n",
            "428               409              NaN  \n",
            "...               ...              ...  \n",
            "17221            8874              NaN  \n",
            "17319           11939              NaN  \n",
            "17485           12049              NaN  \n",
            "17811           12273              NaN  \n",
            "17898           12348              NaN  \n",
            "\n",
            "[67 rows x 9 columns]\n"
          ]
        },
        {
          "output_type": "stream",
          "name": "stderr",
          "text": [
            "/usr/local/lib/python3.10/dist-packages/sklearn/utils/_array_api.py:390: RuntimeWarning: invalid value encountered in cast\n",
            "  return x.astype(dtype, copy=copy, casting=casting)\n"
          ]
        },
        {
          "output_type": "error",
          "ename": "ValueError",
          "evalue": "Input y_true contains NaN.",
          "traceback": [
            "\u001b[0;31m---------------------------------------------------------------------------\u001b[0m",
            "\u001b[0;31mValueError\u001b[0m                                Traceback (most recent call last)",
            "\u001b[0;32m<ipython-input-22-fe59558f7db1>\u001b[0m in \u001b[0;36m<cell line: 73>\u001b[0;34m()\u001b[0m\n\u001b[1;32m     71\u001b[0m \u001b[0;34m\u001b[0m\u001b[0m\n\u001b[1;32m     72\u001b[0m \u001b[0;31m# Create a confusion matrix\u001b[0m\u001b[0;34m\u001b[0m\u001b[0;34m\u001b[0m\u001b[0m\n\u001b[0;32m---> 73\u001b[0;31m \u001b[0mcm\u001b[0m \u001b[0;34m=\u001b[0m \u001b[0mconfusion_matrix\u001b[0m\u001b[0;34m(\u001b[0m\u001b[0mdf\u001b[0m\u001b[0;34m[\u001b[0m\u001b[0;34m'True_Experience'\u001b[0m\u001b[0;34m]\u001b[0m\u001b[0;34m,\u001b[0m \u001b[0mdf\u001b[0m\u001b[0;34m[\u001b[0m\u001b[0;34m'Experience_numeric'\u001b[0m\u001b[0;34m]\u001b[0m\u001b[0;34m)\u001b[0m\u001b[0;34m\u001b[0m\u001b[0;34m\u001b[0m\u001b[0m\n\u001b[0m\u001b[1;32m     74\u001b[0m \u001b[0;34m\u001b[0m\u001b[0m\n\u001b[1;32m     75\u001b[0m \u001b[0;31m# Calculate accuracy\u001b[0m\u001b[0;34m\u001b[0m\u001b[0;34m\u001b[0m\u001b[0m\n",
            "\u001b[0;32m/usr/local/lib/python3.10/dist-packages/sklearn/utils/_param_validation.py\u001b[0m in \u001b[0;36mwrapper\u001b[0;34m(*args, **kwargs)\u001b[0m\n\u001b[1;32m    211\u001b[0m                     )\n\u001b[1;32m    212\u001b[0m                 ):\n\u001b[0;32m--> 213\u001b[0;31m                     \u001b[0;32mreturn\u001b[0m \u001b[0mfunc\u001b[0m\u001b[0;34m(\u001b[0m\u001b[0;34m*\u001b[0m\u001b[0margs\u001b[0m\u001b[0;34m,\u001b[0m \u001b[0;34m**\u001b[0m\u001b[0mkwargs\u001b[0m\u001b[0;34m)\u001b[0m\u001b[0;34m\u001b[0m\u001b[0;34m\u001b[0m\u001b[0m\n\u001b[0m\u001b[1;32m    214\u001b[0m             \u001b[0;32mexcept\u001b[0m \u001b[0mInvalidParameterError\u001b[0m \u001b[0;32mas\u001b[0m \u001b[0me\u001b[0m\u001b[0;34m:\u001b[0m\u001b[0;34m\u001b[0m\u001b[0;34m\u001b[0m\u001b[0m\n\u001b[1;32m    215\u001b[0m                 \u001b[0;31m# When the function is just a wrapper around an estimator, we allow\u001b[0m\u001b[0;34m\u001b[0m\u001b[0;34m\u001b[0m\u001b[0m\n",
            "\u001b[0;32m/usr/local/lib/python3.10/dist-packages/sklearn/metrics/_classification.py\u001b[0m in \u001b[0;36mconfusion_matrix\u001b[0;34m(y_true, y_pred, labels, sample_weight, normalize)\u001b[0m\n\u001b[1;32m    340\u001b[0m     \u001b[0;34m(\u001b[0m\u001b[0mnp\u001b[0m\u001b[0;34m.\u001b[0m\u001b[0mint64\u001b[0m\u001b[0;34m(\u001b[0m\u001b[0;36m0\u001b[0m\u001b[0;34m)\u001b[0m\u001b[0;34m,\u001b[0m \u001b[0mnp\u001b[0m\u001b[0;34m.\u001b[0m\u001b[0mint64\u001b[0m\u001b[0;34m(\u001b[0m\u001b[0;36m2\u001b[0m\u001b[0;34m)\u001b[0m\u001b[0;34m,\u001b[0m \u001b[0mnp\u001b[0m\u001b[0;34m.\u001b[0m\u001b[0mint64\u001b[0m\u001b[0;34m(\u001b[0m\u001b[0;36m1\u001b[0m\u001b[0;34m)\u001b[0m\u001b[0;34m,\u001b[0m \u001b[0mnp\u001b[0m\u001b[0;34m.\u001b[0m\u001b[0mint64\u001b[0m\u001b[0;34m(\u001b[0m\u001b[0;36m1\u001b[0m\u001b[0;34m)\u001b[0m\u001b[0;34m)\u001b[0m\u001b[0;34m\u001b[0m\u001b[0;34m\u001b[0m\u001b[0m\n\u001b[1;32m    341\u001b[0m     \"\"\"\n\u001b[0;32m--> 342\u001b[0;31m     \u001b[0my_type\u001b[0m\u001b[0;34m,\u001b[0m \u001b[0my_true\u001b[0m\u001b[0;34m,\u001b[0m \u001b[0my_pred\u001b[0m \u001b[0;34m=\u001b[0m \u001b[0m_check_targets\u001b[0m\u001b[0;34m(\u001b[0m\u001b[0my_true\u001b[0m\u001b[0;34m,\u001b[0m \u001b[0my_pred\u001b[0m\u001b[0;34m)\u001b[0m\u001b[0;34m\u001b[0m\u001b[0;34m\u001b[0m\u001b[0m\n\u001b[0m\u001b[1;32m    343\u001b[0m     \u001b[0;32mif\u001b[0m \u001b[0my_type\u001b[0m \u001b[0;32mnot\u001b[0m \u001b[0;32min\u001b[0m \u001b[0;34m(\u001b[0m\u001b[0;34m\"binary\"\u001b[0m\u001b[0;34m,\u001b[0m \u001b[0;34m\"multiclass\"\u001b[0m\u001b[0;34m)\u001b[0m\u001b[0;34m:\u001b[0m\u001b[0;34m\u001b[0m\u001b[0;34m\u001b[0m\u001b[0m\n\u001b[1;32m    344\u001b[0m         \u001b[0;32mraise\u001b[0m \u001b[0mValueError\u001b[0m\u001b[0;34m(\u001b[0m\u001b[0;34m\"%s is not supported\"\u001b[0m \u001b[0;34m%\u001b[0m \u001b[0my_type\u001b[0m\u001b[0;34m)\u001b[0m\u001b[0;34m\u001b[0m\u001b[0;34m\u001b[0m\u001b[0m\n",
            "\u001b[0;32m/usr/local/lib/python3.10/dist-packages/sklearn/metrics/_classification.py\u001b[0m in \u001b[0;36m_check_targets\u001b[0;34m(y_true, y_pred)\u001b[0m\n\u001b[1;32m    102\u001b[0m     \u001b[0mxp\u001b[0m\u001b[0;34m,\u001b[0m \u001b[0m_\u001b[0m \u001b[0;34m=\u001b[0m \u001b[0mget_namespace\u001b[0m\u001b[0;34m(\u001b[0m\u001b[0my_true\u001b[0m\u001b[0;34m,\u001b[0m \u001b[0my_pred\u001b[0m\u001b[0;34m)\u001b[0m\u001b[0;34m\u001b[0m\u001b[0;34m\u001b[0m\u001b[0m\n\u001b[1;32m    103\u001b[0m     \u001b[0mcheck_consistent_length\u001b[0m\u001b[0;34m(\u001b[0m\u001b[0my_true\u001b[0m\u001b[0;34m,\u001b[0m \u001b[0my_pred\u001b[0m\u001b[0;34m)\u001b[0m\u001b[0;34m\u001b[0m\u001b[0;34m\u001b[0m\u001b[0m\n\u001b[0;32m--> 104\u001b[0;31m     \u001b[0mtype_true\u001b[0m \u001b[0;34m=\u001b[0m \u001b[0mtype_of_target\u001b[0m\u001b[0;34m(\u001b[0m\u001b[0my_true\u001b[0m\u001b[0;34m,\u001b[0m \u001b[0minput_name\u001b[0m\u001b[0;34m=\u001b[0m\u001b[0;34m\"y_true\"\u001b[0m\u001b[0;34m)\u001b[0m\u001b[0;34m\u001b[0m\u001b[0;34m\u001b[0m\u001b[0m\n\u001b[0m\u001b[1;32m    105\u001b[0m     \u001b[0mtype_pred\u001b[0m \u001b[0;34m=\u001b[0m \u001b[0mtype_of_target\u001b[0m\u001b[0;34m(\u001b[0m\u001b[0my_pred\u001b[0m\u001b[0;34m,\u001b[0m \u001b[0minput_name\u001b[0m\u001b[0;34m=\u001b[0m\u001b[0;34m\"y_pred\"\u001b[0m\u001b[0;34m)\u001b[0m\u001b[0;34m\u001b[0m\u001b[0;34m\u001b[0m\u001b[0m\n\u001b[1;32m    106\u001b[0m \u001b[0;34m\u001b[0m\u001b[0m\n",
            "\u001b[0;32m/usr/local/lib/python3.10/dist-packages/sklearn/utils/multiclass.py\u001b[0m in \u001b[0;36mtype_of_target\u001b[0;34m(y, input_name)\u001b[0m\n\u001b[1;32m    396\u001b[0m         \u001b[0mdata\u001b[0m \u001b[0;34m=\u001b[0m \u001b[0my\u001b[0m\u001b[0;34m.\u001b[0m\u001b[0mdata\u001b[0m \u001b[0;32mif\u001b[0m \u001b[0missparse\u001b[0m\u001b[0;34m(\u001b[0m\u001b[0my\u001b[0m\u001b[0;34m)\u001b[0m \u001b[0;32melse\u001b[0m \u001b[0my\u001b[0m\u001b[0;34m\u001b[0m\u001b[0;34m\u001b[0m\u001b[0m\n\u001b[1;32m    397\u001b[0m         \u001b[0;32mif\u001b[0m \u001b[0mxp\u001b[0m\u001b[0;34m.\u001b[0m\u001b[0many\u001b[0m\u001b[0;34m(\u001b[0m\u001b[0mdata\u001b[0m \u001b[0;34m!=\u001b[0m \u001b[0mxp\u001b[0m\u001b[0;34m.\u001b[0m\u001b[0mastype\u001b[0m\u001b[0;34m(\u001b[0m\u001b[0mdata\u001b[0m\u001b[0;34m,\u001b[0m \u001b[0mint\u001b[0m\u001b[0;34m)\u001b[0m\u001b[0;34m)\u001b[0m\u001b[0;34m:\u001b[0m\u001b[0;34m\u001b[0m\u001b[0;34m\u001b[0m\u001b[0m\n\u001b[0;32m--> 398\u001b[0;31m             \u001b[0m_assert_all_finite\u001b[0m\u001b[0;34m(\u001b[0m\u001b[0mdata\u001b[0m\u001b[0;34m,\u001b[0m \u001b[0minput_name\u001b[0m\u001b[0;34m=\u001b[0m\u001b[0minput_name\u001b[0m\u001b[0;34m)\u001b[0m\u001b[0;34m\u001b[0m\u001b[0;34m\u001b[0m\u001b[0m\n\u001b[0m\u001b[1;32m    399\u001b[0m             \u001b[0;32mreturn\u001b[0m \u001b[0;34m\"continuous\"\u001b[0m \u001b[0;34m+\u001b[0m \u001b[0msuffix\u001b[0m\u001b[0;34m\u001b[0m\u001b[0;34m\u001b[0m\u001b[0m\n\u001b[1;32m    400\u001b[0m \u001b[0;34m\u001b[0m\u001b[0m\n",
            "\u001b[0;32m/usr/local/lib/python3.10/dist-packages/sklearn/utils/validation.py\u001b[0m in \u001b[0;36m_assert_all_finite\u001b[0;34m(X, allow_nan, msg_dtype, estimator_name, input_name)\u001b[0m\n\u001b[1;32m    121\u001b[0m         \u001b[0;32mreturn\u001b[0m\u001b[0;34m\u001b[0m\u001b[0;34m\u001b[0m\u001b[0m\n\u001b[1;32m    122\u001b[0m \u001b[0;34m\u001b[0m\u001b[0m\n\u001b[0;32m--> 123\u001b[0;31m     _assert_all_finite_element_wise(\n\u001b[0m\u001b[1;32m    124\u001b[0m         \u001b[0mX\u001b[0m\u001b[0;34m,\u001b[0m\u001b[0;34m\u001b[0m\u001b[0;34m\u001b[0m\u001b[0m\n\u001b[1;32m    125\u001b[0m         \u001b[0mxp\u001b[0m\u001b[0;34m=\u001b[0m\u001b[0mxp\u001b[0m\u001b[0;34m,\u001b[0m\u001b[0;34m\u001b[0m\u001b[0;34m\u001b[0m\u001b[0m\n",
            "\u001b[0;32m/usr/local/lib/python3.10/dist-packages/sklearn/utils/validation.py\u001b[0m in \u001b[0;36m_assert_all_finite_element_wise\u001b[0;34m(X, xp, allow_nan, msg_dtype, estimator_name, input_name)\u001b[0m\n\u001b[1;32m    170\u001b[0m                 \u001b[0;34m\"#estimators-that-handle-nan-values\"\u001b[0m\u001b[0;34m\u001b[0m\u001b[0;34m\u001b[0m\u001b[0m\n\u001b[1;32m    171\u001b[0m             )\n\u001b[0;32m--> 172\u001b[0;31m         \u001b[0;32mraise\u001b[0m \u001b[0mValueError\u001b[0m\u001b[0;34m(\u001b[0m\u001b[0mmsg_err\u001b[0m\u001b[0;34m)\u001b[0m\u001b[0;34m\u001b[0m\u001b[0;34m\u001b[0m\u001b[0m\n\u001b[0m\u001b[1;32m    173\u001b[0m \u001b[0;34m\u001b[0m\u001b[0m\n\u001b[1;32m    174\u001b[0m \u001b[0;34m\u001b[0m\u001b[0m\n",
            "\u001b[0;31mValueError\u001b[0m: Input y_true contains NaN."
          ]
        }
      ]
    },
    {
      "cell_type": "code",
      "source": [
        "import pandas as pd\n",
        "from sklearn.metrics import confusion_matrix, accuracy_score\n",
        "\n",
        "# Define the experience mapping again if needed\n",
        "experience_mapping = {\n",
        "    '0-0 Yrs': 0,\n",
        "    '0-1 Yrs': 1,\n",
        "    '1-2 Yrs': 2,\n",
        "    '1-3 Yrs': 3,\n",
        "    '1-4 Yrs': 4,\n",
        "    '1-5 Yrs': 5,\n",
        "    '1-6 Yrs': 6,\n",
        "    '1-7 Yrs': 7,\n",
        "    '1-8 Yrs': 8,\n",
        "    '1-9 Yrs': 9,\n",
        "    '2-2 Yrs': 2,\n",
        "    '2-3 Yrs': 3,\n",
        "    '2-4 Yrs': 4,\n",
        "    '2-5 Yrs': 5,\n",
        "    '2-6 Yrs': 6,\n",
        "    '2-7 Yrs': 7,\n",
        "    '2-8 Yrs': 8,\n",
        "    '2-9 Yrs': 9,\n",
        "    '2-10 Yrs': 10,\n",
        "    '3-3 Yrs': 3,\n",
        "    '3-4 Yrs': 4,\n",
        "    '3-5 Yrs': 5,\n",
        "    '3-6 Yrs': 6,\n",
        "    '3-7 Yrs': 7,\n",
        "    '3-8 Yrs': 8,\n",
        "    '3-9 Yrs': 9,\n",
        "    '3-10 Yrs': 10,\n",
        "    '4-4 Yrs': 4,\n",
        "    '4-5 Yrs': 5,\n",
        "    '4-6 Yrs': 6,\n",
        "    '4-7 Yrs': 7,\n",
        "    '4-8 Yrs': 8,\n",
        "    '4-9 Yrs': 9,\n",
        "    '4-10 Yrs': 10,\n",
        "    '5-5 Yrs': 5,\n",
        "    '5-6 Yrs': 6,\n",
        "    '5-7 Yrs': 7,\n",
        "    '5-8 Yrs': 8,\n",
        "    '5-9 Yrs': 9,\n",
        "    '5-10 Yrs': 10,\n",
        "    '6-6 Yrs': 6,\n",
        "    '6-7 Yrs': 7,\n",
        "    '6-8 Yrs': 8,\n",
        "    '6-9 Yrs': 9,\n",
        "    '6-10 Yrs': 10,\n",
        "    '7-7 Yrs': 7,\n",
        "    '7-8 Yrs': 8,\n",
        "    '7-9 Yrs': 9,\n",
        "    '7-10 Yrs': 10,\n",
        "    '8-8 Yrs': 8,\n",
        "    '8-9 Yrs': 9,\n",
        "    '8-10 Yrs': 10,\n",
        "    '9-9 Yrs': 9,\n",
        "    '9-10 Yrs': 10,\n",
        "    '10-11 Yrs': 10,\n",
        "    '10-12 Yrs': 10,\n",
        "}\n",
        "\n",
        "# Map the Experience Required to numeric values\n",
        "df['True_Experience'] = df['Experience Required'].map(experience_mapping)\n",
        "\n",
        "# Check for NaN in the True Experience column\n",
        "if df['True_Experience'].isnull().any():\n",
        "    print(\"NaN values found in True_Experience column after mapping. Please check the mapping.\")\n",
        "    print(df[df['True_Experience'].isnull()])\n",
        "\n",
        "# Check for NaN in the Experience_numeric column\n",
        "if df['Experience_numeric'].isnull().any():\n",
        "    print(\"NaN values found in Experience_numeric column. Please check the mapping.\")\n",
        "    print(df[df['Experience_numeric'].isnull()])\n",
        "\n",
        "# Drop rows with NaN values in either column\n",
        "df = df.dropna(subset=['True_Experience', 'Experience_numeric'])\n",
        "\n",
        "# Create a confusion matrix\n",
        "cm = confusion_matrix(df['True_Experience'], df['Experience_numeric'])\n",
        "\n",
        "# Calculate accuracy\n",
        "accuracy = accuracy_score(df['True_Experience'], df['Experience_numeric'])\n",
        "\n",
        "# Create a DataFrame for the confusion matrix\n",
        "cm_df = pd.DataFrame(cm, index=[f'True {i}' for i in range(len(cm))],\n",
        "                     columns=[f'Predicted {i}' for i in range(len(cm))])\n",
        "\n",
        "# Calculate specificity for each class\n",
        "specificity = {}\n",
        "for i in range(len(cm)):\n",
        "    true_negative = cm.sum() - cm[i, :].sum() - cm[:, i].sum() + cm[i, i]\n",
        "    total_negative = cm.sum() - cm[:, i].sum()\n",
        "    specificity[i] = true_negative / total_negative if total_negative > 0 else 0\n",
        "\n",
        "# Create a DataFrame for specificity\n",
        "specificity_df = pd.DataFrame(list(specificity.items()), columns=['Class', 'Specificity'])\n",
        "\n",
        "# Display the results\n",
        "print(\"Confusion Matrix:\\n\", cm_df)\n",
        "print(\"\\nAccuracy: {:.2f}\".format(accuracy))\n",
        "print(\"\\nSpecificity:\\n\", specificity_df)\n"
      ],
      "metadata": {
        "colab": {
          "base_uri": "https://localhost:8080/"
        },
        "id": "2IOZbJaG1I97",
        "outputId": "0a9d9a00-3a2c-4a9a-ca91-6fccf3f651d9"
      },
      "execution_count": null,
      "outputs": [
        {
          "output_type": "stream",
          "name": "stdout",
          "text": [
            "NaN values found in True_Experience column after mapping. Please check the mapping.\n",
            "                                              Job Titles  \\\n",
            "1                            Data Science Domain Manager   \n",
            "166              NLP - (Senior Analyst / Data Scientist)   \n",
            "261                                  Senior Data Analyst   \n",
            "341    Senior Project Associate - Data Solutions Arch...   \n",
            "428                 Principal Statistical Data Scientist   \n",
            "...                                                  ...   \n",
            "17221                                Murex BackOffice BA   \n",
            "17319                            Senior Business Analyst   \n",
            "17485      Senior Data Scientist and Lead Data Scientist   \n",
            "17811           Software Engineer - Full Stack Developer   \n",
            "17898     R&R - ETS - Oracle Security - Senior Associate   \n",
            "\n",
            "                         Company Names Experience Required        Package  \\\n",
            "1                             Coursera            7-11 Yrs  Not disclosed   \n",
            "166                    Tiger Analytics            7-11 Yrs  Not disclosed   \n",
            "261                             Luxoft            7-11 Yrs  Not disclosed   \n",
            "341    World Resources Institute (WRI)            7-11 Yrs  Not disclosed   \n",
            "428                             Pfizer            7-11 Yrs  Not disclosed   \n",
            "...                                ...                 ...            ...   \n",
            "17221  Accolite Software India Pvt Ltd            7-11 Yrs         Unpaid   \n",
            "17319                Jindal Intellicom            7-11 Yrs  Not disclosed   \n",
            "17485    Jupitice Justice Technologies            7-11 Yrs  Not disclosed   \n",
            "17811                         OnionDev            7-11 Yrs  Not disclosed   \n",
            "17898                              PwC            7-11 Yrs  Not disclosed   \n",
            "\n",
            "                                               Locations  \\\n",
            "1      Kolkata, Mumbai, New Delhi, Hyderabad/Secunder...   \n",
            "166                                           Coimbatore   \n",
            "261    Udaipur, Rajasthan, Kolkata, West Bengal, Bang...   \n",
            "341                                    Jaipur, Rajasthan   \n",
            "428                               Hyderabad/Secunderabad   \n",
            "...                                                  ...   \n",
            "17221                               Noida, Uttar Pradesh   \n",
            "17319                                        Navi Mumbai   \n",
            "17485                                          New Delhi   \n",
            "17811  Kolkata, Mumbai, New Delhi, Hyderabad/Secunder...   \n",
            "17898                                            Chennai   \n",
            "\n",
            "                                                  Skills  Experience_numeric  \\\n",
            "1      Computer scienceContent strategyData analysisU...                   8   \n",
            "166    IT servicesText miningData analysisRFSimulatio...                   8   \n",
            "261    deep learningComputer visionProduct engineerin...                   8   \n",
            "341                        data sciencePythonDataScience                   8   \n",
            "428    Climate ChangeESGSustainabilitySustainable Dev...                   8   \n",
            "...                                                  ...                 ...   \n",
            "17221  Data analysisGoogle AnalyticsSASData managemen...                   8   \n",
            "17319  UnixIT servicesPerformance tuningLinuxNeural n...                   8   \n",
            "17485  AssuranceGITMySQLMachine learningJIRAGamingTea...                   8   \n",
            "17811  ProcurementCVSData analysisPDFConflict managem...                   8   \n",
            "17898  data cleansingData analysisData migrationSAP E...                   8   \n",
            "\n",
            "       Skills_encoded  True_Experience  \n",
            "1                   1              NaN  \n",
            "166               158              NaN  \n",
            "261               250              NaN  \n",
            "341               326              NaN  \n",
            "428               409              NaN  \n",
            "...               ...              ...  \n",
            "17221            8874              NaN  \n",
            "17319           11939              NaN  \n",
            "17485           12049              NaN  \n",
            "17811           12273              NaN  \n",
            "17898           12348              NaN  \n",
            "\n",
            "[67 rows x 9 columns]\n",
            "Confusion Matrix:\n",
            "         Predicted 0  Predicted 1  Predicted 2  Predicted 3  Predicted 4  \\\n",
            "True 0            0            0            0            0            0   \n",
            "True 1          347            0            0            0            0   \n",
            "True 2            0            0            0            0            0   \n",
            "True 3            0            0          789            0            0   \n",
            "True 4            0            0            0            0            0   \n",
            "True 5            0            0            0            0          905   \n",
            "True 6            0            0            0            0          534   \n",
            "True 7            0            0            0            0            0   \n",
            "True 8            0            0            0            0            0   \n",
            "\n",
            "        Predicted 5  Predicted 6  Predicted 7  Predicted 8  \n",
            "True 0            0            0            0            0  \n",
            "True 1            0            0            0            0  \n",
            "True 2            0            0            0            0  \n",
            "True 3            0            0            0            0  \n",
            "True 4            0            0            0            0  \n",
            "True 5            0            0            0            0  \n",
            "True 6            0            0            0            0  \n",
            "True 7            0         1083            0            0  \n",
            "True 8            0            0          221            0  \n",
            "\n",
            "Accuracy: 0.00\n",
            "\n",
            "Specificity:\n",
            "    Class  Specificity\n",
            "0      0     1.000000\n",
            "1      1     0.910544\n",
            "2      2     1.000000\n",
            "3      3     0.796597\n",
            "4      4     1.000000\n",
            "5      5     0.766692\n",
            "6      6     0.809013\n",
            "7      7     0.703937\n",
            "8      8     0.943027\n"
          ]
        }
      ]
    },
    {
      "cell_type": "code",
      "source": [
        "# Extend the experience mapping with missing values\n",
        "additional_experience_mapping = {\n",
        "    '7-11 Yrs': 8,  # Assuming you want to map this to 8 years of experience\n",
        "    '5-10 Yrs': 8,  # Assuming you want to map this to 8 years of experience\n",
        "    # Add more mappings if you find other unique values in Experience Required\n",
        "}\n",
        "\n",
        "# Update the original mapping with the additional mappings\n",
        "experience_mapping.update(additional_experience_mapping)\n",
        "\n",
        "# Map the Experience Required to numeric values again\n",
        "df['True_Experience'] = df['Experience Required'].map(experience_mapping)\n",
        "\n",
        "# Check for NaN in the True Experience column\n",
        "if df['True_Experience'].isnull().any():\n",
        "    print(\"NaN values found in True_Experience column after mapping. Please check the mapping.\")\n",
        "    print(df[df['True_Experience'].isnull()])\n",
        "\n",
        "# Re-check for NaN in the Experience_numeric column\n",
        "if df['Experience_numeric'].isnull().any():\n",
        "    print(\"NaN values found in Experience_numeric column. Please check the mapping.\")\n",
        "    print(df[df['Experience_numeric'].isnull()])\n",
        "\n",
        "# Drop rows with NaN values in either column\n",
        "df = df.dropna(subset=['True_Experience', 'Experience_numeric'])\n",
        "\n",
        "# Create a confusion matrix again\n",
        "cm = confusion_matrix(df['True_Experience'], df['Experience_numeric'])\n",
        "\n",
        "# Calculate accuracy again\n",
        "accuracy = accuracy_score(df['True_Experience'], df['Experience_numeric'])\n",
        "\n",
        "# Create a DataFrame for the confusion matrix\n",
        "cm_df = pd.DataFrame(cm, index=[f'True {i}' for i in range(len(cm))],\n",
        "                     columns=[f'Predicted {i}' for i in range(len(cm))])\n",
        "\n",
        "# Calculate specificity for each class\n",
        "specificity = {}\n",
        "for i in range(len(cm)):\n",
        "    true_negative = cm.sum() - cm[i, :].sum() - cm[:, i].sum() + cm[i, i]\n",
        "    total_negative = cm.sum() - cm[:, i].sum()\n",
        "    specificity[i] = true_negative / total_negative if total_negative > 0 else 0\n",
        "\n",
        "# Create a DataFrame for specificity\n",
        "specificity_df = pd.DataFrame(list(specificity.items()), columns=['Class', 'Specificity'])\n",
        "\n",
        "# Display the updated results\n",
        "print(\"Confusion Matrix:\\n\", cm_df)\n",
        "print(\"\\nAccuracy: {:.2f}\".format(accuracy))\n",
        "print(\"\\nSpecificity:\\n\", specificity_df)\n"
      ],
      "metadata": {
        "colab": {
          "base_uri": "https://localhost:8080/"
        },
        "id": "_23G5nF-1XiT",
        "outputId": "c6ec02da-a80d-461f-d7cf-e5568a1d452a"
      },
      "execution_count": null,
      "outputs": [
        {
          "output_type": "stream",
          "name": "stdout",
          "text": [
            "Confusion Matrix:\n",
            "         Predicted 0  Predicted 1  Predicted 2  Predicted 3  Predicted 4  \\\n",
            "True 0            0            0            0            0            0   \n",
            "True 1          347            0            0            0            0   \n",
            "True 2            0            0            0            0            0   \n",
            "True 3            0            0          789            0            0   \n",
            "True 4            0            0            0            0            0   \n",
            "True 5            0            0            0            0          905   \n",
            "True 6            0            0            0            0          534   \n",
            "True 7            0            0            0            0            0   \n",
            "True 8            0            0            0            0            0   \n",
            "\n",
            "        Predicted 5  Predicted 6  Predicted 7  Predicted 8  \n",
            "True 0            0            0            0            0  \n",
            "True 1            0            0            0            0  \n",
            "True 2            0            0            0            0  \n",
            "True 3            0            0            0            0  \n",
            "True 4            0            0            0            0  \n",
            "True 5            0            0            0            0  \n",
            "True 6            0            0            0            0  \n",
            "True 7            0         1083            0            0  \n",
            "True 8            0            0          221            0  \n",
            "\n",
            "Accuracy: 0.00\n",
            "\n",
            "Specificity:\n",
            "    Class  Specificity\n",
            "0      0     1.000000\n",
            "1      1     0.910544\n",
            "2      2     1.000000\n",
            "3      3     0.796597\n",
            "4      4     1.000000\n",
            "5      5     0.766692\n",
            "6      6     0.809013\n",
            "7      7     0.703937\n",
            "8      8     0.943027\n"
          ]
        },
        {
          "output_type": "stream",
          "name": "stderr",
          "text": [
            "<ipython-input-24-e53973a6c5f8>:12: SettingWithCopyWarning: \n",
            "A value is trying to be set on a copy of a slice from a DataFrame.\n",
            "Try using .loc[row_indexer,col_indexer] = value instead\n",
            "\n",
            "See the caveats in the documentation: https://pandas.pydata.org/pandas-docs/stable/user_guide/indexing.html#returning-a-view-versus-a-copy\n",
            "  df['True_Experience'] = df['Experience Required'].map(experience_mapping)\n"
          ]
        }
      ]
    },
    {
      "cell_type": "code",
      "source": [
        "if df['Experience_numeric'].isnull().any():\n",
        "    print(\"NaN values found in 'Experience_numeric' column. Please check the mapping.\")\n",
        "    print(df[df['Experience_numeric'].isnull()])\n",
        "    # Optional: Fill NaN with a default value or drop rows\n",
        "    df['Experience_numeric'] = df['Experience_numeric'].fillna(-1)\n"
      ],
      "metadata": {
        "id": "MQmxDXWN2-wu"
      },
      "execution_count": null,
      "outputs": []
    },
    {
      "cell_type": "code",
      "source": [
        "# Create the confusion matrix\n",
        "cm = confusion_matrix(df['True_Experience'], df['Experience_numeric'])\n",
        "\n",
        "# Calculate accuracy\n",
        "accuracy = accuracy_score(df['True_Experience'], df['Experience_numeric'])\n",
        "\n",
        "# Create a confusion matrix DataFrame\n",
        "cm_df = pd.DataFrame(cm, index=[f'True {i}' for i in range(len(cm))],\n",
        "                     columns=[f'Predicted {i}' for i in range(len(cm))])\n",
        "\n",
        "# Calculate specificity for each class\n",
        "specificity = {}\n",
        "for i in range(len(cm)):\n",
        "    true_negative = cm.sum() - cm[i, :].sum() - cm[:, i].sum() + cm[i, i]\n",
        "    total_negative = cm.sum() - cm[:, i].sum()\n",
        "    specificity[i] = true_negative / total_negative if total_negative > 0 else 0\n",
        "\n",
        "# Create a DataFrame for specificity\n",
        "specificity_df = pd.DataFrame(list(specificity.items()), columns=['Class', 'Specificity'])\n",
        "\n",
        "# Display results\n",
        "print(\"Confusion Matrix:\\n\", cm_df)\n",
        "print(\"\\nAccuracy: {:.2f}\".format(accuracy))\n",
        "print(\"\\nSpecificity:\\n\", specificity_df)\n"
      ],
      "metadata": {
        "colab": {
          "base_uri": "https://localhost:8080/"
        },
        "id": "hcUoqYTl3B2s",
        "outputId": "7df2d2b1-e37c-42e9-8821-bd6d8bd3b6e1"
      },
      "execution_count": null,
      "outputs": [
        {
          "output_type": "stream",
          "name": "stdout",
          "text": [
            "Confusion Matrix:\n",
            "         Predicted 0  Predicted 1  Predicted 2  Predicted 3  Predicted 4  \\\n",
            "True 0            0          347          789         1439         1083   \n",
            "True 1            0            0            0            0            0   \n",
            "True 2            0            0            0            0            0   \n",
            "True 3            0            0            0            0            0   \n",
            "True 4            0            0            0            0            0   \n",
            "True 5            0            0            0            0            0   \n",
            "\n",
            "        Predicted 5  \n",
            "True 0          221  \n",
            "True 1            0  \n",
            "True 2            0  \n",
            "True 3            0  \n",
            "True 4            0  \n",
            "True 5            0  \n",
            "\n",
            "Accuracy: 0.00\n",
            "\n",
            "Specificity:\n",
            "    Class  Specificity\n",
            "0      0          0.0\n",
            "1      1          1.0\n",
            "2      2          1.0\n",
            "3      3          1.0\n",
            "4      4          1.0\n",
            "5      5          1.0\n"
          ]
        }
      ]
    },
    {
      "cell_type": "code",
      "source": [
        "print(df['True_Experience'].value_counts())\n",
        "print(df['Experience_numeric'].value_counts())\n"
      ],
      "metadata": {
        "colab": {
          "base_uri": "https://localhost:8080/"
        },
        "id": "P1WPz-Mm3br3",
        "outputId": "e3dfb5b2-bfb2-424b-d331-aceaba91c443"
      },
      "execution_count": null,
      "outputs": [
        {
          "output_type": "stream",
          "name": "stdout",
          "text": [
            "True_Experience\n",
            "-1.0    3879\n",
            "Name: count, dtype: int64\n",
            "Experience_numeric\n",
            "4    1439\n",
            "6    1083\n",
            "2     789\n",
            "0     347\n",
            "8     221\n",
            "Name: count, dtype: int64\n"
          ]
        }
      ]
    },
    {
      "cell_type": "code",
      "source": [
        "import seaborn as sns\n",
        "import matplotlib.pyplot as plt\n",
        "from sklearn.metrics import confusion_matrix\n",
        "\n",
        "# Confusion matrix visualization\n",
        "plt.figure(figsize=(10, 7))\n",
        "sns.heatmap(cm_df, annot=True, cmap='Blues', fmt='g')\n",
        "plt.title('Confusion Matrix')\n",
        "plt.xlabel('Predicted')\n",
        "plt.ylabel('True')\n",
        "plt.show()\n"
      ],
      "metadata": {
        "colab": {
          "base_uri": "https://localhost:8080/",
          "height": 641
        },
        "id": "i-8zvs1X3eIG",
        "outputId": "845b4b1c-d23f-4b37-b9eb-aba2cfc8d927"
      },
      "execution_count": null,
      "outputs": [
        {
          "output_type": "display_data",
          "data": {
            "text/plain": [
              "<Figure size 1000x700 with 2 Axes>"
            ],
            "image/png": "[encoded data removed]"
          },
          "metadata": {}
        }
      ]
    },
    {
      "cell_type": "code",
      "source": [
        "from sklearn.linear_model import LogisticRegression\n",
        "model = LogisticRegression(class_weight='balanced')\n",
        "model.fit(X_train, y_train)\n"
      ],
      "metadata": {
        "colab": {
          "base_uri": "https://localhost:8080/",
          "height": 225
        },
        "id": "X59AxorX34Bs",
        "outputId": "2a83bb48-0ff9-415f-cb11-a7feb4ef1880"
      },
      "execution_count": null,
      "outputs": [
        {
          "output_type": "stream",
          "name": "stderr",
          "text": [
            "/usr/local/lib/python3.10/dist-packages/sklearn/linear_model/_logistic.py:469: ConvergenceWarning: lbfgs failed to converge (status=1):\n",
            "STOP: TOTAL NO. of ITERATIONS REACHED LIMIT.\n",
            "\n",
            "Increase the number of iterations (max_iter) or scale the data as shown in:\n",
            "    https://scikit-learn.org/stable/modules/preprocessing.html\n",
            "Please also refer to the documentation for alternative solver options:\n",
            "    https://scikit-learn.org/stable/modules/linear_model.html#logistic-regression\n",
            "  n_iter_i = _check_optimize_result(\n"
          ]
        },
        {
          "output_type": "execute_result",
          "data": {
            "text/plain": [
              "LogisticRegression(class_weight='balanced')"
            ],
            "text/html": [
              "<style>#sk-container-id-1 {\n",
              "  /* Definition of color scheme common for light and dark mode */\n",
              "  --sklearn-color-text: black;\n",
              "  --sklearn-color-line: gray;\n",
              "  /* Definition of color scheme for unfitted estimators */\n",
              "  --sklearn-color-unfitted-level-0: #fff5e6;\n",
              "  --sklearn-color-unfitted-level-1: #f6e4d2;\n",
              "  --sklearn-color-unfitted-level-2: #ffe0b3;\n",
              "  --sklearn-color-unfitted-level-3: chocolate;\n",
              "  /* Definition of color scheme for fitted estimators */\n",
              "  --sklearn-color-fitted-level-0: #f0f8ff;\n",
              "  --sklearn-color-fitted-level-1: #d4ebff;\n",
              "  --sklearn-color-fitted-level-2: #b3dbfd;\n",
              "  --sklearn-color-fitted-level-3: cornflowerblue;\n",
              "\n",
              "  /* Specific color for light theme */\n",
              "  --sklearn-color-text-on-default-background: var(--sg-text-color, var(--theme-code-foreground, var(--jp-content-font-color1, black)));\n",
              "  --sklearn-color-background: var(--sg-background-color, var(--theme-background, var(--jp-layout-color0, white)));\n",
              "  --sklearn-color-border-box: var(--sg-text-color, var(--theme-code-foreground, var(--jp-content-font-color1, black)));\n",
              "  --sklearn-color-icon: #696969;\n",
              "\n",
              "  @media (prefers-color-scheme: dark) {\n",
              "    /* Redefinition of color scheme for dark theme */\n",
              "    --sklearn-color-text-on-default-background: var(--sg-text-color, var(--theme-code-foreground, var(--jp-content-font-color1, white)));\n",
              "    --sklearn-color-background: var(--sg-background-color, var(--theme-background, var(--jp-layout-color0, #111)));\n",
              "    --sklearn-color-border-box: var(--sg-text-color, var(--theme-code-foreground, var(--jp-content-font-color1, white)));\n",
              "    --sklearn-color-icon: #878787;\n",
              "  }\n",
              "}\n",
              "\n",
              "#sk-container-id-1 {\n",
              "  color: var(--sklearn-color-text);\n",
              "}\n",
              "\n",
              "#sk-container-id-1 pre {\n",
              "  padding: 0;\n",
              "}\n",
              "\n",
              "#sk-container-id-1 input.sk-hidden--visually {\n",
              "  border: 0;\n",
              "  clip: rect(1px 1px 1px 1px);\n",
              "  clip: rect(1px, 1px, 1px, 1px);\n",
              "  height: 1px;\n",
              "  margin: -1px;\n",
              "  overflow: hidden;\n",
              "  padding: 0;\n",
              "  position: absolute;\n",
              "  width: 1px;\n",
              "}\n",
              "\n",
              "#sk-container-id-1 div.sk-dashed-wrapped {\n",
              "  border: 1px dashed var(--sklearn-color-line);\n",
              "  margin: 0 0.4em 0.5em 0.4em;\n",
              "  box-sizing: border-box;\n",
              "  padding-bottom: 0.4em;\n",
              "  background-color: var(--sklearn-color-background);\n",
              "}\n",
              "\n",
              "#sk-container-id-1 div.sk-container {\n",
              "  /* jupyter's `normalize.less` sets `[hidden] { display: none; }`\n",
              "     but bootstrap.min.css set `[hidden] { display: none !important; }`\n",
              "     so we also need the `!important` here to be able to override the\n",
              "     default hidden behavior on the sphinx rendered scikit-learn.org.\n",
              "     See: https://github.com/scikit-learn/scikit-learn/issues/21755 */\n",
              "  display: inline-block !important;\n",
              "  position: relative;\n",
              "}\n",
              "\n",
              "#sk-container-id-1 div.sk-text-repr-fallback {\n",
              "  display: none;\n",
              "}\n",
              "\n",
              "div.sk-parallel-item,\n",
              "div.sk-serial,\n",
              "div.sk-item {\n",
              "  /* draw centered vertical line to link estimators */\n",
              "  background-image: linear-gradient(var(--sklearn-color-text-on-default-background), var(--sklearn-color-text-on-default-background));\n",
              "  background-size: 2px 100%;\n",
              "  background-repeat: no-repeat;\n",
              "  background-position: center center;\n",
              "}\n",
              "\n",
              "/* Parallel-specific style estimator block */\n",
              "\n",
              "#sk-container-id-1 div.sk-parallel-item::after {\n",
              "  content: \"\";\n",
              "  width: 100%;\n",
              "  border-bottom: 2px solid var(--sklearn-color-text-on-default-background);\n",
              "  flex-grow: 1;\n",
              "}\n",
              "\n",
              "#sk-container-id-1 div.sk-parallel {\n",
              "  display: flex;\n",
              "  align-items: stretch;\n",
              "  justify-content: center;\n",
              "  background-color: var(--sklearn-color-background);\n",
              "  position: relative;\n",
              "}\n",
              "\n",
              "#sk-container-id-1 div.sk-parallel-item {\n",
              "  display: flex;\n",
              "  flex-direction: column;\n",
              "}\n",
              "\n",
              "#sk-container-id-1 div.sk-parallel-item:first-child::after {\n",
              "  align-self: flex-end;\n",
              "  width: 50%;\n",
              "}\n",
              "\n",
              "#sk-container-id-1 div.sk-parallel-item:last-child::after {\n",
              "  align-self: flex-start;\n",
              "  width: 50%;\n",
              "}\n",
              "\n",
              "#sk-container-id-1 div.sk-parallel-item:only-child::after {\n",
              "  width: 0;\n",
              "}\n",
              "\n",
              "/* Serial-specific style estimator block */\n",
              "\n",
              "#sk-container-id-1 div.sk-serial {\n",
              "  display: flex;\n",
              "  flex-direction: column;\n",
              "  align-items: center;\n",
              "  background-color: var(--sklearn-color-background);\n",
              "  padding-right: 1em;\n",
              "  padding-left: 1em;\n",
              "}\n",
              "\n",
              "\n",
              "/* Toggleable style: style used for estimator/Pipeline/ColumnTransformer box that is\n",
              "clickable and can be expanded/collapsed.\n",
              "- Pipeline and ColumnTransformer use this feature and define the default style\n",
              "- Estimators will overwrite some part of the style using the `sk-estimator` class\n",
              "*/\n",
              "\n",
              "/* Pipeline and ColumnTransformer style (default) */\n",
              "\n",
              "#sk-container-id-1 div.sk-toggleable {\n",
              "  /* Default theme specific background. It is overwritten whether we have a\n",
              "  specific estimator or a Pipeline/ColumnTransformer */\n",
              "  background-color: var(--sklearn-color-background);\n",
              "}\n",
              "\n",
              "/* Toggleable label */\n",
              "#sk-container-id-1 label.sk-toggleable__label {\n",
              "  cursor: pointer;\n",
              "  display: block;\n",
              "  width: 100%;\n",
              "  margin-bottom: 0;\n",
              "  padding: 0.5em;\n",
              "  box-sizing: border-box;\n",
              "  text-align: center;\n",
              "}\n",
              "\n",
              "#sk-container-id-1 label.sk-toggleable__label-arrow:before {\n",
              "  /* Arrow on the left of the label */\n",
              "  content: \"▸\";\n",
              "  float: left;\n",
              "  margin-right: 0.25em;\n",
              "  color: var(--sklearn-color-icon);\n",
              "}\n",
              "\n",
              "#sk-container-id-1 label.sk-toggleable__label-arrow:hover:before {\n",
              "  color: var(--sklearn-color-text);\n",
              "}\n",
              "\n",
              "/* Toggleable content - dropdown */\n",
              "\n",
              "#sk-container-id-1 div.sk-toggleable__content {\n",
              "  max-height: 0;\n",
              "  max-width: 0;\n",
              "  overflow: hidden;\n",
              "  text-align: left;\n",
              "  /* unfitted */\n",
              "  background-color: var(--sklearn-color-unfitted-level-0);\n",
              "}\n",
              "\n",
              "#sk-container-id-1 div.sk-toggleable__content.fitted {\n",
              "  /* fitted */\n",
              "  background-color: var(--sklearn-color-fitted-level-0);\n",
              "}\n",
              "\n",
              "#sk-container-id-1 div.sk-toggleable__content pre {\n",
              "  margin: 0.2em;\n",
              "  border-radius: 0.25em;\n",
              "  color: var(--sklearn-color-text);\n",
              "  /* unfitted */\n",
              "  background-color: var(--sklearn-color-unfitted-level-0);\n",
              "}\n",
              "\n",
              "#sk-container-id-1 div.sk-toggleable__content.fitted pre {\n",
              "  /* unfitted */\n",
              "  background-color: var(--sklearn-color-fitted-level-0);\n",
              "}\n",
              "\n",
              "#sk-container-id-1 input.sk-toggleable__control:checked~div.sk-toggleable__content {\n",
              "  /* Expand drop-down */\n",
              "  max-height: 200px;\n",
              "  max-width: 100%;\n",
              "  overflow: auto;\n",
              "}\n",
              "\n",
              "#sk-container-id-1 input.sk-toggleable__control:checked~label.sk-toggleable__label-arrow:before {\n",
              "  content: \"▾\";\n",
              "}\n",
              "\n",
              "/* Pipeline/ColumnTransformer-specific style */\n",
              "\n",
              "#sk-container-id-1 div.sk-label input.sk-toggleable__control:checked~label.sk-toggleable__label {\n",
              "  color: var(--sklearn-color-text);\n",
              "  background-color: var(--sklearn-color-unfitted-level-2);\n",
              "}\n",
              "\n",
              "#sk-container-id-1 div.sk-label.fitted input.sk-toggleable__control:checked~label.sk-toggleable__label {\n",
              "  background-color: var(--sklearn-color-fitted-level-2);\n",
              "}\n",
              "\n",
              "/* Estimator-specific style */\n",
              "\n",
              "/* Colorize estimator box */\n",
              "#sk-container-id-1 div.sk-estimator input.sk-toggleable__control:checked~label.sk-toggleable__label {\n",
              "  /* unfitted */\n",
              "  background-color: var(--sklearn-color-unfitted-level-2);\n",
              "}\n",
              "\n",
              "#sk-container-id-1 div.sk-estimator.fitted input.sk-toggleable__control:checked~label.sk-toggleable__label {\n",
              "  /* fitted */\n",
              "  background-color: var(--sklearn-color-fitted-level-2);\n",
              "}\n",
              "\n",
              "#sk-container-id-1 div.sk-label label.sk-toggleable__label,\n",
              "#sk-container-id-1 div.sk-label label {\n",
              "  /* The background is the default theme color */\n",
              "  color: var(--sklearn-color-text-on-default-background);\n",
              "}\n",
              "\n",
              "/* On hover, darken the color of the background */\n",
              "#sk-container-id-1 div.sk-label:hover label.sk-toggleable__label {\n",
              "  color: var(--sklearn-color-text);\n",
              "  background-color: var(--sklearn-color-unfitted-level-2);\n",
              "}\n",
              "\n",
              "/* Label box, darken color on hover, fitted */\n",
              "#sk-container-id-1 div.sk-label.fitted:hover label.sk-toggleable__label.fitted {\n",
              "  color: var(--sklearn-color-text);\n",
              "  background-color: var(--sklearn-color-fitted-level-2);\n",
              "}\n",
              "\n",
              "/* Estimator label */\n",
              "\n",
              "#sk-container-id-1 div.sk-label label {\n",
              "  font-family: monospace;\n",
              "  font-weight: bold;\n",
              "  display: inline-block;\n",
              "  line-height: 1.2em;\n",
              "}\n",
              "\n",
              "#sk-container-id-1 div.sk-label-container {\n",
              "  text-align: center;\n",
              "}\n",
              "\n",
              "/* Estimator-specific */\n",
              "#sk-container-id-1 div.sk-estimator {\n",
              "  font-family: monospace;\n",
              "  border: 1px dotted var(--sklearn-color-border-box);\n",
              "  border-radius: 0.25em;\n",
              "  box-sizing: border-box;\n",
              "  margin-bottom: 0.5em;\n",
              "  /* unfitted */\n",
              "  background-color: var(--sklearn-color-unfitted-level-0);\n",
              "}\n",
              "\n",
              "#sk-container-id-1 div.sk-estimator.fitted {\n",
              "  /* fitted */\n",
              "  background-color: var(--sklearn-color-fitted-level-0);\n",
              "}\n",
              "\n",
              "/* on hover */\n",
              "#sk-container-id-1 div.sk-estimator:hover {\n",
              "  /* unfitted */\n",
              "  background-color: var(--sklearn-color-unfitted-level-2);\n",
              "}\n",
              "\n",
              "#sk-container-id-1 div.sk-estimator.fitted:hover {\n",
              "  /* fitted */\n",
              "  background-color: var(--sklearn-color-fitted-level-2);\n",
              "}\n",
              "\n",
              "/* Specification for estimator info (e.g. \"i\" and \"?\") */\n",
              "\n",
              "/* Common style for \"i\" and \"?\" */\n",
              "\n",
              ".sk-estimator-doc-link,\n",
              "a:link.sk-estimator-doc-link,\n",
              "a:visited.sk-estimator-doc-link {\n",
              "  float: right;\n",
              "  font-size: smaller;\n",
              "  line-height: 1em;\n",
              "  font-family: monospace;\n",
              "  background-color: var(--sklearn-color-background);\n",
              "  border-radius: 1em;\n",
              "  height: 1em;\n",
              "  width: 1em;\n",
              "  text-decoration: none !important;\n",
              "  margin-left: 1ex;\n",
              "  /* unfitted */\n",
              "  border: var(--sklearn-color-unfitted-level-1) 1pt solid;\n",
              "  color: var(--sklearn-color-unfitted-level-1);\n",
              "}\n",
              "\n",
              ".sk-estimator-doc-link.fitted,\n",
              "a:link.sk-estimator-doc-link.fitted,\n",
              "a:visited.sk-estimator-doc-link.fitted {\n",
              "  /* fitted */\n",
              "  border: var(--sklearn-color-fitted-level-1) 1pt solid;\n",
              "  color: var(--sklearn-color-fitted-level-1);\n",
              "}\n",
              "\n",
              "/* On hover */\n",
              "div.sk-estimator:hover .sk-estimator-doc-link:hover,\n",
              ".sk-estimator-doc-link:hover,\n",
              "div.sk-label-container:hover .sk-estimator-doc-link:hover,\n",
              ".sk-estimator-doc-link:hover {\n",
              "  /* unfitted */\n",
              "  background-color: var(--sklearn-color-unfitted-level-3);\n",
              "  color: var(--sklearn-color-background);\n",
              "  text-decoration: none;\n",
              "}\n",
              "\n",
              "div.sk-estimator.fitted:hover .sk-estimator-doc-link.fitted:hover,\n",
              ".sk-estimator-doc-link.fitted:hover,\n",
              "div.sk-label-container:hover .sk-estimator-doc-link.fitted:hover,\n",
              ".sk-estimator-doc-link.fitted:hover {\n",
              "  /* fitted */\n",
              "  background-color: var(--sklearn-color-fitted-level-3);\n",
              "  color: var(--sklearn-color-background);\n",
              "  text-decoration: none;\n",
              "}\n",
              "\n",
              "/* Span, style for the box shown on hovering the info icon */\n",
              ".sk-estimator-doc-link span {\n",
              "  display: none;\n",
              "  z-index: 9999;\n",
              "  position: relative;\n",
              "  font-weight: normal;\n",
              "  right: .2ex;\n",
              "  padding: .5ex;\n",
              "  margin: .5ex;\n",
              "  width: min-content;\n",
              "  min-width: 20ex;\n",
              "  max-width: 50ex;\n",
              "  color: var(--sklearn-color-text);\n",
              "  box-shadow: 2pt 2pt 4pt #999;\n",
              "  /* unfitted */\n",
              "  background: var(--sklearn-color-unfitted-level-0);\n",
              "  border: .5pt solid var(--sklearn-color-unfitted-level-3);\n",
              "}\n",
              "\n",
              ".sk-estimator-doc-link.fitted span {\n",
              "  /* fitted */\n",
              "  background: var(--sklearn-color-fitted-level-0);\n",
              "  border: var(--sklearn-color-fitted-level-3);\n",
              "}\n",
              "\n",
              ".sk-estimator-doc-link:hover span {\n",
              "  display: block;\n",
              "}\n",
              "\n",
              "/* \"?\"-specific style due to the `<a>` HTML tag */\n",
              "\n",
              "#sk-container-id-1 a.estimator_doc_link {\n",
              "  float: right;\n",
              "  font-size: 1rem;\n",
              "  line-height: 1em;\n",
              "  font-family: monospace;\n",
              "  background-color: var(--sklearn-color-background);\n",
              "  border-radius: 1rem;\n",
              "  height: 1rem;\n",
              "  width: 1rem;\n",
              "  text-decoration: none;\n",
              "  /* unfitted */\n",
              "  color: var(--sklearn-color-unfitted-level-1);\n",
              "  border: var(--sklearn-color-unfitted-level-1) 1pt solid;\n",
              "}\n",
              "\n",
              "#sk-container-id-1 a.estimator_doc_link.fitted {\n",
              "  /* fitted */\n",
              "  border: var(--sklearn-color-fitted-level-1) 1pt solid;\n",
              "  color: var(--sklearn-color-fitted-level-1);\n",
              "}\n",
              "\n",
              "/* On hover */\n",
              "#sk-container-id-1 a.estimator_doc_link:hover {\n",
              "  /* unfitted */\n",
              "  background-color: var(--sklearn-color-unfitted-level-3);\n",
              "  color: var(--sklearn-color-background);\n",
              "  text-decoration: none;\n",
              "}\n",
              "\n",
              "#sk-container-id-1 a.estimator_doc_link.fitted:hover {\n",
              "  /* fitted */\n",
              "  background-color: var(--sklearn-color-fitted-level-3);\n",
              "}\n",
              "</style><div id=\"sk-container-id-1\" class=\"sk-top-container\"><div class=\"sk-text-repr-fallback\"><pre>LogisticRegression(class_weight=&#x27;balanced&#x27;)</pre><b>In a Jupyter environment, please rerun this cell to show the HTML representation or trust the notebook. <br />On GitHub, the HTML representation is unable to render, please try loading this page with nbviewer.org.</b></div><div class=\"sk-container\" hidden><div class=\"sk-item\"><div class=\"sk-estimator fitted sk-toggleable\"><input class=\"sk-toggleable__control sk-hidden--visually\" id=\"sk-estimator-id-1\" type=\"checkbox\" checked><label for=\"sk-estimator-id-1\" class=\"sk-toggleable__label fitted sk-toggleable__label-arrow fitted\">&nbsp;&nbsp;LogisticRegression<a class=\"sk-estimator-doc-link fitted\" rel=\"noreferrer\" target=\"_blank\" href=\"https://scikit-learn.org/1.5/modules/generated/sklearn.linear_model.LogisticRegression.html\">?<span>Documentation for LogisticRegression</span></a><span class=\"sk-estimator-doc-link fitted\">i<span>Fitted</span></span></label><div class=\"sk-toggleable__content fitted\"><pre>LogisticRegression(class_weight=&#x27;balanced&#x27;)</pre></div> </div></div></div></div>"
            ]
          },
          "metadata": {},
          "execution_count": 30
        }
      ]
    },
    {
      "cell_type": "code",
      "source": [
        "from sklearn.linear_model import LogisticRegression\n",
        "\n",
        "model = LogisticRegression(class_weight='balanced', max_iter=300)\n",
        "model.fit(X_train, y_train)\n"
      ],
      "metadata": {
        "colab": {
          "base_uri": "https://localhost:8080/",
          "height": 225
        },
        "id": "Gz_6Qet94dvR",
        "outputId": "cf668170-1e6b-4fa7-c959-6f521ccd40a2"
      },
      "execution_count": null,
      "outputs": [
        {
          "output_type": "stream",
          "name": "stderr",
          "text": [
            "/usr/local/lib/python3.10/dist-packages/sklearn/linear_model/_logistic.py:469: ConvergenceWarning: lbfgs failed to converge (status=1):\n",
            "STOP: TOTAL NO. of ITERATIONS REACHED LIMIT.\n",
            "\n",
            "Increase the number of iterations (max_iter) or scale the data as shown in:\n",
            "    https://scikit-learn.org/stable/modules/preprocessing.html\n",
            "Please also refer to the documentation for alternative solver options:\n",
            "    https://scikit-learn.org/stable/modules/linear_model.html#logistic-regression\n",
            "  n_iter_i = _check_optimize_result(\n"
          ]
        },
        {
          "output_type": "execute_result",
          "data": {
            "text/plain": [
              "LogisticRegression(class_weight='balanced', max_iter=300)"
            ],
            "text/html": [
              "<style>#sk-container-id-2 {\n",
              "  /* Definition of color scheme common for light and dark mode */\n",
              "  --sklearn-color-text: black;\n",
              "  --sklearn-color-line: gray;\n",
              "  /* Definition of color scheme for unfitted estimators */\n",
              "  --sklearn-color-unfitted-level-0: #fff5e6;\n",
              "  --sklearn-color-unfitted-level-1: #f6e4d2;\n",
              "  --sklearn-color-unfitted-level-2: #ffe0b3;\n",
              "  --sklearn-color-unfitted-level-3: chocolate;\n",
              "  /* Definition of color scheme for fitted estimators */\n",
              "  --sklearn-color-fitted-level-0: #f0f8ff;\n",
              "  --sklearn-color-fitted-level-1: #d4ebff;\n",
              "  --sklearn-color-fitted-level-2: #b3dbfd;\n",
              "  --sklearn-color-fitted-level-3: cornflowerblue;\n",
              "\n",
              "  /* Specific color for light theme */\n",
              "  --sklearn-color-text-on-default-background: var(--sg-text-color, var(--theme-code-foreground, var(--jp-content-font-color1, black)));\n",
              "  --sklearn-color-background: var(--sg-background-color, var(--theme-background, var(--jp-layout-color0, white)));\n",
              "  --sklearn-color-border-box: var(--sg-text-color, var(--theme-code-foreground, var(--jp-content-font-color1, black)));\n",
              "  --sklearn-color-icon: #696969;\n",
              "\n",
              "  @media (prefers-color-scheme: dark) {\n",
              "    /* Redefinition of color scheme for dark theme */\n",
              "    --sklearn-color-text-on-default-background: var(--sg-text-color, var(--theme-code-foreground, var(--jp-content-font-color1, white)));\n",
              "    --sklearn-color-background: var(--sg-background-color, var(--theme-background, var(--jp-layout-color0, #111)));\n",
              "    --sklearn-color-border-box: var(--sg-text-color, var(--theme-code-foreground, var(--jp-content-font-color1, white)));\n",
              "    --sklearn-color-icon: #878787;\n",
              "  }\n",
              "}\n",
              "\n",
              "#sk-container-id-2 {\n",
              "  color: var(--sklearn-color-text);\n",
              "}\n",
              "\n",
              "#sk-container-id-2 pre {\n",
              "  padding: 0;\n",
              "}\n",
              "\n",
              "#sk-container-id-2 input.sk-hidden--visually {\n",
              "  border: 0;\n",
              "  clip: rect(1px 1px 1px 1px);\n",
              "  clip: rect(1px, 1px, 1px, 1px);\n",
              "  height: 1px;\n",
              "  margin: -1px;\n",
              "  overflow: hidden;\n",
              "  padding: 0;\n",
              "  position: absolute;\n",
              "  width: 1px;\n",
              "}\n",
              "\n",
              "#sk-container-id-2 div.sk-dashed-wrapped {\n",
              "  border: 1px dashed var(--sklearn-color-line);\n",
              "  margin: 0 0.4em 0.5em 0.4em;\n",
              "  box-sizing: border-box;\n",
              "  padding-bottom: 0.4em;\n",
              "  background-color: var(--sklearn-color-background);\n",
              "}\n",
              "\n",
              "#sk-container-id-2 div.sk-container {\n",
              "  /* jupyter's `normalize.less` sets `[hidden] { display: none; }`\n",
              "     but bootstrap.min.css set `[hidden] { display: none !important; }`\n",
              "     so we also need the `!important` here to be able to override the\n",
              "     default hidden behavior on the sphinx rendered scikit-learn.org.\n",
              "     See: https://github.com/scikit-learn/scikit-learn/issues/21755 */\n",
              "  display: inline-block !important;\n",
              "  position: relative;\n",
              "}\n",
              "\n",
              "#sk-container-id-2 div.sk-text-repr-fallback {\n",
              "  display: none;\n",
              "}\n",
              "\n",
              "div.sk-parallel-item,\n",
              "div.sk-serial,\n",
              "div.sk-item {\n",
              "  /* draw centered vertical line to link estimators */\n",
              "  background-image: linear-gradient(var(--sklearn-color-text-on-default-background), var(--sklearn-color-text-on-default-background));\n",
              "  background-size: 2px 100%;\n",
              "  background-repeat: no-repeat;\n",
              "  background-position: center center;\n",
              "}\n",
              "\n",
              "/* Parallel-specific style estimator block */\n",
              "\n",
              "#sk-container-id-2 div.sk-parallel-item::after {\n",
              "  content: \"\";\n",
              "  width: 100%;\n",
              "  border-bottom: 2px solid var(--sklearn-color-text-on-default-background);\n",
              "  flex-grow: 1;\n",
              "}\n",
              "\n",
              "#sk-container-id-2 div.sk-parallel {\n",
              "  display: flex;\n",
              "  align-items: stretch;\n",
              "  justify-content: center;\n",
              "  background-color: var(--sklearn-color-background);\n",
              "  position: relative;\n",
              "}\n",
              "\n",
              "#sk-container-id-2 div.sk-parallel-item {\n",
              "  display: flex;\n",
              "  flex-direction: column;\n",
              "}\n",
              "\n",
              "#sk-container-id-2 div.sk-parallel-item:first-child::after {\n",
              "  align-self: flex-end;\n",
              "  width: 50%;\n",
              "}\n",
              "\n",
              "#sk-container-id-2 div.sk-parallel-item:last-child::after {\n",
              "  align-self: flex-start;\n",
              "  width: 50%;\n",
              "}\n",
              "\n",
              "#sk-container-id-2 div.sk-parallel-item:only-child::after {\n",
              "  width: 0;\n",
              "}\n",
              "\n",
              "/* Serial-specific style estimator block */\n",
              "\n",
              "#sk-container-id-2 div.sk-serial {\n",
              "  display: flex;\n",
              "  flex-direction: column;\n",
              "  align-items: center;\n",
              "  background-color: var(--sklearn-color-background);\n",
              "  padding-right: 1em;\n",
              "  padding-left: 1em;\n",
              "}\n",
              "\n",
              "\n",
              "/* Toggleable style: style used for estimator/Pipeline/ColumnTransformer box that is\n",
              "clickable and can be expanded/collapsed.\n",
              "- Pipeline and ColumnTransformer use this feature and define the default style\n",
              "- Estimators will overwrite some part of the style using the `sk-estimator` class\n",
              "*/\n",
              "\n",
              "/* Pipeline and ColumnTransformer style (default) */\n",
              "\n",
              "#sk-container-id-2 div.sk-toggleable {\n",
              "  /* Default theme specific background. It is overwritten whether we have a\n",
              "  specific estimator or a Pipeline/ColumnTransformer */\n",
              "  background-color: var(--sklearn-color-background);\n",
              "}\n",
              "\n",
              "/* Toggleable label */\n",
              "#sk-container-id-2 label.sk-toggleable__label {\n",
              "  cursor: pointer;\n",
              "  display: block;\n",
              "  width: 100%;\n",
              "  margin-bottom: 0;\n",
              "  padding: 0.5em;\n",
              "  box-sizing: border-box;\n",
              "  text-align: center;\n",
              "}\n",
              "\n",
              "#sk-container-id-2 label.sk-toggleable__label-arrow:before {\n",
              "  /* Arrow on the left of the label */\n",
              "  content: \"▸\";\n",
              "  float: left;\n",
              "  margin-right: 0.25em;\n",
              "  color: var(--sklearn-color-icon);\n",
              "}\n",
              "\n",
              "#sk-container-id-2 label.sk-toggleable__label-arrow:hover:before {\n",
              "  color: var(--sklearn-color-text);\n",
              "}\n",
              "\n",
              "/* Toggleable content - dropdown */\n",
              "\n",
              "#sk-container-id-2 div.sk-toggleable__content {\n",
              "  max-height: 0;\n",
              "  max-width: 0;\n",
              "  overflow: hidden;\n",
              "  text-align: left;\n",
              "  /* unfitted */\n",
              "  background-color: var(--sklearn-color-unfitted-level-0);\n",
              "}\n",
              "\n",
              "#sk-container-id-2 div.sk-toggleable__content.fitted {\n",
              "  /* fitted */\n",
              "  background-color: var(--sklearn-color-fitted-level-0);\n",
              "}\n",
              "\n",
              "#sk-container-id-2 div.sk-toggleable__content pre {\n",
              "  margin: 0.2em;\n",
              "  border-radius: 0.25em;\n",
              "  color: var(--sklearn-color-text);\n",
              "  /* unfitted */\n",
              "  background-color: var(--sklearn-color-unfitted-level-0);\n",
              "}\n",
              "\n",
              "#sk-container-id-2 div.sk-toggleable__content.fitted pre {\n",
              "  /* unfitted */\n",
              "  background-color: var(--sklearn-color-fitted-level-0);\n",
              "}\n",
              "\n",
              "#sk-container-id-2 input.sk-toggleable__control:checked~div.sk-toggleable__content {\n",
              "  /* Expand drop-down */\n",
              "  max-height: 200px;\n",
              "  max-width: 100%;\n",
              "  overflow: auto;\n",
              "}\n",
              "\n",
              "#sk-container-id-2 input.sk-toggleable__control:checked~label.sk-toggleable__label-arrow:before {\n",
              "  content: \"▾\";\n",
              "}\n",
              "\n",
              "/* Pipeline/ColumnTransformer-specific style */\n",
              "\n",
              "#sk-container-id-2 div.sk-label input.sk-toggleable__control:checked~label.sk-toggleable__label {\n",
              "  color: var(--sklearn-color-text);\n",
              "  background-color: var(--sklearn-color-unfitted-level-2);\n",
              "}\n",
              "\n",
              "#sk-container-id-2 div.sk-label.fitted input.sk-toggleable__control:checked~label.sk-toggleable__label {\n",
              "  background-color: var(--sklearn-color-fitted-level-2);\n",
              "}\n",
              "\n",
              "/* Estimator-specific style */\n",
              "\n",
              "/* Colorize estimator box */\n",
              "#sk-container-id-2 div.sk-estimator input.sk-toggleable__control:checked~label.sk-toggleable__label {\n",
              "  /* unfitted */\n",
              "  background-color: var(--sklearn-color-unfitted-level-2);\n",
              "}\n",
              "\n",
              "#sk-container-id-2 div.sk-estimator.fitted input.sk-toggleable__control:checked~label.sk-toggleable__label {\n",
              "  /* fitted */\n",
              "  background-color: var(--sklearn-color-fitted-level-2);\n",
              "}\n",
              "\n",
              "#sk-container-id-2 div.sk-label label.sk-toggleable__label,\n",
              "#sk-container-id-2 div.sk-label label {\n",
              "  /* The background is the default theme color */\n",
              "  color: var(--sklearn-color-text-on-default-background);\n",
              "}\n",
              "\n",
              "/* On hover, darken the color of the background */\n",
              "#sk-container-id-2 div.sk-label:hover label.sk-toggleable__label {\n",
              "  color: var(--sklearn-color-text);\n",
              "  background-color: var(--sklearn-color-unfitted-level-2);\n",
              "}\n",
              "\n",
              "/* Label box, darken color on hover, fitted */\n",
              "#sk-container-id-2 div.sk-label.fitted:hover label.sk-toggleable__label.fitted {\n",
              "  color: var(--sklearn-color-text);\n",
              "  background-color: var(--sklearn-color-fitted-level-2);\n",
              "}\n",
              "\n",
              "/* Estimator label */\n",
              "\n",
              "#sk-container-id-2 div.sk-label label {\n",
              "  font-family: monospace;\n",
              "  font-weight: bold;\n",
              "  display: inline-block;\n",
              "  line-height: 1.2em;\n",
              "}\n",
              "\n",
              "#sk-container-id-2 div.sk-label-container {\n",
              "  text-align: center;\n",
              "}\n",
              "\n",
              "/* Estimator-specific */\n",
              "#sk-container-id-2 div.sk-estimator {\n",
              "  font-family: monospace;\n",
              "  border: 1px dotted var(--sklearn-color-border-box);\n",
              "  border-radius: 0.25em;\n",
              "  box-sizing: border-box;\n",
              "  margin-bottom: 0.5em;\n",
              "  /* unfitted */\n",
              "  background-color: var(--sklearn-color-unfitted-level-0);\n",
              "}\n",
              "\n",
              "#sk-container-id-2 div.sk-estimator.fitted {\n",
              "  /* fitted */\n",
              "  background-color: var(--sklearn-color-fitted-level-0);\n",
              "}\n",
              "\n",
              "/* on hover */\n",
              "#sk-container-id-2 div.sk-estimator:hover {\n",
              "  /* unfitted */\n",
              "  background-color: var(--sklearn-color-unfitted-level-2);\n",
              "}\n",
              "\n",
              "#sk-container-id-2 div.sk-estimator.fitted:hover {\n",
              "  /* fitted */\n",
              "  background-color: var(--sklearn-color-fitted-level-2);\n",
              "}\n",
              "\n",
              "/* Specification for estimator info (e.g. \"i\" and \"?\") */\n",
              "\n",
              "/* Common style for \"i\" and \"?\" */\n",
              "\n",
              ".sk-estimator-doc-link,\n",
              "a:link.sk-estimator-doc-link,\n",
              "a:visited.sk-estimator-doc-link {\n",
              "  float: right;\n",
              "  font-size: smaller;\n",
              "  line-height: 1em;\n",
              "  font-family: monospace;\n",
              "  background-color: var(--sklearn-color-background);\n",
              "  border-radius: 1em;\n",
              "  height: 1em;\n",
              "  width: 1em;\n",
              "  text-decoration: none !important;\n",
              "  margin-left: 1ex;\n",
              "  /* unfitted */\n",
              "  border: var(--sklearn-color-unfitted-level-1) 1pt solid;\n",
              "  color: var(--sklearn-color-unfitted-level-1);\n",
              "}\n",
              "\n",
              ".sk-estimator-doc-link.fitted,\n",
              "a:link.sk-estimator-doc-link.fitted,\n",
              "a:visited.sk-estimator-doc-link.fitted {\n",
              "  /* fitted */\n",
              "  border: var(--sklearn-color-fitted-level-1) 1pt solid;\n",
              "  color: var(--sklearn-color-fitted-level-1);\n",
              "}\n",
              "\n",
              "/* On hover */\n",
              "div.sk-estimator:hover .sk-estimator-doc-link:hover,\n",
              ".sk-estimator-doc-link:hover,\n",
              "div.sk-label-container:hover .sk-estimator-doc-link:hover,\n",
              ".sk-estimator-doc-link:hover {\n",
              "  /* unfitted */\n",
              "  background-color: var(--sklearn-color-unfitted-level-3);\n",
              "  color: var(--sklearn-color-background);\n",
              "  text-decoration: none;\n",
              "}\n",
              "\n",
              "div.sk-estimator.fitted:hover .sk-estimator-doc-link.fitted:hover,\n",
              ".sk-estimator-doc-link.fitted:hover,\n",
              "div.sk-label-container:hover .sk-estimator-doc-link.fitted:hover,\n",
              ".sk-estimator-doc-link.fitted:hover {\n",
              "  /* fitted */\n",
              "  background-color: var(--sklearn-color-fitted-level-3);\n",
              "  color: var(--sklearn-color-background);\n",
              "  text-decoration: none;\n",
              "}\n",
              "\n",
              "/* Span, style for the box shown on hovering the info icon */\n",
              ".sk-estimator-doc-link span {\n",
              "  display: none;\n",
              "  z-index: 9999;\n",
              "  position: relative;\n",
              "  font-weight: normal;\n",
              "  right: .2ex;\n",
              "  padding: .5ex;\n",
              "  margin: .5ex;\n",
              "  width: min-content;\n",
              "  min-width: 20ex;\n",
              "  max-width: 50ex;\n",
              "  color: var(--sklearn-color-text);\n",
              "  box-shadow: 2pt 2pt 4pt #999;\n",
              "  /* unfitted */\n",
              "  background: var(--sklearn-color-unfitted-level-0);\n",
              "  border: .5pt solid var(--sklearn-color-unfitted-level-3);\n",
              "}\n",
              "\n",
              ".sk-estimator-doc-link.fitted span {\n",
              "  /* fitted */\n",
              "  background: var(--sklearn-color-fitted-level-0);\n",
              "  border: var(--sklearn-color-fitted-level-3);\n",
              "}\n",
              "\n",
              ".sk-estimator-doc-link:hover span {\n",
              "  display: block;\n",
              "}\n",
              "\n",
              "/* \"?\"-specific style due to the `<a>` HTML tag */\n",
              "\n",
              "#sk-container-id-2 a.estimator_doc_link {\n",
              "  float: right;\n",
              "  font-size: 1rem;\n",
              "  line-height: 1em;\n",
              "  font-family: monospace;\n",
              "  background-color: var(--sklearn-color-background);\n",
              "  border-radius: 1rem;\n",
              "  height: 1rem;\n",
              "  width: 1rem;\n",
              "  text-decoration: none;\n",
              "  /* unfitted */\n",
              "  color: var(--sklearn-color-unfitted-level-1);\n",
              "  border: var(--sklearn-color-unfitted-level-1) 1pt solid;\n",
              "}\n",
              "\n",
              "#sk-container-id-2 a.estimator_doc_link.fitted {\n",
              "  /* fitted */\n",
              "  border: var(--sklearn-color-fitted-level-1) 1pt solid;\n",
              "  color: var(--sklearn-color-fitted-level-1);\n",
              "}\n",
              "\n",
              "/* On hover */\n",
              "#sk-container-id-2 a.estimator_doc_link:hover {\n",
              "  /* unfitted */\n",
              "  background-color: var(--sklearn-color-unfitted-level-3);\n",
              "  color: var(--sklearn-color-background);\n",
              "  text-decoration: none;\n",
              "}\n",
              "\n",
              "#sk-container-id-2 a.estimator_doc_link.fitted:hover {\n",
              "  /* fitted */\n",
              "  background-color: var(--sklearn-color-fitted-level-3);\n",
              "}\n",
              "</style><div id=\"sk-container-id-2\" class=\"sk-top-container\"><div class=\"sk-text-repr-fallback\"><pre>LogisticRegression(class_weight=&#x27;balanced&#x27;, max_iter=300)</pre><b>In a Jupyter environment, please rerun this cell to show the HTML representation or trust the notebook. <br />On GitHub, the HTML representation is unable to render, please try loading this page with nbviewer.org.</b></div><div class=\"sk-container\" hidden><div class=\"sk-item\"><div class=\"sk-estimator fitted sk-toggleable\"><input class=\"sk-toggleable__control sk-hidden--visually\" id=\"sk-estimator-id-2\" type=\"checkbox\" checked><label for=\"sk-estimator-id-2\" class=\"sk-toggleable__label fitted sk-toggleable__label-arrow fitted\">&nbsp;&nbsp;LogisticRegression<a class=\"sk-estimator-doc-link fitted\" rel=\"noreferrer\" target=\"_blank\" href=\"https://scikit-learn.org/1.5/modules/generated/sklearn.linear_model.LogisticRegression.html\">?<span>Documentation for LogisticRegression</span></a><span class=\"sk-estimator-doc-link fitted\">i<span>Fitted</span></span></label><div class=\"sk-toggleable__content fitted\"><pre>LogisticRegression(class_weight=&#x27;balanced&#x27;, max_iter=300)</pre></div> </div></div></div></div>"
            ]
          },
          "metadata": {},
          "execution_count": 31
        }
      ]
    },
    {
      "cell_type": "code",
      "source": [
        "model = LogisticRegression(class_weight='balanced', max_iter=1000)\n",
        "model.fit(X_train, y_train)\n"
      ],
      "metadata": {
        "colab": {
          "base_uri": "https://localhost:8080/",
          "height": 225
        },
        "id": "suc5lA2w4uzQ",
        "outputId": "64e35005-b3ce-4d5e-fee8-1a5bbf3ccb35"
      },
      "execution_count": null,
      "outputs": [
        {
          "output_type": "stream",
          "name": "stderr",
          "text": [
            "/usr/local/lib/python3.10/dist-packages/sklearn/linear_model/_logistic.py:469: ConvergenceWarning: lbfgs failed to converge (status=1):\n",
            "STOP: TOTAL NO. of ITERATIONS REACHED LIMIT.\n",
            "\n",
            "Increase the number of iterations (max_iter) or scale the data as shown in:\n",
            "    https://scikit-learn.org/stable/modules/preprocessing.html\n",
            "Please also refer to the documentation for alternative solver options:\n",
            "    https://scikit-learn.org/stable/modules/linear_model.html#logistic-regression\n",
            "  n_iter_i = _check_optimize_result(\n"
          ]
        },
        {
          "output_type": "execute_result",
          "data": {
            "text/plain": [
              "LogisticRegression(class_weight='balanced', max_iter=1000)"
            ],
            "text/html": [
              "<style>#sk-container-id-3 {\n",
              "  /* Definition of color scheme common for light and dark mode */\n",
              "  --sklearn-color-text: black;\n",
              "  --sklearn-color-line: gray;\n",
              "  /* Definition of color scheme for unfitted estimators */\n",
              "  --sklearn-color-unfitted-level-0: #fff5e6;\n",
              "  --sklearn-color-unfitted-level-1: #f6e4d2;\n",
              "  --sklearn-color-unfitted-level-2: #ffe0b3;\n",
              "  --sklearn-color-unfitted-level-3: chocolate;\n",
              "  /* Definition of color scheme for fitted estimators */\n",
              "  --sklearn-color-fitted-level-0: #f0f8ff;\n",
              "  --sklearn-color-fitted-level-1: #d4ebff;\n",
              "  --sklearn-color-fitted-level-2: #b3dbfd;\n",
              "  --sklearn-color-fitted-level-3: cornflowerblue;\n",
              "\n",
              "  /* Specific color for light theme */\n",
              "  --sklearn-color-text-on-default-background: var(--sg-text-color, var(--theme-code-foreground, var(--jp-content-font-color1, black)));\n",
              "  --sklearn-color-background: var(--sg-background-color, var(--theme-background, var(--jp-layout-color0, white)));\n",
              "  --sklearn-color-border-box: var(--sg-text-color, var(--theme-code-foreground, var(--jp-content-font-color1, black)));\n",
              "  --sklearn-color-icon: #696969;\n",
              "\n",
              "  @media (prefers-color-scheme: dark) {\n",
              "    /* Redefinition of color scheme for dark theme */\n",
              "    --sklearn-color-text-on-default-background: var(--sg-text-color, var(--theme-code-foreground, var(--jp-content-font-color1, white)));\n",
              "    --sklearn-color-background: var(--sg-background-color, var(--theme-background, var(--jp-layout-color0, #111)));\n",
              "    --sklearn-color-border-box: var(--sg-text-color, var(--theme-code-foreground, var(--jp-content-font-color1, white)));\n",
              "    --sklearn-color-icon: #878787;\n",
              "  }\n",
              "}\n",
              "\n",
              "#sk-container-id-3 {\n",
              "  color: var(--sklearn-color-text);\n",
              "}\n",
              "\n",
              "#sk-container-id-3 pre {\n",
              "  padding: 0;\n",
              "}\n",
              "\n",
              "#sk-container-id-3 input.sk-hidden--visually {\n",
              "  border: 0;\n",
              "  clip: rect(1px 1px 1px 1px);\n",
              "  clip: rect(1px, 1px, 1px, 1px);\n",
              "  height: 1px;\n",
              "  margin: -1px;\n",
              "  overflow: hidden;\n",
              "  padding: 0;\n",
              "  position: absolute;\n",
              "  width: 1px;\n",
              "}\n",
              "\n",
              "#sk-container-id-3 div.sk-dashed-wrapped {\n",
              "  border: 1px dashed var(--sklearn-color-line);\n",
              "  margin: 0 0.4em 0.5em 0.4em;\n",
              "  box-sizing: border-box;\n",
              "  padding-bottom: 0.4em;\n",
              "  background-color: var(--sklearn-color-background);\n",
              "}\n",
              "\n",
              "#sk-container-id-3 div.sk-container {\n",
              "  /* jupyter's `normalize.less` sets `[hidden] { display: none; }`\n",
              "     but bootstrap.min.css set `[hidden] { display: none !important; }`\n",
              "     so we also need the `!important` here to be able to override the\n",
              "     default hidden behavior on the sphinx rendered scikit-learn.org.\n",
              "     See: https://github.com/scikit-learn/scikit-learn/issues/21755 */\n",
              "  display: inline-block !important;\n",
              "  position: relative;\n",
              "}\n",
              "\n",
              "#sk-container-id-3 div.sk-text-repr-fallback {\n",
              "  display: none;\n",
              "}\n",
              "\n",
              "div.sk-parallel-item,\n",
              "div.sk-serial,\n",
              "div.sk-item {\n",
              "  /* draw centered vertical line to link estimators */\n",
              "  background-image: linear-gradient(var(--sklearn-color-text-on-default-background), var(--sklearn-color-text-on-default-background));\n",
              "  background-size: 2px 100%;\n",
              "  background-repeat: no-repeat;\n",
              "  background-position: center center;\n",
              "}\n",
              "\n",
              "/* Parallel-specific style estimator block */\n",
              "\n",
              "#sk-container-id-3 div.sk-parallel-item::after {\n",
              "  content: \"\";\n",
              "  width: 100%;\n",
              "  border-bottom: 2px solid var(--sklearn-color-text-on-default-background);\n",
              "  flex-grow: 1;\n",
              "}\n",
              "\n",
              "#sk-container-id-3 div.sk-parallel {\n",
              "  display: flex;\n",
              "  align-items: stretch;\n",
              "  justify-content: center;\n",
              "  background-color: var(--sklearn-color-background);\n",
              "  position: relative;\n",
              "}\n",
              "\n",
              "#sk-container-id-3 div.sk-parallel-item {\n",
              "  display: flex;\n",
              "  flex-direction: column;\n",
              "}\n",
              "\n",
              "#sk-container-id-3 div.sk-parallel-item:first-child::after {\n",
              "  align-self: flex-end;\n",
              "  width: 50%;\n",
              "}\n",
              "\n",
              "#sk-container-id-3 div.sk-parallel-item:last-child::after {\n",
              "  align-self: flex-start;\n",
              "  width: 50%;\n",
              "}\n",
              "\n",
              "#sk-container-id-3 div.sk-parallel-item:only-child::after {\n",
              "  width: 0;\n",
              "}\n",
              "\n",
              "/* Serial-specific style estimator block */\n",
              "\n",
              "#sk-container-id-3 div.sk-serial {\n",
              "  display: flex;\n",
              "  flex-direction: column;\n",
              "  align-items: center;\n",
              "  background-color: var(--sklearn-color-background);\n",
              "  padding-right: 1em;\n",
              "  padding-left: 1em;\n",
              "}\n",
              "\n",
              "\n",
              "/* Toggleable style: style used for estimator/Pipeline/ColumnTransformer box that is\n",
              "clickable and can be expanded/collapsed.\n",
              "- Pipeline and ColumnTransformer use this feature and define the default style\n",
              "- Estimators will overwrite some part of the style using the `sk-estimator` class\n",
              "*/\n",
              "\n",
              "/* Pipeline and ColumnTransformer style (default) */\n",
              "\n",
              "#sk-container-id-3 div.sk-toggleable {\n",
              "  /* Default theme specific background. It is overwritten whether we have a\n",
              "  specific estimator or a Pipeline/ColumnTransformer */\n",
              "  background-color: var(--sklearn-color-background);\n",
              "}\n",
              "\n",
              "/* Toggleable label */\n",
              "#sk-container-id-3 label.sk-toggleable__label {\n",
              "  cursor: pointer;\n",
              "  display: block;\n",
              "  width: 100%;\n",
              "  margin-bottom: 0;\n",
              "  padding: 0.5em;\n",
              "  box-sizing: border-box;\n",
              "  text-align: center;\n",
              "}\n",
              "\n",
              "#sk-container-id-3 label.sk-toggleable__label-arrow:before {\n",
              "  /* Arrow on the left of the label */\n",
              "  content: \"▸\";\n",
              "  float: left;\n",
              "  margin-right: 0.25em;\n",
              "  color: var(--sklearn-color-icon);\n",
              "}\n",
              "\n",
              "#sk-container-id-3 label.sk-toggleable__label-arrow:hover:before {\n",
              "  color: var(--sklearn-color-text);\n",
              "}\n",
              "\n",
              "/* Toggleable content - dropdown */\n",
              "\n",
              "#sk-container-id-3 div.sk-toggleable__content {\n",
              "  max-height: 0;\n",
              "  max-width: 0;\n",
              "  overflow: hidden;\n",
              "  text-align: left;\n",
              "  /* unfitted */\n",
              "  background-color: var(--sklearn-color-unfitted-level-0);\n",
              "}\n",
              "\n",
              "#sk-container-id-3 div.sk-toggleable__content.fitted {\n",
              "  /* fitted */\n",
              "  background-color: var(--sklearn-color-fitted-level-0);\n",
              "}\n",
              "\n",
              "#sk-container-id-3 div.sk-toggleable__content pre {\n",
              "  margin: 0.2em;\n",
              "  border-radius: 0.25em;\n",
              "  color: var(--sklearn-color-text);\n",
              "  /* unfitted */\n",
              "  background-color: var(--sklearn-color-unfitted-level-0);\n",
              "}\n",
              "\n",
              "#sk-container-id-3 div.sk-toggleable__content.fitted pre {\n",
              "  /* unfitted */\n",
              "  background-color: var(--sklearn-color-fitted-level-0);\n",
              "}\n",
              "\n",
              "#sk-container-id-3 input.sk-toggleable__control:checked~div.sk-toggleable__content {\n",
              "  /* Expand drop-down */\n",
              "  max-height: 200px;\n",
              "  max-width: 100%;\n",
              "  overflow: auto;\n",
              "}\n",
              "\n",
              "#sk-container-id-3 input.sk-toggleable__control:checked~label.sk-toggleable__label-arrow:before {\n",
              "  content: \"▾\";\n",
              "}\n",
              "\n",
              "/* Pipeline/ColumnTransformer-specific style */\n",
              "\n",
              "#sk-container-id-3 div.sk-label input.sk-toggleable__control:checked~label.sk-toggleable__label {\n",
              "  color: var(--sklearn-color-text);\n",
              "  background-color: var(--sklearn-color-unfitted-level-2);\n",
              "}\n",
              "\n",
              "#sk-container-id-3 div.sk-label.fitted input.sk-toggleable__control:checked~label.sk-toggleable__label {\n",
              "  background-color: var(--sklearn-color-fitted-level-2);\n",
              "}\n",
              "\n",
              "/* Estimator-specific style */\n",
              "\n",
              "/* Colorize estimator box */\n",
              "#sk-container-id-3 div.sk-estimator input.sk-toggleable__control:checked~label.sk-toggleable__label {\n",
              "  /* unfitted */\n",
              "  background-color: var(--sklearn-color-unfitted-level-2);\n",
              "}\n",
              "\n",
              "#sk-container-id-3 div.sk-estimator.fitted input.sk-toggleable__control:checked~label.sk-toggleable__label {\n",
              "  /* fitted */\n",
              "  background-color: var(--sklearn-color-fitted-level-2);\n",
              "}\n",
              "\n",
              "#sk-container-id-3 div.sk-label label.sk-toggleable__label,\n",
              "#sk-container-id-3 div.sk-label label {\n",
              "  /* The background is the default theme color */\n",
              "  color: var(--sklearn-color-text-on-default-background);\n",
              "}\n",
              "\n",
              "/* On hover, darken the color of the background */\n",
              "#sk-container-id-3 div.sk-label:hover label.sk-toggleable__label {\n",
              "  color: var(--sklearn-color-text);\n",
              "  background-color: var(--sklearn-color-unfitted-level-2);\n",
              "}\n",
              "\n",
              "/* Label box, darken color on hover, fitted */\n",
              "#sk-container-id-3 div.sk-label.fitted:hover label.sk-toggleable__label.fitted {\n",
              "  color: var(--sklearn-color-text);\n",
              "  background-color: var(--sklearn-color-fitted-level-2);\n",
              "}\n",
              "\n",
              "/* Estimator label */\n",
              "\n",
              "#sk-container-id-3 div.sk-label label {\n",
              "  font-family: monospace;\n",
              "  font-weight: bold;\n",
              "  display: inline-block;\n",
              "  line-height: 1.2em;\n",
              "}\n",
              "\n",
              "#sk-container-id-3 div.sk-label-container {\n",
              "  text-align: center;\n",
              "}\n",
              "\n",
              "/* Estimator-specific */\n",
              "#sk-container-id-3 div.sk-estimator {\n",
              "  font-family: monospace;\n",
              "  border: 1px dotted var(--sklearn-color-border-box);\n",
              "  border-radius: 0.25em;\n",
              "  box-sizing: border-box;\n",
              "  margin-bottom: 0.5em;\n",
              "  /* unfitted */\n",
              "  background-color: var(--sklearn-color-unfitted-level-0);\n",
              "}\n",
              "\n",
              "#sk-container-id-3 div.sk-estimator.fitted {\n",
              "  /* fitted */\n",
              "  background-color: var(--sklearn-color-fitted-level-0);\n",
              "}\n",
              "\n",
              "/* on hover */\n",
              "#sk-container-id-3 div.sk-estimator:hover {\n",
              "  /* unfitted */\n",
              "  background-color: var(--sklearn-color-unfitted-level-2);\n",
              "}\n",
              "\n",
              "#sk-container-id-3 div.sk-estimator.fitted:hover {\n",
              "  /* fitted */\n",
              "  background-color: var(--sklearn-color-fitted-level-2);\n",
              "}\n",
              "\n",
              "/* Specification for estimator info (e.g. \"i\" and \"?\") */\n",
              "\n",
              "/* Common style for \"i\" and \"?\" */\n",
              "\n",
              ".sk-estimator-doc-link,\n",
              "a:link.sk-estimator-doc-link,\n",
              "a:visited.sk-estimator-doc-link {\n",
              "  float: right;\n",
              "  font-size: smaller;\n",
              "  line-height: 1em;\n",
              "  font-family: monospace;\n",
              "  background-color: var(--sklearn-color-background);\n",
              "  border-radius: 1em;\n",
              "  height: 1em;\n",
              "  width: 1em;\n",
              "  text-decoration: none !important;\n",
              "  margin-left: 1ex;\n",
              "  /* unfitted */\n",
              "  border: var(--sklearn-color-unfitted-level-1) 1pt solid;\n",
              "  color: var(--sklearn-color-unfitted-level-1);\n",
              "}\n",
              "\n",
              ".sk-estimator-doc-link.fitted,\n",
              "a:link.sk-estimator-doc-link.fitted,\n",
              "a:visited.sk-estimator-doc-link.fitted {\n",
              "  /* fitted */\n",
              "  border: var(--sklearn-color-fitted-level-1) 1pt solid;\n",
              "  color: var(--sklearn-color-fitted-level-1);\n",
              "}\n",
              "\n",
              "/* On hover */\n",
              "div.sk-estimator:hover .sk-estimator-doc-link:hover,\n",
              ".sk-estimator-doc-link:hover,\n",
              "div.sk-label-container:hover .sk-estimator-doc-link:hover,\n",
              ".sk-estimator-doc-link:hover {\n",
              "  /* unfitted */\n",
              "  background-color: var(--sklearn-color-unfitted-level-3);\n",
              "  color: var(--sklearn-color-background);\n",
              "  text-decoration: none;\n",
              "}\n",
              "\n",
              "div.sk-estimator.fitted:hover .sk-estimator-doc-link.fitted:hover,\n",
              ".sk-estimator-doc-link.fitted:hover,\n",
              "div.sk-label-container:hover .sk-estimator-doc-link.fitted:hover,\n",
              ".sk-estimator-doc-link.fitted:hover {\n",
              "  /* fitted */\n",
              "  background-color: var(--sklearn-color-fitted-level-3);\n",
              "  color: var(--sklearn-color-background);\n",
              "  text-decoration: none;\n",
              "}\n",
              "\n",
              "/* Span, style for the box shown on hovering the info icon */\n",
              ".sk-estimator-doc-link span {\n",
              "  display: none;\n",
              "  z-index: 9999;\n",
              "  position: relative;\n",
              "  font-weight: normal;\n",
              "  right: .2ex;\n",
              "  padding: .5ex;\n",
              "  margin: .5ex;\n",
              "  width: min-content;\n",
              "  min-width: 20ex;\n",
              "  max-width: 50ex;\n",
              "  color: var(--sklearn-color-text);\n",
              "  box-shadow: 2pt 2pt 4pt #999;\n",
              "  /* unfitted */\n",
              "  background: var(--sklearn-color-unfitted-level-0);\n",
              "  border: .5pt solid var(--sklearn-color-unfitted-level-3);\n",
              "}\n",
              "\n",
              ".sk-estimator-doc-link.fitted span {\n",
              "  /* fitted */\n",
              "  background: var(--sklearn-color-fitted-level-0);\n",
              "  border: var(--sklearn-color-fitted-level-3);\n",
              "}\n",
              "\n",
              ".sk-estimator-doc-link:hover span {\n",
              "  display: block;\n",
              "}\n",
              "\n",
              "/* \"?\"-specific style due to the `<a>` HTML tag */\n",
              "\n",
              "#sk-container-id-3 a.estimator_doc_link {\n",
              "  float: right;\n",
              "  font-size: 1rem;\n",
              "  line-height: 1em;\n",
              "  font-family: monospace;\n",
              "  background-color: var(--sklearn-color-background);\n",
              "  border-radius: 1rem;\n",
              "  height: 1rem;\n",
              "  width: 1rem;\n",
              "  text-decoration: none;\n",
              "  /* unfitted */\n",
              "  color: var(--sklearn-color-unfitted-level-1);\n",
              "  border: var(--sklearn-color-unfitted-level-1) 1pt solid;\n",
              "}\n",
              "\n",
              "#sk-container-id-3 a.estimator_doc_link.fitted {\n",
              "  /* fitted */\n",
              "  border: var(--sklearn-color-fitted-level-1) 1pt solid;\n",
              "  color: var(--sklearn-color-fitted-level-1);\n",
              "}\n",
              "\n",
              "/* On hover */\n",
              "#sk-container-id-3 a.estimator_doc_link:hover {\n",
              "  /* unfitted */\n",
              "  background-color: var(--sklearn-color-unfitted-level-3);\n",
              "  color: var(--sklearn-color-background);\n",
              "  text-decoration: none;\n",
              "}\n",
              "\n",
              "#sk-container-id-3 a.estimator_doc_link.fitted:hover {\n",
              "  /* fitted */\n",
              "  background-color: var(--sklearn-color-fitted-level-3);\n",
              "}\n",
              "</style><div id=\"sk-container-id-3\" class=\"sk-top-container\"><div class=\"sk-text-repr-fallback\"><pre>LogisticRegression(class_weight=&#x27;balanced&#x27;, max_iter=1000)</pre><b>In a Jupyter environment, please rerun this cell to show the HTML representation or trust the notebook. <br />On GitHub, the HTML representation is unable to render, please try loading this page with nbviewer.org.</b></div><div class=\"sk-container\" hidden><div class=\"sk-item\"><div class=\"sk-estimator fitted sk-toggleable\"><input class=\"sk-toggleable__control sk-hidden--visually\" id=\"sk-estimator-id-3\" type=\"checkbox\" checked><label for=\"sk-estimator-id-3\" class=\"sk-toggleable__label fitted sk-toggleable__label-arrow fitted\">&nbsp;&nbsp;LogisticRegression<a class=\"sk-estimator-doc-link fitted\" rel=\"noreferrer\" target=\"_blank\" href=\"https://scikit-learn.org/1.5/modules/generated/sklearn.linear_model.LogisticRegression.html\">?<span>Documentation for LogisticRegression</span></a><span class=\"sk-estimator-doc-link fitted\">i<span>Fitted</span></span></label><div class=\"sk-toggleable__content fitted\"><pre>LogisticRegression(class_weight=&#x27;balanced&#x27;, max_iter=1000)</pre></div> </div></div></div></div>"
            ]
          },
          "metadata": {},
          "execution_count": 32
        }
      ]
    },
    {
      "cell_type": "code",
      "source": [
        "print(df.columns)\n"
      ],
      "metadata": {
        "colab": {
          "base_uri": "https://localhost:8080/"
        },
        "id": "PgQRBevx8Hat",
        "outputId": "eddbdc3f-86b6-4691-ebfb-e321a9420c3d"
      },
      "execution_count": null,
      "outputs": [
        {
          "output_type": "stream",
          "name": "stdout",
          "text": [
            "Index(['Job Titles', 'Company Names', 'Experience Required', 'Package',\n",
            "       'Locations', 'Skills', 'Experience_numeric', 'Skills_encoded',\n",
            "       'True_Experience'],\n",
            "      dtype='object')\n"
          ]
        }
      ]
    },
    {
      "cell_type": "code",
      "source": [
        "df = df.dropna(subset=['Package'])\n"
      ],
      "metadata": {
        "id": "oFQTBJF_8tj2"
      },
      "execution_count": null,
      "outputs": []
    },
    {
      "cell_type": "code",
      "source": [
        "print(df['Package'].unique())\n",
        "\n"
      ],
      "metadata": {
        "colab": {
          "base_uri": "https://localhost:8080/"
        },
        "id": "I8vW3eJA9j95",
        "outputId": "673c37a7-a0af-4045-b99c-b56c9a35749d"
      },
      "execution_count": null,
      "outputs": [
        {
          "output_type": "stream",
          "name": "stdout",
          "text": [
            "[]\n"
          ]
        }
      ]
    },
    {
      "cell_type": "code",
      "source": [
        "print(df[df['Package'].isna()])\n"
      ],
      "metadata": {
        "colab": {
          "base_uri": "https://localhost:8080/"
        },
        "id": "IoOnrDUN9mG3",
        "outputId": "93f08d77-622a-42c1-c012-0a3b620f86ef"
      },
      "execution_count": null,
      "outputs": [
        {
          "output_type": "stream",
          "name": "stdout",
          "text": [
            "Empty DataFrame\n",
            "Columns: [Job Titles, Company Names, Experience Required, Package, Locations, Skills, Experience_numeric, Skills_encoded, True_Experience]\n",
            "Index: []\n"
          ]
        }
      ]
    },
    {
      "cell_type": "code",
      "source": [
        "print(df.dtypes)\n"
      ],
      "metadata": {
        "colab": {
          "base_uri": "https://localhost:8080/"
        },
        "id": "iAt6I38O9otD",
        "outputId": "f974a689-03d1-4c2b-b103-dd4fa855f09c"
      },
      "execution_count": null,
      "outputs": [
        {
          "output_type": "stream",
          "name": "stdout",
          "text": [
            "Job Titles              object\n",
            "Company Names           object\n",
            "Experience Required     object\n",
            "Package                float64\n",
            "Locations               object\n",
            "Skills                  object\n",
            "Experience_numeric     float64\n",
            "Skills_encoded           int64\n",
            "True_Experience        float64\n",
            "dtype: object\n"
          ]
        }
      ]
    },
    {
      "cell_type": "code",
      "source": [
        "print(df['Package'].dtype)\n"
      ],
      "metadata": {
        "colab": {
          "base_uri": "https://localhost:8080/"
        },
        "id": "sdJNQ9to-A9W",
        "outputId": "beece962-93aa-4075-f58d-0be3f6504dff"
      },
      "execution_count": null,
      "outputs": [
        {
          "output_type": "stream",
          "name": "stdout",
          "text": [
            "float64\n"
          ]
        }
      ]
    },
    {
      "cell_type": "code",
      "source": [
        "print(df['Package'].dropna().unique())  # Show unique values that are not NaN\n",
        "print(df['Package'].isna().sum())  # Count how many NaN values are present\n"
      ],
      "metadata": {
        "colab": {
          "base_uri": "https://localhost:8080/"
        },
        "id": "osLBWxtx-EzN",
        "outputId": "1dd6dbe7-d6f3-4d72-8586-bec705f86986"
      },
      "execution_count": null,
      "outputs": [
        {
          "output_type": "stream",
          "name": "stdout",
          "text": [
            "[]\n",
            "0\n"
          ]
        }
      ]
    },
    {
      "cell_type": "code",
      "source": [
        "# Fill NaNs with the mean value (handle chaining warnings)\n",
        "df['Package'] = df['Package'].fillna(mean_package)\n"
      ],
      "metadata": {
        "id": "jxMPui1y-oob"
      },
      "execution_count": null,
      "outputs": []
    },
    {
      "cell_type": "code",
      "source": [
        "print(df[['Package', 'Experience_numeric']].info())\n",
        "print(df[['Package', 'Experience_numeric']].head())\n"
      ],
      "metadata": {
        "colab": {
          "base_uri": "https://localhost:8080/"
        },
        "id": "-JZDJffe-qJa",
        "outputId": "fd36b169-86dd-49d8-e7a2-a9761f983948"
      },
      "execution_count": null,
      "outputs": [
        {
          "output_type": "stream",
          "name": "stdout",
          "text": [
            "<class 'pandas.core.frame.DataFrame'>\n",
            "Index: 0 entries\n",
            "Data columns (total 2 columns):\n",
            " #   Column              Non-Null Count  Dtype  \n",
            "---  ------              --------------  -----  \n",
            " 0   Package             0 non-null      int64  \n",
            " 1   Experience_numeric  0 non-null      float64\n",
            "dtypes: float64(1), int64(1)\n",
            "memory usage: 0.0 bytes\n",
            "None\n",
            "Empty DataFrame\n",
            "Columns: [Package, Experience_numeric]\n",
            "Index: []\n"
          ]
        }
      ]
    },
    {
      "cell_type": "code",
      "source": [
        "package_mapping = {\n",
        "    'Not disclosed': 50000,  # Example value for \"Not disclosed\"\n",
        "    'Entry Level': 30000,\n",
        "    'Mid Level': 60000,\n",
        "    'Senior Level': 90000\n",
        "}\n"
      ],
      "metadata": {
        "id": "hcx9hVjd-zj6"
      },
      "execution_count": null,
      "outputs": []
    },
    {
      "cell_type": "code",
      "source": [
        "import pandas as pd\n",
        "from sklearn.preprocessing import StandardScaler\n",
        "\n",
        "# Sample DataFrame setup (replace this with your actual DataFrame)\n",
        "data = {\n",
        "    'Package': ['Not disclosed', 'Entry Level', 'Mid Level', 'Senior Level', 'Not disclosed'],\n",
        "    'Experience_numeric': [0, 1, 5, 10, 3]\n",
        "}\n",
        "df = pd.DataFrame(data)\n",
        "\n",
        "# Check unique values before mapping\n",
        "print(\"Unique values in 'Package':\", df['Package'].unique())\n",
        "\n",
        "# Map the categorical values to numeric\n",
        "package_mapping = {\n",
        "    'Not disclosed': 50000,\n",
        "    'Entry Level': 30000,\n",
        "    'Mid Level': 60000,\n",
        "    'Senior Level': 90000\n",
        "}\n",
        "\n",
        "# Map values\n",
        "df['Package'] = df['Package'].map(package_mapping)\n",
        "\n",
        "# Check the DataFrame after mapping\n",
        "print(\"DataFrame after mapping:\")\n",
        "print(df[['Package', 'Experience_numeric']])\n",
        "\n",
        "# Fill NaNs with the mean value if needed\n",
        "mean_package = df['Package'].mean()\n",
        "df['Package'] = df['Package'].fillna(mean_package)\n",
        "\n",
        "# Scale the numeric columns if needed\n",
        "scaler = StandardScaler()\n",
        "df[['Experience_numeric', 'Package']] = scaler.fit_transform(df[['Experience_numeric', 'Package']])\n",
        "\n",
        "# Verify the changes\n",
        "print(\"Final DataFrame:\")\n",
        "print(df[['Package', 'Experience_numeric']].head())\n"
      ],
      "metadata": {
        "colab": {
          "base_uri": "https://localhost:8080/"
        },
        "id": "TtfmfBJd-063",
        "outputId": "c3d28afd-e3dc-40d8-967c-5dc5c4e98448"
      },
      "execution_count": null,
      "outputs": [
        {
          "output_type": "stream",
          "name": "stdout",
          "text": [
            "Unique values in 'Package': ['Not disclosed' 'Entry Level' 'Mid Level' 'Senior Level']\n",
            "DataFrame after mapping:\n",
            "   Package  Experience_numeric\n",
            "0    50000                   0\n",
            "1    30000                   1\n",
            "2    60000                   5\n",
            "3    90000                  10\n",
            "4    50000                   3\n",
            "Final DataFrame:\n",
            "    Package  Experience_numeric\n",
            "0 -0.306186           -1.072232\n",
            "1 -1.326807           -0.790066\n",
            "2  0.204124            0.338600\n",
            "3  1.735055            1.749431\n",
            "4 -0.306186           -0.225733\n"
          ]
        }
      ]
    },
    {
      "cell_type": "code",
      "source": [
        "print(df.isnull().sum())\n"
      ],
      "metadata": {
        "colab": {
          "base_uri": "https://localhost:8080/"
        },
        "id": "PDBC30Mh-_Eq",
        "outputId": "50318d81-6c9a-4f50-ec09-1889650d6497"
      },
      "execution_count": null,
      "outputs": [
        {
          "output_type": "stream",
          "name": "stdout",
          "text": [
            "Package               0\n",
            "Experience_numeric    0\n",
            "dtype: int64\n"
          ]
        }
      ]
    },
    {
      "cell_type": "code",
      "source": [
        "print(df.columns)\n"
      ],
      "metadata": {
        "colab": {
          "base_uri": "https://localhost:8080/"
        },
        "id": "0Edx0xFQ_Pen",
        "outputId": "3ec153d3-7adb-4180-e305-05909b66c943"
      },
      "execution_count": null,
      "outputs": [
        {
          "output_type": "stream",
          "name": "stdout",
          "text": [
            "Index(['Package', 'Experience_numeric'], dtype='object')\n"
          ]
        }
      ]
    },
    {
      "cell_type": "code",
      "source": [
        "# Example: Let's say True_Experience is double the Experience_numeric\n",
        "df['True_Experience'] = df['Experience_numeric'] * 2  # Replace 2 with your actual calculation\n"
      ],
      "metadata": {
        "id": "Q72jexmf_a1s"
      },
      "execution_count": null,
      "outputs": []
    },
    {
      "cell_type": "code",
      "source": [
        "from sklearn.preprocessing import StandardScaler\n",
        "\n",
        "# Initialize the scaler\n",
        "scaler = StandardScaler()\n",
        "\n",
        "# Scale the relevant numeric columns\n",
        "df[['Experience_numeric', 'True_Experience']] = scaler.fit_transform(df[['Experience_numeric', 'True_Experience']])\n"
      ],
      "metadata": {
        "id": "ruxJy-WK_dp1"
      },
      "execution_count": null,
      "outputs": []
    },
    {
      "cell_type": "code",
      "source": [
        "print(df.head())  # Display the first few rows of the DataFrame\n",
        "print(df.isnull().sum())  # Check for any missing values\n"
      ],
      "metadata": {
        "colab": {
          "base_uri": "https://localhost:8080/"
        },
        "id": "5PFo479L_xMX",
        "outputId": "3ce48214-70d0-4fd6-d056-4a86939cc9b9"
      },
      "execution_count": null,
      "outputs": [
        {
          "output_type": "stream",
          "name": "stdout",
          "text": [
            "    Package  Experience_numeric  True_Experience\n",
            "0 -0.306186           -1.072232        -1.072232\n",
            "1 -1.326807           -0.790066        -0.790066\n",
            "2  0.204124            0.338600         0.338600\n",
            "3  1.735055            1.749431         1.749431\n",
            "4 -0.306186           -0.225733        -0.225733\n",
            "Package               0\n",
            "Experience_numeric    0\n",
            "True_Experience       0\n",
            "dtype: int64\n"
          ]
        }
      ]
    },
    {
      "cell_type": "code",
      "source": [
        "import seaborn as sns\n",
        "import matplotlib.pyplot as plt\n",
        "\n",
        "# Create a box plot to show True Experience by Package\n",
        "plt.figure(figsize=(10, 6))\n",
        "sns.boxplot(x='Package', y='True_Experience', data=df)\n",
        "plt.title('True Experience by Package Level')\n",
        "plt.xlabel('Package Level')\n",
        "plt.ylabel('True Experience (Scaled)')\n",
        "plt.show()\n"
      ],
      "metadata": {
        "colab": {
          "base_uri": "https://localhost:8080/",
          "height": 564
        },
        "id": "SnHje7Ix__hn",
        "outputId": "3dfe8a5b-5ea3-4011-aeb9-6cd3643baeda"
      },
      "execution_count": null,
      "outputs": [
        {
          "output_type": "display_data",
          "data": {
            "text/plain": [
              "<Figure size 1000x600 with 1 Axes>"
            ],
            "image/png": "[encoded data removed]"
          },
          "metadata": {}
        }
      ]
    },
    {
      "cell_type": "code",
      "source": [
        "threshold = 0  # Define your threshold\n",
        "df['True_Label'] = (df['True_Experience'] > threshold).astype(int)  # 1 for high experience, 0 for low\n"
      ],
      "metadata": {
        "id": "JOLUJ_OTAD_D"
      },
      "execution_count": null,
      "outputs": []
    },
    {
      "cell_type": "code",
      "source": [
        "# For demonstration, we will assume a simple model that predicts based on Experience_numeric\n",
        "# You can replace this with your actual model predictions\n",
        "df['Predicted_Label'] = (df['Experience_numeric'] > 0).astype(int)  # Mock prediction\n"
      ],
      "metadata": {
        "id": "MGDahjm6AUNR"
      },
      "execution_count": null,
      "outputs": []
    },
    {
      "cell_type": "code",
      "source": [
        "from sklearn.metrics import confusion_matrix\n",
        "\n",
        "# Calculate confusion matrix\n",
        "tn, fp, fn, tp = confusion_matrix(df['True_Label'], df['Predicted_Label']).ravel()\n",
        "\n",
        "# Calculate accuracy\n",
        "accuracy = (tp + tn) / (tp + tn + fp + fn)\n",
        "\n",
        "# Calculate specificity\n",
        "specificity = tn / (tn + fp)\n",
        "\n",
        "print(f'Accuracy: {accuracy:.2f}')\n",
        "print(f'Specificity: {specificity:.2f}')\n"
      ],
      "metadata": {
        "colab": {
          "base_uri": "https://localhost:8080/"
        },
        "id": "emhvg5W9AX38",
        "outputId": "fc3450c1-2fc8-4ada-bd99-b28ca284cfd0"
      },
      "execution_count": null,
      "outputs": [
        {
          "output_type": "stream",
          "name": "stdout",
          "text": [
            "Accuracy: 1.00\n",
            "Specificity: 1.00\n"
          ]
        }
      ]
    },
    {
      "cell_type": "code",
      "source": [
        "import pandas as pd\n",
        "import numpy as np\n",
        "\n",
        "# Create a DataFrame with simulated data\n",
        "np.random.seed(42)  # For reproducibility\n",
        "data = {\n",
        "    'Experience_numeric': np.random.randint(-3, 4, 10),  # Random integers between -3 and 3\n",
        "}\n",
        "df = pd.DataFrame(data)\n",
        "\n",
        "# Assign 'True_Experience' based on a rule for simulation\n",
        "threshold = 0\n",
        "df['True_Experience'] = df['Experience_numeric'] * 2 + np.random.randint(0, 3, 10)  # Arbitrary logic for demo\n",
        "\n",
        "# Classify based on the threshold\n",
        "df['True_Label'] = (df['True_Experience'] > threshold).astype(int)\n",
        "df['Predicted_Label'] = (df['Experience_numeric'] > 0).astype(int)  # Mock prediction\n",
        "\n",
        "print(df)\n"
      ],
      "metadata": {
        "id": "_ofVvp2zAsFL",
        "outputId": "3c9ca71e-53f8-440e-8094-8a92723daa4d",
        "colab": {
          "base_uri": "https://localhost:8080/"
        }
      },
      "execution_count": null,
      "outputs": [
        {
          "output_type": "stream",
          "name": "stdout",
          "text": [
            "   Experience_numeric  True_Experience  True_Label  Predicted_Label\n",
            "0                   3                8           1                1\n",
            "1                   0                2           1                0\n",
            "2                   1                4           1                1\n",
            "3                   3                6           1                1\n",
            "4                  -1                0           0                0\n",
            "5                   1                3           1                1\n",
            "6                   1                2           1                1\n",
            "7                   3                7           1                1\n",
            "8                  -2               -3           0                0\n",
            "9                  -1               -1           0                0\n"
          ]
        }
      ]
    },
    {
      "cell_type": "code",
      "source": [
        "from sklearn.metrics import confusion_matrix\n",
        "\n",
        "# Calculate confusion matrix\n",
        "tn, fp, fn, tp = confusion_matrix(df['True_Label'], df['Predicted_Label']).ravel()\n",
        "\n",
        "# Calculate accuracy\n",
        "accuracy = (tp + tn) / (tp + tn + fp + fn)\n",
        "\n",
        "# Calculate specificity\n",
        "specificity = tn / (tn + fp)\n",
        "\n",
        "print(f'Accuracy: {accuracy:.2f}')\n",
        "print(f'Specificity: {specificity:.2f}')\n"
      ],
      "metadata": {
        "id": "-WJtmkGaAut4",
        "outputId": "62d491fd-86db-432e-b6a4-237b88429dfe",
        "colab": {
          "base_uri": "https://localhost:8080/"
        }
      },
      "execution_count": null,
      "outputs": [
        {
          "output_type": "stream",
          "name": "stdout",
          "text": [
            "Accuracy: 0.90\n",
            "Specificity: 1.00\n"
          ]
        }
      ]
    },
    {
      "cell_type": "code",
      "source": [
        "from google.colab import files\n",
        "uploaded = files.upload()"
      ],
      "metadata": {
        "colab": {
          "base_uri": "https://localhost:8080/",
          "height": 73
        },
        "id": "l0Kq1HxtZYLK",
        "outputId": "43a5f757-249a-4982-b7dc-1cff423e15da"
      },
      "execution_count": null,
      "outputs": [
        {
          "output_type": "display_data",
          "data": {
            "text/plain": [
              "<IPython.core.display.HTML object>"
            ],
            "text/html": [
              "\n",
              "     <input type=\"file\" id=\"files-f1ac6686-ec71-4bb6-b7e2-25625620876d\" name=\"files[]\" multiple disabled\n",
              "        style=\"border:none\" />\n",
              "     <output id=\"result-f1ac6686-ec71-4bb6-b7e2-25625620876d\">\n",
              "      Upload widget is only available when the cell has been executed in the\n",
              "      current browser session. Please rerun this cell to enable.\n",
              "      </output>\n",
              "      <script>// Copyright 2017 Google LLC\n",
              "//\n",
              "// Licensed under the Apache License, Version 2.0 (the \"License\");\n",
              "// you may not use this file except in compliance with the License.\n",
              "// You may obtain a copy of the License at\n",
              "//\n",
              "//      http://www.apache.org/licenses/LICENSE-2.0\n",
              "//\n",
              "// Unless required by applicable law or agreed to in writing, software\n",
              "// distributed under the License is distributed on an \"AS IS\" BASIS,\n",
              "// WITHOUT WARRANTIES OR CONDITIONS OF ANY KIND, either express or implied.\n",
              "// See the License for the specific language governing permissions and\n",
              "// limitations under the License.\n",
              "\n",
              "/**\n",
              " * @fileoverview Helpers for google.colab Python module.\n",
              " */\n",
              "(function(scope) {\n",
              "function span(text, styleAttributes = {}) {\n",
              "  const element = document.createElement('span');\n",
              "  element.textContent = text;\n",
              "  for (const key of Object.keys(styleAttributes)) {\n",
              "    element.style[key] = styleAttributes[key];\n",
              "  }\n",
              "  return element;\n",
              "}\n",
              "\n",
              "// Max number of bytes which will be uploaded at a time.\n",
              "const MAX_PAYLOAD_SIZE = 100 * 1024;\n",
              "\n",
              "function _uploadFiles(inputId, outputId) {\n",
              "  const steps = uploadFilesStep(inputId, outputId);\n",
              "  const outputElement = document.getElementById(outputId);\n",
              "  // Cache steps on the outputElement to make it available for the next call\n",
              "  // to uploadFilesContinue from Python.\n",
              "  outputElement.steps = steps;\n",
              "\n",
              "  return _uploadFilesContinue(outputId);\n",
              "}\n",
              "\n",
              "// This is roughly an async generator (not supported in the browser yet),\n",
              "// where there are multiple asynchronous steps and the Python side is going\n",
              "// to poll for completion of each step.\n",
              "// This uses a Promise to block the python side on completion of each step,\n",
              "// then passes the result of the previous step as the input to the next step.\n",
              "function _uploadFilesContinue(outputId) {\n",
              "  const outputElement = document.getElementById(outputId);\n",
              "  const steps = outputElement.steps;\n",
              "\n",
              "  const next = steps.next(outputElement.lastPromiseValue);\n",
              "  return Promise.resolve(next.value.promise).then((value) => {\n",
              "    // Cache the last promise value to make it available to the next\n",
              "    // step of the generator.\n",
              "    outputElement.lastPromiseValue = value;\n",
              "    return next.value.response;\n",
              "  });\n",
              "}\n",
              "\n",
              "/**\n",
              " * Generator function which is called between each async step of the upload\n",
              " * process.\n",
              " * @param {string} inputId Element ID of the input file picker element.\n",
              " * @param {string} outputId Element ID of the output display.\n",
              " * @return {!Iterable<!Object>} Iterable of next steps.\n",
              " */\n",
              "function* uploadFilesStep(inputId, outputId) {\n",
              "  const inputElement = document.getElementById(inputId);\n",
              "  inputElement.disabled = false;\n",
              "\n",
              "  const outputElement = document.getElementById(outputId);\n",
              "  outputElement.innerHTML = '';\n",
              "\n",
              "  const pickedPromise = new Promise((resolve) => {\n",
              "    inputElement.addEventListener('change', (e) => {\n",
              "      resolve(e.target.files);\n",
              "    });\n",
              "  });\n",
              "\n",
              "  const cancel = document.createElement('button');\n",
              "  inputElement.parentElement.appendChild(cancel);\n",
              "  cancel.textContent = 'Cancel upload';\n",
              "  const cancelPromise = new Promise((resolve) => {\n",
              "    cancel.onclick = () => {\n",
              "      resolve(null);\n",
              "    };\n",
              "  });\n",
              "\n",
              "  // Wait for the user to pick the files.\n",
              "  const files = yield {\n",
              "    promise: Promise.race([pickedPromise, cancelPromise]),\n",
              "    response: {\n",
              "      action: 'starting',\n",
              "    }\n",
              "  };\n",
              "\n",
              "  cancel.remove();\n",
              "\n",
              "  // Disable the input element since further picks are not allowed.\n",
              "  inputElement.disabled = true;\n",
              "\n",
              "  if (!files) {\n",
              "    return {\n",
              "      response: {\n",
              "        action: 'complete',\n",
              "      }\n",
              "    };\n",
              "  }\n",
              "\n",
              "  for (const file of files) {\n",
              "    const li = document.createElement('li');\n",
              "    li.append(span(file.name, {fontWeight: 'bold'}));\n",
              "    li.append(span(\n",
              "        `(${file.type || 'n/a'}) - ${file.size} bytes, ` +\n",
              "        `last modified: ${\n",
              "            file.lastModifiedDate ? file.lastModifiedDate.toLocaleDateString() :\n",
              "                                    'n/a'} - `));\n",
              "    const percent = span('0% done');\n",
              "    li.appendChild(percent);\n",
              "\n",
              "    outputElement.appendChild(li);\n",
              "\n",
              "    const fileDataPromise = new Promise((resolve) => {\n",
              "      const reader = new FileReader();\n",
              "      reader.onload = (e) => {\n",
              "        resolve(e.target.result);\n",
              "      };\n",
              "      reader.readAsArrayBuffer(file);\n",
              "    });\n",
              "    // Wait for the data to be ready.\n",
              "    let fileData = yield {\n",
              "      promise: fileDataPromise,\n",
              "      response: {\n",
              "        action: 'continue',\n",
              "      }\n",
              "    };\n",
              "\n",
              "    // Use a chunked sending to avoid message size limits. See b/62115660.\n",
              "    let position = 0;\n",
              "    do {\n",
              "      const length = Math.min(fileData.byteLength - position, MAX_PAYLOAD_SIZE);\n",
              "      const chunk = new Uint8Array(fileData, position, length);\n",
              "      position += length;\n",
              "\n",
              "      const base64 = btoa(String.fromCharCode.apply(null, chunk));\n",
              "      yield {\n",
              "        response: {\n",
              "          action: 'append',\n",
              "          file: file.name,\n",
              "          data: base64,\n",
              "        },\n",
              "      };\n",
              "\n",
              "      let percentDone = fileData.byteLength === 0 ?\n",
              "          100 :\n",
              "          Math.round((position / fileData.byteLength) * 100);\n",
              "      percent.textContent = `${percentDone}% done`;\n",
              "\n",
              "    } while (position < fileData.byteLength);\n",
              "  }\n",
              "\n",
              "  // All done.\n",
              "  yield {\n",
              "    response: {\n",
              "      action: 'complete',\n",
              "    }\n",
              "  };\n",
              "}\n",
              "\n",
              "scope.google = scope.google || {};\n",
              "scope.google.colab = scope.google.colab || {};\n",
              "scope.google.colab._files = {\n",
              "  _uploadFiles,\n",
              "  _uploadFilesContinue,\n",
              "};\n",
              "})(self);\n",
              "</script> "
            ]
          },
          "metadata": {}
        },
        {
          "output_type": "stream",
          "name": "stdout",
          "text": [
            "Saving Naukri_Data_Scientist_and_Data_Analytics_Jobs_Data.csv to Naukri_Data_Scientist_and_Data_Analytics_Jobs_Data.csv\n"
          ]
        }
      ]
    },
    {
      "cell_type": "code",
      "source": [
        "# Install PySpark\n",
        "!pip install pyspark\n",
        "\n",
        "# Import SparkSession and create a Spark session\n",
        "from pyspark.sql import SparkSession\n",
        "\n",
        "# Initialize Spark session\n",
        "spark = SparkSession.builder.appName(\"Naukri_Job_Data\").getOrCreate()\n"
      ],
      "metadata": {
        "colab": {
          "base_uri": "https://localhost:8080/"
        },
        "id": "BGWG7YZLaJ9P",
        "outputId": "e8d9827e-c816-4fc9-ae61-3fd5ce895a17"
      },
      "execution_count": null,
      "outputs": [
        {
          "output_type": "stream",
          "name": "stdout",
          "text": [
            "Requirement already satisfied: pyspark in /usr/local/lib/python3.10/dist-packages (3.5.3)\n",
            "Requirement already satisfied: py4j==0.10.9.7 in /usr/local/lib/python3.10/dist-packages (from pyspark) (0.10.9.7)\n"
          ]
        }
      ]
    },
    {
      "cell_type": "code",
      "source": [
        "# Load data into a PySpark DataFrame\n",
        "df_sentiment = spark.read.option(\"header\", \"true\").csv(\"Naukri_Data_Scientist_and_Data_Analytics_Jobs_Data.csv\", inferSchema=True)\n",
        "\n",
        "# Display the first 5 rows of the DataFrame to verify the columns\n",
        "df_sentiment.show(5)\n"
      ],
      "metadata": {
        "colab": {
          "base_uri": "https://localhost:8080/"
        },
        "id": "wZkRCOD5aPe3",
        "outputId": "9fdd9979-cd5f-4623-f374-5d92fd6fa0fb"
      },
      "execution_count": null,
      "outputs": [
        {
          "output_type": "stream",
          "name": "stdout",
          "text": [
            "+--------------------+--------------------+-------------------+-------------+--------------------+--------------------+\n",
            "|          Job Titles|       Company Names|Experience Required|      Package|           Locations|              Skills|\n",
            "+--------------------+--------------------+-------------------+-------------+--------------------+--------------------+\n",
            "|Manager - Digital...|                Resy|            4-8 Yrs|Not disclosed|    Gurgaon/Gurugram|Product managemen...|\n",
            "|Data Science Doma...|            Coursera|           7-11 Yrs|Not disclosed|Kolkata, Mumbai, ...|Computer scienceC...|\n",
            "|GN - Strategy - M...|           Accenture|            1-3 Yrs|Not disclosed|Mumbai, Hyderabad...|Change management...|\n",
            "|Data Science Manager|Foreign IT Consul...|            2-6 Yrs|Not disclosed|    Gurgaon/Gurugram|Operations resear...|\n",
            "|Data Science Manager|Foreign IT Consul...|            3-6 Yrs|Not disclosed|               Noida|Data analysisEDCR...|\n",
            "+--------------------+--------------------+-------------------+-------------+--------------------+--------------------+\n",
            "only showing top 5 rows\n",
            "\n"
          ]
        }
      ]
    },
    {
      "cell_type": "code",
      "source": [
        "# Show the schema of the DataFrame to check available columns\n",
        "df_sentiment.printSchema()\n",
        "\n",
        "# Display the first few rows of the DataFrame to inspect the data\n",
        "df_sentiment.show(5)\n"
      ],
      "metadata": {
        "colab": {
          "base_uri": "https://localhost:8080/"
        },
        "id": "T1VbfnaFac3w",
        "outputId": "43c3e1c6-a292-4d50-965c-2d89fcd5217e"
      },
      "execution_count": null,
      "outputs": [
        {
          "output_type": "stream",
          "name": "stdout",
          "text": [
            "root\n",
            " |-- Job Titles: string (nullable = true)\n",
            " |-- Company Names: string (nullable = true)\n",
            " |-- Experience Required: string (nullable = true)\n",
            " |-- Package: string (nullable = true)\n",
            " |-- Locations: string (nullable = true)\n",
            " |-- Skills: string (nullable = true)\n",
            "\n",
            "+--------------------+--------------------+-------------------+-------------+--------------------+--------------------+\n",
            "|          Job Titles|       Company Names|Experience Required|      Package|           Locations|              Skills|\n",
            "+--------------------+--------------------+-------------------+-------------+--------------------+--------------------+\n",
            "|Manager - Digital...|                Resy|            4-8 Yrs|Not disclosed|    Gurgaon/Gurugram|Product managemen...|\n",
            "|Data Science Doma...|            Coursera|           7-11 Yrs|Not disclosed|Kolkata, Mumbai, ...|Computer scienceC...|\n",
            "|GN - Strategy - M...|           Accenture|            1-3 Yrs|Not disclosed|Mumbai, Hyderabad...|Change management...|\n",
            "|Data Science Manager|Foreign IT Consul...|            2-6 Yrs|Not disclosed|    Gurgaon/Gurugram|Operations resear...|\n",
            "|Data Science Manager|Foreign IT Consul...|            3-6 Yrs|Not disclosed|               Noida|Data analysisEDCR...|\n",
            "+--------------------+--------------------+-------------------+-------------+--------------------+--------------------+\n",
            "only showing top 5 rows\n",
            "\n"
          ]
        }
      ]
    },
    {
      "cell_type": "code",
      "source": [
        "from pyspark.sql.functions import when\n",
        "\n",
        "# Create a True_Label based on the 'Package' column (this is just an example, you can adjust the logic)\n",
        "df_sentiment = df_sentiment.withColumn(\n",
        "    'True_Label',\n",
        "    when(df_sentiment['Package'] == 'Not disclosed', 0).otherwise(1)\n",
        ")\n",
        "\n",
        "# You can randomly create predicted labels for the sake of this experiment, or use an ML model to generate them\n",
        "import random\n",
        "df_sentiment = df_sentiment.withColumn(\n",
        "    'Predicted_Label',\n",
        "    when(df_sentiment['Package'] == 'Not disclosed', random.randint(0, 1)).otherwise(random.randint(0, 1))\n",
        ")\n",
        "\n",
        "# Show the updated DataFrame\n",
        "df_sentiment.show(5)\n"
      ],
      "metadata": {
        "colab": {
          "base_uri": "https://localhost:8080/"
        },
        "id": "ddHFLSbEaoy9",
        "outputId": "6aeab2c4-5905-4ce0-8e0c-525c1b0fe42e"
      },
      "execution_count": null,
      "outputs": [
        {
          "output_type": "stream",
          "name": "stdout",
          "text": [
            "+--------------------+--------------------+-------------------+-------------+--------------------+--------------------+----------+---------------+\n",
            "|          Job Titles|       Company Names|Experience Required|      Package|           Locations|              Skills|True_Label|Predicted_Label|\n",
            "+--------------------+--------------------+-------------------+-------------+--------------------+--------------------+----------+---------------+\n",
            "|Manager - Digital...|                Resy|            4-8 Yrs|Not disclosed|    Gurgaon/Gurugram|Product managemen...|         0|              0|\n",
            "|Data Science Doma...|            Coursera|           7-11 Yrs|Not disclosed|Kolkata, Mumbai, ...|Computer scienceC...|         0|              0|\n",
            "|GN - Strategy - M...|           Accenture|            1-3 Yrs|Not disclosed|Mumbai, Hyderabad...|Change management...|         0|              0|\n",
            "|Data Science Manager|Foreign IT Consul...|            2-6 Yrs|Not disclosed|    Gurgaon/Gurugram|Operations resear...|         0|              0|\n",
            "|Data Science Manager|Foreign IT Consul...|            3-6 Yrs|Not disclosed|               Noida|Data analysisEDCR...|         0|              0|\n",
            "+--------------------+--------------------+-------------------+-------------+--------------------+--------------------+----------+---------------+\n",
            "only showing top 5 rows\n",
            "\n"
          ]
        }
      ]
    },
    {
      "cell_type": "code",
      "source": [
        "# Filter out the relevant columns\n",
        "df_filtered = df_sentiment.select(\"True_Label\", \"Predicted_Label\").na.drop()\n",
        "\n",
        "# Convert to Pandas for calculating the confusion matrix\n",
        "df_pandas = df_filtered.toPandas()\n",
        "\n",
        "# Calculate the confusion matrix\n",
        "from sklearn.metrics import confusion_matrix\n",
        "\n",
        "true_labels = df_pandas['True_Label']\n",
        "predicted_labels = df_pandas['Predicted_Label']\n",
        "\n",
        "# Confusion matrix\n",
        "tn, fp, fn, tp = confusion_matrix(true_labels, predicted_labels).ravel()\n",
        "\n",
        "# Calculate metrics\n",
        "accuracy = (tp + tn) / (tp + tn + fp + fn)\n",
        "specificity = tn / (tn + fp)\n",
        "sensitivity = tp / (tp + fn)\n",
        "\n",
        "print(f'Accuracy: {accuracy:.2f}')\n",
        "print(f'Specificity: {specificity:.2f}')\n",
        "print(f'Sensitivity: {sensitivity:.2f}')\n"
      ],
      "metadata": {
        "colab": {
          "base_uri": "https://localhost:8080/"
        },
        "id": "NuBTjvRKatxQ",
        "outputId": "d404c0a1-e12f-4191-a466-b9c9c13e3dc8"
      },
      "execution_count": null,
      "outputs": [
        {
          "output_type": "stream",
          "name": "stdout",
          "text": [
            "Accuracy: 0.90\n",
            "Specificity: 1.00\n",
            "Sensitivity: 0.00\n"
          ]
        }
      ]
    },
    {
      "cell_type": "code",
      "source": [
        "from pyspark.ml.feature import VectorAssembler, StringIndexer\n",
        "\n",
        "# Encode categorical columns (if necessary)\n",
        "# Example: Converting categorical column 'Experience Required' to numeric\n",
        "indexer = StringIndexer(inputCol='Experience Required', outputCol='Experience_numeric')\n",
        "df_sentiment = indexer.fit(df_sentiment).transform(df_sentiment)\n",
        "\n",
        "# Similarly, you can encode other categorical columns if needed, like 'Package', 'Locations', etc.\n",
        "# For simplicity, let's proceed with 'Experience_numeric' as a feature\n",
        "\n",
        "# Create a VectorAssembler for combining feature columns into a single vector\n",
        "assembler = VectorAssembler(inputCols=['Experience_numeric'], outputCol='features')\n",
        "\n",
        "# Apply the assembler to create the 'features' column\n",
        "df_sentiment = assembler.transform(df_sentiment)\n",
        "\n",
        "# Show the DataFrame with the new 'features' column\n",
        "df_sentiment.select('features').show(5)\n"
      ],
      "metadata": {
        "colab": {
          "base_uri": "https://localhost:8080/"
        },
        "id": "nNm6toTUbehp",
        "outputId": "d5d6768c-273f-468e-8847-3fb06c70bbd8"
      },
      "execution_count": null,
      "outputs": [
        {
          "output_type": "stream",
          "name": "stdout",
          "text": [
            "+--------+\n",
            "|features|\n",
            "+--------+\n",
            "|  [15.0]|\n",
            "|  [45.0]|\n",
            "|   [4.0]|\n",
            "|  [12.0]|\n",
            "|   [5.0]|\n",
            "+--------+\n",
            "only showing top 5 rows\n",
            "\n"
          ]
        }
      ]
    },
    {
      "cell_type": "code",
      "source": [
        "from pyspark.ml.feature import StringIndexer\n",
        "\n",
        "# Use StringIndexer to convert 'Package' column to numeric\n",
        "indexer = StringIndexer(inputCol='Package', outputCol='Package_numeric')\n",
        "\n",
        "# Fit and transform the data\n",
        "df_sentiment = indexer.fit(df_sentiment).transform(df_sentiment)\n",
        "\n",
        "# Show the DataFrame to verify that 'Package_numeric' has been added\n",
        "df_sentiment.select('Package', 'Package_numeric').show(5)\n"
      ],
      "metadata": {
        "colab": {
          "base_uri": "https://localhost:8080/"
        },
        "id": "eqIlyvMubzgV",
        "outputId": "34fa8510-528d-4ff5-8f73-6961c3e67816"
      },
      "execution_count": null,
      "outputs": [
        {
          "output_type": "stream",
          "name": "stdout",
          "text": [
            "+-------------+---------------+\n",
            "|      Package|Package_numeric|\n",
            "+-------------+---------------+\n",
            "|Not disclosed|            0.0|\n",
            "|Not disclosed|            0.0|\n",
            "|Not disclosed|            0.0|\n",
            "|Not disclosed|            0.0|\n",
            "|Not disclosed|            0.0|\n",
            "+-------------+---------------+\n",
            "only showing top 5 rows\n",
            "\n"
          ]
        }
      ]
    },
    {
      "cell_type": "code",
      "source": [
        "# Drop the existing 'features' column if it exists\n",
        "if 'features' in df_sentiment.columns:\n",
        "    df_sentiment = df_sentiment.drop('features')\n",
        "\n",
        "# Apply the assembler to create the 'features' column\n",
        "df_sentiment = assembler.transform(df_sentiment)\n"
      ],
      "metadata": {
        "id": "Gme2AonacP5z"
      },
      "execution_count": null,
      "outputs": []
    },
    {
      "cell_type": "code",
      "source": [
        "# Assuming 'Package_numeric' is the label column you want to predict\n",
        "label_column = 'Package_numeric'  # Change this to the appropriate column name\n",
        "\n",
        "# Train Linear Regression Model\n",
        "linear_reg = LinearRegression(featuresCol='features', labelCol=label_column)\n",
        "linear_model = linear_reg.fit(train_data)\n",
        "linear_predictions = linear_model.transform(test_data)\n",
        "\n",
        "# Train Logistic Regression Model (ensure the label is binary)\n",
        "logistic_reg = LogisticRegression(featuresCol='features', labelCol=label_column)  # Make sure this column is suitable for logistic regression\n",
        "logistic_model = logistic_reg.fit(train_data)\n",
        "logistic_predictions = logistic_model.transform(test_data)\n",
        "\n",
        "# Train Ridge Regression Model\n",
        "ridge_reg = LinearRegression(featuresCol='features', labelCol=label_column, elasticNetParam=0.0, regParam=0.1)\n",
        "ridge_model = ridge_reg.fit(train_data)\n",
        "ridge_predictions = ridge_model.transform(test_data)\n"
      ],
      "metadata": {
        "id": "0Yk7yseecROE"
      },
      "execution_count": null,
      "outputs": []
    },
    {
      "cell_type": "code",
      "source": [
        "print(df_sentiment.columns)  # To view all available columns\n"
      ],
      "metadata": {
        "colab": {
          "base_uri": "https://localhost:8080/"
        },
        "id": "LgSBwDnxdQ_Z",
        "outputId": "1835ee1c-bba2-471d-a343-52daa9a89e1f"
      },
      "execution_count": null,
      "outputs": [
        {
          "output_type": "stream",
          "name": "stdout",
          "text": [
            "['Job Titles', 'Company Names', 'Experience Required', 'Package', 'Locations', 'Skills', 'True_Label', 'Predicted_Label', 'Experience_numeric', 'Package_numeric', 'features']\n"
          ]
        }
      ]
    },
    {
      "cell_type": "code",
      "source": [
        "from pyspark.ml.evaluation import RegressionEvaluator, BinaryClassificationEvaluator\n",
        "\n",
        "# Create evaluators\n",
        "linear_evaluator = RegressionEvaluator(labelCol=label_column, predictionCol='prediction', metricName='rmse')\n",
        "ridge_evaluator = RegressionEvaluator(labelCol=label_column, predictionCol='prediction', metricName='rmse')\n",
        "logistic_evaluator = BinaryClassificationEvaluator(labelCol=label_column, rawPredictionCol='prediction')\n",
        "\n",
        "# Evaluate Linear Regression\n",
        "linear_rmse = linear_evaluator.evaluate(linear_predictions)\n",
        "print(f'Linear Regression RMSE: {linear_rmse}')\n",
        "\n",
        "# Evaluate Ridge Regression\n",
        "ridge_rmse = ridge_evaluator.evaluate(ridge_predictions)\n",
        "print(f'Ridge Regression RMSE: {ridge_rmse}')\n",
        "\n",
        "# Evaluate Logistic Regression (make sure your prediction column represents binary classification)\n",
        "logistic_auc = logistic_evaluator.evaluate(logistic_predictions)\n",
        "print(f'Logistic Regression AUC: {logistic_auc}')\n"
      ],
      "metadata": {
        "colab": {
          "base_uri": "https://localhost:8080/"
        },
        "id": "D5M3BdlZdmPO",
        "outputId": "a4f23983-1cb2-4455-fb58-70c4db0c20a6"
      },
      "execution_count": null,
      "outputs": [
        {
          "output_type": "stream",
          "name": "stdout",
          "text": [
            "Linear Regression RMSE: 31.75540368820751\n",
            "Ridge Regression RMSE: 31.755373411721276\n",
            "Logistic Regression AUC: 0.5\n"
          ]
        }
      ]
    },
    {
      "cell_type": "code",
      "source": [
        "import matplotlib.pyplot as plt\n",
        "\n",
        "# Extract predictions for plotting\n",
        "linear_pred = linear_predictions.select(label_column, 'prediction').toPandas()\n",
        "logistic_pred = logistic_predictions.select(label_column, 'prediction').toPandas()\n",
        "ridge_pred = ridge_predictions.select(label_column, 'prediction').toPandas()\n",
        "\n",
        "plt.figure(figsize=(15, 5))\n",
        "\n",
        "# Linear Regression Plot\n",
        "plt.subplot(1, 3, 1)\n",
        "plt.scatter(linear_pred[label_column], linear_pred['prediction'], color='blue', alpha=0.5)\n",
        "plt.plot([linear_pred[label_column].min(), linear_pred[label_column].max()],\n",
        "         [linear_pred[label_column].min(), linear_pred[label_column].max()],\n",
        "         color='red', linewidth=2)\n",
        "plt.title('Linear Regression')\n",
        "plt.xlabel('Actual')\n",
        "plt.ylabel('Predicted')\n",
        "\n",
        "# Logistic Regression Plot (probabilities can be plotted for binary classification)\n",
        "plt.subplot(1, 3, 2)\n",
        "plt.scatter(logistic_pred[label_column], logistic_pred['prediction'], color='orange', alpha=0.5)\n",
        "plt.axhline(y=0.5, color='red', linestyle='--')\n",
        "plt.title('Logistic Regression')\n",
        "plt.xlabel('Actual')\n",
        "plt.ylabel('Predicted Probability')\n",
        "\n",
        "# Ridge Regression Plot\n",
        "plt.subplot(1, 3, 3)\n",
        "plt.scatter(ridge_pred[label_column], ridge_pred['prediction'], color='green', alpha=0.5)\n",
        "plt.plot([ridge_pred[label_column].min(), ridge_pred[label_column].max()],\n",
        "         [ridge_pred[label_column].min(), ridge_pred[label_column].max()],\n",
        "         color='red', linewidth=2)\n",
        "plt.title('Ridge Regression')\n",
        "plt.xlabel('Actual')\n",
        "plt.ylabel('Predicted')\n",
        "\n",
        "plt.tight_layout()\n",
        "plt.show()\n"
      ],
      "metadata": {
        "colab": {
          "base_uri": "https://localhost:8080/",
          "height": 442
        },
        "id": "HKIBXjmTdr8R",
        "outputId": "c2a1cd70-b2a9-48ab-d286-8cffd77c7fc3"
      },
      "execution_count": null,
      "outputs": [
        {
          "output_type": "display_data",
          "data": {
            "text/plain": [
              "<Figure size 1500x500 with 3 Axes>"
            ],
            "image/png": "[encoded data removed]"
          },
          "metadata": {}
        }
      ]
    },
    {
      "cell_type": "code",
      "source": [
        "from pyspark.sql.functions import col\n",
        "\n",
        "# Select relevant columns and create a confusion matrix\n",
        "predictions = logistic_predictions.select(label_column, 'prediction')\n",
        "\n",
        "# Convert predictions to binary (0 or 1)\n",
        "threshold = 0.5  # You can adjust this threshold if needed\n",
        "predictions = predictions.withColumn('prediction_binary', (col('prediction') > threshold).cast('integer'))\n",
        "\n",
        "# Create confusion matrix counts\n",
        "TP = predictions.filter((col(label_column) == 1) & (col('prediction_binary') == 1)).count()  # True Positives\n",
        "TN = predictions.filter((col(label_column) == 0) & (col('prediction_binary') == 0)).count()  # True Negatives\n",
        "FP = predictions.filter((col(label_column) == 0) & (col('prediction_binary') == 1)).count()  # False Positives\n",
        "FN = predictions.filter((col(label_column) == 1) & (col('prediction_binary') == 0)).count()  # False Negatives\n",
        "\n",
        "# Calculate metrics\n",
        "accuracy = (TP + TN) / (TP + TN + FP + FN)\n",
        "sensitivity = TP / (TP + FN) if (TP + FN) > 0 else 0  # Avoid division by zero\n",
        "specificity = TN / (TN + FP) if (TN + FP) > 0 else 0  # Avoid division by zero\n",
        "\n",
        "print(f'Accuracy: {accuracy}')\n",
        "print(f'Sensitivity: {sensitivity}')\n",
        "print(f'Specificity: {specificity}')\n"
      ],
      "metadata": {
        "colab": {
          "base_uri": "https://localhost:8080/"
        },
        "id": "aFQaXnpIeHrk",
        "outputId": "8fdfaf71-c755-4a7e-f0c2-06ab89ba024a"
      },
      "execution_count": null,
      "outputs": [
        {
          "output_type": "stream",
          "name": "stdout",
          "text": [
            "Accuracy: 0.9878324844368988\n",
            "Sensitivity: 0.0\n",
            "Specificity: 1.0\n"
          ]
        }
      ]
    },
    {
      "cell_type": "code",
      "source": [
        "import matplotlib.pyplot as plt\n",
        "\n",
        "# Metrics for visualization\n",
        "metrics = ['Accuracy', 'Sensitivity', 'Specificity']\n",
        "values = [accuracy, sensitivity, specificity]\n",
        "\n",
        "plt.figure(figsize=(8, 5))\n",
        "plt.bar(metrics, values, color=['blue', 'orange', 'green'])\n",
        "plt.ylim(0, 1)  # Set y-axis limits\n",
        "plt.title('Model Performance Metrics')\n",
        "plt.xlabel('Metrics')\n",
        "plt.ylabel('Values')\n",
        "plt.axhline(y=0.5, color='red', linestyle='--', label='Baseline (0.5)')\n",
        "plt.legend()\n",
        "plt.show()\n"
      ],
      "metadata": {
        "colab": {
          "base_uri": "https://localhost:8080/",
          "height": 487
        },
        "id": "zONC7vOceMNo",
        "outputId": "cd0243fa-2e63-443f-a0f2-e35ab107fca3"
      },
      "execution_count": null,
      "outputs": [
        {
          "output_type": "display_data",
          "data": {
            "text/plain": [
              "<Figure size 800x500 with 1 Axes>"
            ],
            "image/png": "[encoded data removed]"
          },
          "metadata": {}
        }
      ]
    },
    {
      "cell_type": "code",
      "source": [
        "import matplotlib.pyplot as plt\n",
        "\n",
        "# Assuming you have the values for accuracy, sensitivity, and specificity for each model\n",
        "models = ['Logistic Regression', 'Ridge Regression', 'Lasso Regression']\n",
        "\n",
        "# Replace these with your actual values\n",
        "accuracy_values = [0.95, 0.92, 0.93]  # Example values for accuracy\n",
        "sensitivity_values = [0.88, 0.85, 0.87]  # Example values for sensitivity\n",
        "specificity_values = [0.90, 0.87, 0.89]  # Example values for specificity\n",
        "\n",
        "# Plot the performance comparison\n",
        "plt.figure(figsize=(8, 5))\n",
        "\n",
        "# Plot for Accuracy\n",
        "plt.plot(models, accuracy_values, marker='o', color='blue', label='Accuracy')\n",
        "\n",
        "# Plot for Sensitivity\n",
        "plt.plot(models, sensitivity_values, marker='o', color='green', label='Sensitivity')\n",
        "\n",
        "# Plot for Specificity\n",
        "plt.plot(models, specificity_values, marker='o', color='red', label='Specificity')\n",
        "\n",
        "# Adding titles and labels\n",
        "plt.title('Performance Comparison of Regression Models')\n",
        "plt.ylabel('Scores')\n",
        "plt.ylim([0, 1])  # Limit y-axis from 0 to 1\n",
        "plt.legend(loc='lower left')\n",
        "\n",
        "# Show the plot\n",
        "plt.grid(True)\n",
        "plt.show()\n"
      ],
      "metadata": {
        "colab": {
          "base_uri": "https://localhost:8080/",
          "height": 468
        },
        "id": "wjkEbcvofRI6",
        "outputId": "125232ed-aeae-4894-ab63-5d3332d2b9c6"
      },
      "execution_count": null,
      "outputs": [
        {
          "output_type": "display_data",
          "data": {
            "text/plain": [
              "<Figure size 800x500 with 1 Axes>"
            ],
            "image/png": "[encoded data removed]"
          },
          "metadata": {}
        }
      ]
    }
  ]
}