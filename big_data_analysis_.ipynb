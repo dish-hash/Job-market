{
  "nbformat": 4,
  "nbformat_minor": 0,
  "metadata": {
    "colab": {
      "provenance": [],
      "authorship_tag": "ABX9TyPA3lIvi2b56Cl0/RMYqo2d",
      "include_colab_link": true
    },
    "kernelspec": {
      "name": "python3",
      "display_name": "Python 3"
    },
    "language_info": {
      "name": "python"
    }
  },
  "cells": [
    {
      "cell_type": "markdown",
      "metadata": {
        "id": "view-in-github",
        "colab_type": "text"
      },
      "source": [
        "<a href=\"https://colab.research.google.com/github/dish-hash/Job-market/blob/main/big_data_analysis_.ipynb\" target=\"_parent\"><img src=\"https://colab.research.google.com/assets/colab-badge.svg\" alt=\"Open In Colab\"/></a>"
      ]
    },
    {
      "cell_type": "code",
      "execution_count": null,
      "metadata": {
        "colab": {
          "base_uri": "https://localhost:8080/"
        },
        "id": "-UW-eyY_C93H",
        "outputId": "347ddc57-1183-40eb-ed48-ccab209d123e"
      },
      "outputs": [
        {
          "output_type": "stream",
          "name": "stdout",
          "text": [
            "Collecting pyspark\n",
            "  Downloading pyspark-3.5.3.tar.gz (317.3 MB)\n",
            "\u001b[2K     \u001b[90m━━━━━━━━━━━━━━━━━━━━━━━━━━━━━━━━━━━━━━━━\u001b[0m \u001b[32m317.3/317.3 MB\u001b[0m \u001b[31m4.4 MB/s\u001b[0m eta \u001b[36m0:00:00\u001b[0m\n",
            "\u001b[?25h  Preparing metadata (setup.py) ... \u001b[?25l\u001b[?25hdone\n",
            "Requirement already satisfied: py4j==0.10.9.7 in /usr/local/lib/python3.10/dist-packages (from pyspark) (0.10.9.7)\n",
            "Building wheels for collected packages: pyspark\n",
            "  Building wheel for pyspark (setup.py) ... \u001b[?25l\u001b[?25hdone\n",
            "  Created wheel for pyspark: filename=pyspark-3.5.3-py2.py3-none-any.whl size=317840625 sha256=ad91d2f33c0cfbe9678f38d1a1878282d470dc43e8f97eb2fbc029eed9e844c6\n",
            "  Stored in directory: /root/.cache/pip/wheels/1b/3a/92/28b93e2fbfdbb07509ca4d6f50c5e407f48dce4ddbda69a4ab\n",
            "Successfully built pyspark\n",
            "Installing collected packages: pyspark\n",
            "Successfully installed pyspark-3.5.3\n"
          ]
        }
      ],
      "source": [
        "!pip install pyspark\n"
      ]
    },
    {
      "cell_type": "code",
      "source": [
        "from pyspark.sql import SparkSession\n",
        "spark = SparkSession.builder.master(\"local[*]\").appName(\"Job Market Analysis\").getOrCreate()\n"
      ],
      "metadata": {
        "id": "jEQDwMkPFrt5"
      },
      "execution_count": null,
      "outputs": []
    },
    {
      "cell_type": "code",
      "source": [
        "from google.colab import files\n",
        "uploaded = files.upload()  # Upload your CSV file\n"
      ],
      "metadata": {
        "colab": {
          "base_uri": "https://localhost:8080/",
          "height": 73
        },
        "id": "u986CN44F0sj",
        "outputId": "7d820259-ffae-4707-d624-ec260c91d233"
      },
      "execution_count": null,
      "outputs": [
        {
          "output_type": "display_data",
          "data": {
            "text/plain": [
              "<IPython.core.display.HTML object>"
            ],
            "text/html": [
              "\n",
              "     <input type=\"file\" id=\"files-b1f74c67-8320-46ba-b035-8c22358062b5\" name=\"files[]\" multiple disabled\n",
              "        style=\"border:none\" />\n",
              "     <output id=\"result-b1f74c67-8320-46ba-b035-8c22358062b5\">\n",
              "      Upload widget is only available when the cell has been executed in the\n",
              "      current browser session. Please rerun this cell to enable.\n",
              "      </output>\n",
              "      <script>// Copyright 2017 Google LLC\n",
              "//\n",
              "// Licensed under the Apache License, Version 2.0 (the \"License\");\n",
              "// you may not use this file except in compliance with the License.\n",
              "// You may obtain a copy of the License at\n",
              "//\n",
              "//      http://www.apache.org/licenses/LICENSE-2.0\n",
              "//\n",
              "// Unless required by applicable law or agreed to in writing, software\n",
              "// distributed under the License is distributed on an \"AS IS\" BASIS,\n",
              "// WITHOUT WARRANTIES OR CONDITIONS OF ANY KIND, either express or implied.\n",
              "// See the License for the specific language governing permissions and\n",
              "// limitations under the License.\n",
              "\n",
              "/**\n",
              " * @fileoverview Helpers for google.colab Python module.\n",
              " */\n",
              "(function(scope) {\n",
              "function span(text, styleAttributes = {}) {\n",
              "  const element = document.createElement('span');\n",
              "  element.textContent = text;\n",
              "  for (const key of Object.keys(styleAttributes)) {\n",
              "    element.style[key] = styleAttributes[key];\n",
              "  }\n",
              "  return element;\n",
              "}\n",
              "\n",
              "// Max number of bytes which will be uploaded at a time.\n",
              "const MAX_PAYLOAD_SIZE = 100 * 1024;\n",
              "\n",
              "function _uploadFiles(inputId, outputId) {\n",
              "  const steps = uploadFilesStep(inputId, outputId);\n",
              "  const outputElement = document.getElementById(outputId);\n",
              "  // Cache steps on the outputElement to make it available for the next call\n",
              "  // to uploadFilesContinue from Python.\n",
              "  outputElement.steps = steps;\n",
              "\n",
              "  return _uploadFilesContinue(outputId);\n",
              "}\n",
              "\n",
              "// This is roughly an async generator (not supported in the browser yet),\n",
              "// where there are multiple asynchronous steps and the Python side is going\n",
              "// to poll for completion of each step.\n",
              "// This uses a Promise to block the python side on completion of each step,\n",
              "// then passes the result of the previous step as the input to the next step.\n",
              "function _uploadFilesContinue(outputId) {\n",
              "  const outputElement = document.getElementById(outputId);\n",
              "  const steps = outputElement.steps;\n",
              "\n",
              "  const next = steps.next(outputElement.lastPromiseValue);\n",
              "  return Promise.resolve(next.value.promise).then((value) => {\n",
              "    // Cache the last promise value to make it available to the next\n",
              "    // step of the generator.\n",
              "    outputElement.lastPromiseValue = value;\n",
              "    return next.value.response;\n",
              "  });\n",
              "}\n",
              "\n",
              "/**\n",
              " * Generator function which is called between each async step of the upload\n",
              " * process.\n",
              " * @param {string} inputId Element ID of the input file picker element.\n",
              " * @param {string} outputId Element ID of the output display.\n",
              " * @return {!Iterable<!Object>} Iterable of next steps.\n",
              " */\n",
              "function* uploadFilesStep(inputId, outputId) {\n",
              "  const inputElement = document.getElementById(inputId);\n",
              "  inputElement.disabled = false;\n",
              "\n",
              "  const outputElement = document.getElementById(outputId);\n",
              "  outputElement.innerHTML = '';\n",
              "\n",
              "  const pickedPromise = new Promise((resolve) => {\n",
              "    inputElement.addEventListener('change', (e) => {\n",
              "      resolve(e.target.files);\n",
              "    });\n",
              "  });\n",
              "\n",
              "  const cancel = document.createElement('button');\n",
              "  inputElement.parentElement.appendChild(cancel);\n",
              "  cancel.textContent = 'Cancel upload';\n",
              "  const cancelPromise = new Promise((resolve) => {\n",
              "    cancel.onclick = () => {\n",
              "      resolve(null);\n",
              "    };\n",
              "  });\n",
              "\n",
              "  // Wait for the user to pick the files.\n",
              "  const files = yield {\n",
              "    promise: Promise.race([pickedPromise, cancelPromise]),\n",
              "    response: {\n",
              "      action: 'starting',\n",
              "    }\n",
              "  };\n",
              "\n",
              "  cancel.remove();\n",
              "\n",
              "  // Disable the input element since further picks are not allowed.\n",
              "  inputElement.disabled = true;\n",
              "\n",
              "  if (!files) {\n",
              "    return {\n",
              "      response: {\n",
              "        action: 'complete',\n",
              "      }\n",
              "    };\n",
              "  }\n",
              "\n",
              "  for (const file of files) {\n",
              "    const li = document.createElement('li');\n",
              "    li.append(span(file.name, {fontWeight: 'bold'}));\n",
              "    li.append(span(\n",
              "        `(${file.type || 'n/a'}) - ${file.size} bytes, ` +\n",
              "        `last modified: ${\n",
              "            file.lastModifiedDate ? file.lastModifiedDate.toLocaleDateString() :\n",
              "                                    'n/a'} - `));\n",
              "    const percent = span('0% done');\n",
              "    li.appendChild(percent);\n",
              "\n",
              "    outputElement.appendChild(li);\n",
              "\n",
              "    const fileDataPromise = new Promise((resolve) => {\n",
              "      const reader = new FileReader();\n",
              "      reader.onload = (e) => {\n",
              "        resolve(e.target.result);\n",
              "      };\n",
              "      reader.readAsArrayBuffer(file);\n",
              "    });\n",
              "    // Wait for the data to be ready.\n",
              "    let fileData = yield {\n",
              "      promise: fileDataPromise,\n",
              "      response: {\n",
              "        action: 'continue',\n",
              "      }\n",
              "    };\n",
              "\n",
              "    // Use a chunked sending to avoid message size limits. See b/62115660.\n",
              "    let position = 0;\n",
              "    do {\n",
              "      const length = Math.min(fileData.byteLength - position, MAX_PAYLOAD_SIZE);\n",
              "      const chunk = new Uint8Array(fileData, position, length);\n",
              "      position += length;\n",
              "\n",
              "      const base64 = btoa(String.fromCharCode.apply(null, chunk));\n",
              "      yield {\n",
              "        response: {\n",
              "          action: 'append',\n",
              "          file: file.name,\n",
              "          data: base64,\n",
              "        },\n",
              "      };\n",
              "\n",
              "      let percentDone = fileData.byteLength === 0 ?\n",
              "          100 :\n",
              "          Math.round((position / fileData.byteLength) * 100);\n",
              "      percent.textContent = `${percentDone}% done`;\n",
              "\n",
              "    } while (position < fileData.byteLength);\n",
              "  }\n",
              "\n",
              "  // All done.\n",
              "  yield {\n",
              "    response: {\n",
              "      action: 'complete',\n",
              "    }\n",
              "  };\n",
              "}\n",
              "\n",
              "scope.google = scope.google || {};\n",
              "scope.google.colab = scope.google.colab || {};\n",
              "scope.google.colab._files = {\n",
              "  _uploadFiles,\n",
              "  _uploadFilesContinue,\n",
              "};\n",
              "})(self);\n",
              "</script> "
            ]
          },
          "metadata": {}
        },
        {
          "output_type": "stream",
          "name": "stdout",
          "text": [
            "Saving Naukri_Data_Scientist_and_Data_Analytics_Jobs_Data.csv to Naukri_Data_Scientist_and_Data_Analytics_Jobs_Data.csv\n"
          ]
        }
      ]
    },
    {
      "cell_type": "code",
      "source": [
        "df = spark.read.option(\"header\", \"true\").csv(\"Naukri_Data_Scientist_and_Data_Analytics_Jobs_Data.csv\")\n",
        "df.show(5)\n"
      ],
      "metadata": {
        "colab": {
          "base_uri": "https://localhost:8080/"
        },
        "id": "kWa1Atj3GRel",
        "outputId": "8c36da43-407a-4946-b1db-fb2b3f862cd8"
      },
      "execution_count": null,
      "outputs": [
        {
          "output_type": "stream",
          "name": "stdout",
          "text": [
            "+--------------------+--------------------+-------------------+-------------+--------------------+--------------------+\n",
            "|          Job Titles|       Company Names|Experience Required|      Package|           Locations|              Skills|\n",
            "+--------------------+--------------------+-------------------+-------------+--------------------+--------------------+\n",
            "|Manager - Digital...|                Resy|            4-8 Yrs|Not disclosed|    Gurgaon/Gurugram|Product managemen...|\n",
            "|Data Science Doma...|            Coursera|           7-11 Yrs|Not disclosed|Kolkata, Mumbai, ...|Computer scienceC...|\n",
            "|GN - Strategy - M...|           Accenture|            1-3 Yrs|Not disclosed|Mumbai, Hyderabad...|Change management...|\n",
            "|Data Science Manager|Foreign IT Consul...|            2-6 Yrs|Not disclosed|    Gurgaon/Gurugram|Operations resear...|\n",
            "|Data Science Manager|Foreign IT Consul...|            3-6 Yrs|Not disclosed|               Noida|Data analysisEDCR...|\n",
            "+--------------------+--------------------+-------------------+-------------+--------------------+--------------------+\n",
            "only showing top 5 rows\n",
            "\n"
          ]
        }
      ]
    },
    {
      "cell_type": "code",
      "source": [
        "df = df.na.drop()  # Drop rows with any null values\n"
      ],
      "metadata": {
        "id": "a2FbL3oMHIEE"
      },
      "execution_count": null,
      "outputs": []
    },
    {
      "cell_type": "code",
      "source": [
        "from pyspark.sql.functions import regexp_replace, col\n",
        "\n",
        "# Remove any non-numeric characters from the 'Package' column and create 'salary_clean'\n",
        "df = df.withColumn(\"salary_clean\", regexp_replace(col(\"Package\"), \"[^0-9]\", \"\").cast(\"integer\"))\n"
      ],
      "metadata": {
        "id": "svQBYu0JHK4h"
      },
      "execution_count": null,
      "outputs": []
    },
    {
      "cell_type": "code",
      "source": [
        "from pyspark.sql.functions import when, col\n",
        "\n",
        "# Categorizing job titles into predefined categories based on the 'Job Titles' column\n",
        "df = df.withColumn(\"job_category\",\n",
        "                   when(col(\"Job Titles\").like(\"%Data Scientist%\"), \"Data Scientist\")\n",
        "                   .when(col(\"Job Titles\").like(\"%Software Engineer%\"), \"Software Engineer\")\n",
        "                   .otherwise(\"Other\"))\n"
      ],
      "metadata": {
        "id": "nbRIK0X_Hp2H"
      },
      "execution_count": null,
      "outputs": []
    },
    {
      "cell_type": "code",
      "source": [
        "df.printSchema()\n"
      ],
      "metadata": {
        "colab": {
          "base_uri": "https://localhost:8080/"
        },
        "id": "UOTLtgreH3xB",
        "outputId": "e7f497f9-52b1-4ac9-c422-13c80793af40"
      },
      "execution_count": null,
      "outputs": [
        {
          "output_type": "stream",
          "name": "stdout",
          "text": [
            "root\n",
            " |-- Job Titles: string (nullable = true)\n",
            " |-- Company Names: string (nullable = true)\n",
            " |-- Experience Required: string (nullable = true)\n",
            " |-- Package: string (nullable = true)\n",
            " |-- Locations: string (nullable = true)\n",
            " |-- Skills: string (nullable = true)\n",
            " |-- salary_clean: integer (nullable = true)\n",
            " |-- job_category: string (nullable = false)\n",
            "\n"
          ]
        }
      ]
    },
    {
      "cell_type": "code",
      "source": [
        "from pyspark.sql.functions import lit\n",
        "\n",
        "# Assuming data is from June 2023\n",
        "df = df.withColumn(\"year\", lit(2023))\n",
        "df = df.withColumn(\"month\", lit(6))\n",
        "\n",
        "df.show(5)\n"
      ],
      "metadata": {
        "colab": {
          "base_uri": "https://localhost:8080/"
        },
        "id": "6W1Gzp6HIhV-",
        "outputId": "e234b34e-e071-4f89-82d9-5466fee6bf3e"
      },
      "execution_count": null,
      "outputs": [
        {
          "output_type": "stream",
          "name": "stdout",
          "text": [
            "+--------------------+--------------------+-------------------+-------------+--------------------+--------------------+------------+------------+----+-----+\n",
            "|          Job Titles|       Company Names|Experience Required|      Package|           Locations|              Skills|salary_clean|job_category|year|month|\n",
            "+--------------------+--------------------+-------------------+-------------+--------------------+--------------------+------------+------------+----+-----+\n",
            "|Manager - Digital...|                Resy|            4-8 Yrs|Not disclosed|    Gurgaon/Gurugram|Product managemen...|        NULL|       Other|2023|    6|\n",
            "|Data Science Doma...|            Coursera|           7-11 Yrs|Not disclosed|Kolkata, Mumbai, ...|Computer scienceC...|        NULL|       Other|2023|    6|\n",
            "|GN - Strategy - M...|           Accenture|            1-3 Yrs|Not disclosed|Mumbai, Hyderabad...|Change management...|        NULL|       Other|2023|    6|\n",
            "|Data Science Manager|Foreign IT Consul...|            2-6 Yrs|Not disclosed|    Gurgaon/Gurugram|Operations resear...|        NULL|       Other|2023|    6|\n",
            "|Data Science Manager|Foreign IT Consul...|            3-6 Yrs|Not disclosed|               Noida|Data analysisEDCR...|        NULL|       Other|2023|    6|\n",
            "+--------------------+--------------------+-------------------+-------------+--------------------+--------------------+------------+------------+----+-----+\n",
            "only showing top 5 rows\n",
            "\n"
          ]
        }
      ]
    },
    {
      "cell_type": "code",
      "source": [
        "from pyspark.sql.functions import explode, split\n",
        "\n",
        "# Split the 'Skills' column into individual skills, and explode into separate rows\n",
        "skills_df = df.withColumn(\"skill\", explode(split(col(\"Skills\"), \",\")))\n",
        "\n",
        "# Group by skill and count the occurrences to find the most demanded skills\n",
        "skill_demand = skills_df.groupBy(\"skill\").count().orderBy(\"count\", ascending=False)\n",
        "skill_demand.show(10)  # Show top 10 most demanded skills\n"
      ],
      "metadata": {
        "colab": {
          "base_uri": "https://localhost:8080/"
        },
        "id": "xVbb76LVI1xj",
        "outputId": "869bcb48-7315-4ae4-f388-d45338141db9"
      },
      "execution_count": null,
      "outputs": [
        {
          "output_type": "stream",
          "name": "stdout",
          "text": [
            "+--------------------+-----+\n",
            "|               skill|count|\n",
            "+--------------------+-----+\n",
            "|                None|  183|\n",
            "|Business AnalystB...|   38|\n",
            "|Business Analystb...|   32|\n",
            "|Product managemen...|   14|\n",
            "|Junior StaffBusin...|   14|\n",
            "|Business Analystp...|   14|\n",
            "|data cleansingRep...|   12|\n",
            "|Supply chainAutom...|   11|\n",
            "|ProcurementData a...|   11|\n",
            "|Data analysisAuto...|   10|\n",
            "+--------------------+-----+\n",
            "only showing top 10 rows\n",
            "\n"
          ]
        }
      ]
    },
    {
      "cell_type": "code",
      "source": [
        "# Group by 'job_category' and count the number of jobs in each category\n",
        "job_category_trend = df.groupBy(\"job_category\").count().orderBy(\"count\", ascending=False)\n",
        "job_category_trend.show()\n"
      ],
      "metadata": {
        "colab": {
          "base_uri": "https://localhost:8080/"
        },
        "id": "tumjT-ZBI8m8",
        "outputId": "d6d106b4-180d-4160-d221-d25baebbce0f"
      },
      "execution_count": null,
      "outputs": [
        {
          "output_type": "stream",
          "name": "stdout",
          "text": [
            "+-----------------+-----+\n",
            "|     job_category|count|\n",
            "+-----------------+-----+\n",
            "|            Other|17820|\n",
            "|   Data Scientist| 1700|\n",
            "|Software Engineer|  123|\n",
            "+-----------------+-----+\n",
            "\n"
          ]
        }
      ]
    },
    {
      "cell_type": "code",
      "source": [
        "# Filter out rows where salary_clean is NULL\n",
        "salary_df = df.filter(df.salary_clean.isNotNull())\n",
        "\n",
        "# Group by 'job_category' to find average salary for each category\n",
        "salary_trend = salary_df.groupBy(\"job_category\").avg(\"salary_clean\").orderBy(\"avg(salary_clean)\", ascending=False)\n",
        "salary_trend.show()\n"
      ],
      "metadata": {
        "colab": {
          "base_uri": "https://localhost:8080/"
        },
        "id": "EbTaXlybJB3l",
        "outputId": "952bb102-6b58-4eba-9c8d-ab9ab4b72719"
      },
      "execution_count": null,
      "outputs": [
        {
          "output_type": "stream",
          "name": "stdout",
          "text": [
            "+-----------------+------------------+\n",
            "|     job_category| avg(salary_clean)|\n",
            "+-----------------+------------------+\n",
            "|   Data Scientist|416060.37096774194|\n",
            "|            Other| 309925.5460526316|\n",
            "|Software Engineer| 92605.55555555556|\n",
            "+-----------------+------------------+\n",
            "\n"
          ]
        }
      ]
    },
    {
      "cell_type": "code",
      "source": [
        "# Group by 'year' and 'month' to see how many jobs were posted in June 2023 (since all are 2023-06)\n",
        "time_trend = df.groupBy(\"year\", \"month\").count().orderBy(\"year\", \"month\")\n",
        "time_trend.show()\n"
      ],
      "metadata": {
        "colab": {
          "base_uri": "https://localhost:8080/"
        },
        "id": "VfcuAiiJJJ1S",
        "outputId": "ecf82416-dfa4-4de5-8499-d2f620ea376f"
      },
      "execution_count": null,
      "outputs": [
        {
          "output_type": "stream",
          "name": "stdout",
          "text": [
            "+----+-----+-----+\n",
            "|year|month|count|\n",
            "+----+-----+-----+\n",
            "|2023|    6|19643|\n",
            "+----+-----+-----+\n",
            "\n"
          ]
        }
      ]
    },
    {
      "cell_type": "code",
      "source": [
        "# Explode skills column and group by job category and skill\n",
        "skill_demand_by_category = skills_df.groupBy(\"job_category\", \"skill\").count().orderBy(\"count\", ascending=False)\n",
        "skill_demand_by_category.show(10)  # Show top 10 demanded skills by job category\n"
      ],
      "metadata": {
        "colab": {
          "base_uri": "https://localhost:8080/"
        },
        "id": "VrAVaqT8JO3D",
        "outputId": "a242e8f7-6b2d-4d50-cd80-08739de68913"
      },
      "execution_count": null,
      "outputs": [
        {
          "output_type": "stream",
          "name": "stdout",
          "text": [
            "+------------+--------------------+-----+\n",
            "|job_category|               skill|count|\n",
            "+------------+--------------------+-----+\n",
            "|       Other|                None|  182|\n",
            "|       Other|Business AnalystB...|   38|\n",
            "|       Other|Business Analystb...|   32|\n",
            "|       Other|Product managemen...|   14|\n",
            "|       Other|Business Analystp...|   14|\n",
            "|       Other|Junior StaffBusin...|   13|\n",
            "|       Other|ProcurementData a...|   11|\n",
            "|       Other|data cleansingRep...|   11|\n",
            "|       Other|Data analysisAuto...|   10|\n",
            "|       Other|Help DeskCustomer...|   10|\n",
            "+------------+--------------------+-----+\n",
            "only showing top 10 rows\n",
            "\n"
          ]
        }
      ]
    },
    {
      "cell_type": "code",
      "source": [
        "import pandas as pd\n",
        "import matplotlib.pyplot as plt\n",
        "\n",
        "# Convert to Pandas DataFrame after grouping by job_category\n",
        "job_category_trends = df.groupBy(\"job_category\").count().orderBy(\"count\", ascending=False)\n",
        "job_category_trends_pd = job_category_trends.toPandas()\n",
        "\n",
        "# Plot job category trends\n",
        "plt.figure(figsize=(10,6))\n",
        "plt.bar(job_category_trends_pd['job_category'], job_category_trends_pd['count'])\n",
        "plt.xlabel('Job Category')\n",
        "plt.ylabel('Number of Job Postings')\n",
        "plt.title('Job Postings by Category')\n",
        "plt.xticks(rotation=45)  # Rotate x labels for better readability\n",
        "plt.tight_layout()\n",
        "plt.show()\n"
      ],
      "metadata": {
        "colab": {
          "base_uri": "https://localhost:8080/",
          "height": 607
        },
        "id": "H4ocXlqzJzfY",
        "outputId": "2a53a4aa-c800-4eb5-8c26-19b78974ed8b"
      },
      "execution_count": null,
      "outputs": [
        {
          "output_type": "display_data",
          "data": {
            "text/plain": [
              "<Figure size 1000x600 with 1 Axes>"
            ],
            "image/png": "[encoded data removed]"
          },
          "metadata": {}
        }
      ]
    }
  ]
}